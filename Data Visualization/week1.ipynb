{
 "cells": [
  {
   "cell_type": "code",
   "execution_count": 34,
   "metadata": {},
   "outputs": [],
   "source": [
    "import pandas as pd\n",
    "import numpy as np"
   ]
  },
  {
   "cell_type": "code",
   "execution_count": 35,
   "metadata": {},
   "outputs": [
    {
     "name": "stdout",
     "output_type": "stream",
     "text": [
      "Initial DataFrame:\n",
      "        name symbol  atomic_number\n",
      "0   Hydrogen      H              1\n",
      "1     Helium     He              2\n",
      "2    Lithium     Li              3\n",
      "3  Beryllium     Be              4\n",
      "4      Boron      B              5\n",
      "5     Carbon      C              6\n",
      "6   Nitrogen      N              7\n",
      "7     Oxygen      O              8\n"
     ]
    }
   ],
   "source": [
    "# Assignment 1\n",
    "# Construct a CSV with the first eight elements of the periodic table of elements.\n",
    "# Include columns containing name, symbol, and atomic number.  Read that into a pandas DataFrame.\n",
    "\n",
    "# Create a list of dictionaries, where each dictionary represents an element\n",
    "elements = [\n",
    "    {'name': 'Hydrogen', 'symbol': 'H', 'atomic_number': 1},\n",
    "    {'name': 'Helium', 'symbol': 'He', 'atomic_number': 2},\n",
    "    {'name': 'Lithium', 'symbol': 'Li', 'atomic_number': 3},\n",
    "    {'name': 'Beryllium', 'symbol': 'Be', 'atomic_number': 4},\n",
    "    {'name': 'Boron', 'symbol': 'B', 'atomic_number': 5},\n",
    "    {'name': 'Carbon', 'symbol': 'C', 'atomic_number': 6},\n",
    "    {'name': 'Nitrogen', 'symbol': 'N', 'atomic_number': 7},\n",
    "    {'name': 'Oxygen', 'symbol': 'O', 'atomic_number': 8}\n",
    "]\n",
    "\n",
    "# Create a pandas DataFrame from the list of dictionaries\n",
    "periodic_table_1 = pd.DataFrame(elements)\n",
    "\n",
    "# Save the DataFrame to a CSV file\n",
    "periodic_table_1.to_csv('periodic_table.csv', index=False)\n",
    "\n",
    "# Read the CSV file into a pandas DataFrame\n",
    "periodic_table_df = pd.read_csv('periodic_table.csv')\n",
    "\n",
    "# Print the DataFrame\n",
    "print(\"Initial DataFrame:\")\n",
    "print(periodic_table_df)"
   ]
  },
  {
   "cell_type": "code",
   "execution_count": 36,
   "metadata": {},
   "outputs": [
    {
     "name": "stdout",
     "output_type": "stream",
     "text": [
      "        name symbol  atomic_number\n",
      "0   Hydrogen      H              1\n",
      "1     Helium     He              2\n",
      "2    Lithium     Li              3\n",
      "3  Beryllium     Be              4\n",
      "4      Boron      B              5\n",
      "5     Carbon      C              6\n",
      "6   Nitrogen      N              7\n",
      "7     Oxygen      O              8\n",
      "8   Fluorine      F              9\n",
      "9       Neon     Ne             10\n"
     ]
    }
   ],
   "source": [
    "# Inside the program add a ninth and tenth element.\n",
    "# Additional elements\n",
    "additional_elements = [\n",
    "    {'name': 'Fluorine', 'symbol': 'F', 'atomic_number': 9},\n",
    "    {'name': 'Neon', 'symbol': 'Ne', 'atomic_number': 10}\n",
    "]\n",
    "# Create a pandas DataFrame from the additional list of dictionaries\n",
    "periodic_table_2 = pd.DataFrame(additional_elements)\n",
    "\n",
    "# Concatenate the two DataFrames\n",
    "periodic_table = pd.concat(\n",
    "    [periodic_table_1, periodic_table_2], ignore_index=True)\n",
    "\n",
    "# Save the DataFrame to a CSV file\n",
    "periodic_table.to_csv('periodic_table.csv', index=False)\n",
    "\n",
    "# Read the CSV file into a pandas DataFrame\n",
    "periodic_table_df = pd.read_csv('periodic_table.csv')\n",
    "\n",
    "# Print the DataFrame\n",
    "print(periodic_table_df)"
   ]
  },
  {
   "cell_type": "code",
   "execution_count": 37,
   "metadata": {},
   "outputs": [
    {
     "name": "stdout",
     "output_type": "stream",
     "text": [
      "        name symbol  atomic_number  atomic_weight\n",
      "0   Hydrogen      H              1              1\n",
      "1     Helium     He              2              4\n",
      "2    Lithium     Li              3              7\n",
      "3  Beryllium     Be              4              9\n",
      "4      Boron      B              5             11\n",
      "5     Carbon      C              6             12\n",
      "6   Nitrogen      N              7             14\n",
      "7     Oxygen      O              8             16\n",
      "8   Fluorine      F              9             19\n",
      "9       Neon     Ne             10             20\n"
     ]
    }
   ],
   "source": [
    "#add a column with the atomic weights rounded to the nearest integer.\n",
    "# Dictionary for atomic weights\n",
    "atomic_weights = {\n",
    "    'Hydrogen': 1,\n",
    "    'Helium': 4,\n",
    "    'Lithium': 7,\n",
    "    'Beryllium': 9,\n",
    "    'Boron': 11,\n",
    "    'Carbon': 12,\n",
    "    'Nitrogen': 14,\n",
    "    'Oxygen': 16,\n",
    "    'Fluorine': 19,\n",
    "    'Neon': 20\n",
    "}\n",
    "# Create a DataFrame for atomic weights\n",
    "weights_df = pd.DataFrame(list(atomic_weights.items()),\n",
    "                          columns=['name', 'atomic_weight'])\n",
    "\n",
    "# Merge the two DataFrames on the 'name' column\n",
    "full_periodic_table = pd.merge(periodic_table, weights_df, on='name')\n",
    "\n",
    "# Save the DataFrame to a CSV file\n",
    "full_periodic_table.to_csv('periodic_table.csv', index=False)\n",
    "\n",
    "# Read the CSV file into a pandas DataFrame\n",
    "periodic_table_df = pd.read_csv('periodic_table.csv')\n",
    "\n",
    "# Print the DataFrame\n",
    "print(periodic_table_df)"
   ]
  },
  {
   "cell_type": "code",
   "execution_count": 176,
   "metadata": {},
   "outputs": [
    {
     "name": "stdout",
     "output_type": "stream",
     "text": [
      "List of strings for nine Greek letters:\n",
      "['sigma', 'epsilon', 'gamma', 'delta', 'beta', 'theta', 'alpha', 'mu', 'nu']\n",
      "9-element numpy arrays of random floating-point numbers:\n",
      "Array 1: [ 9.43046148  7.16777986  9.42934378  9.91829136 10.62099294 11.24918416\n",
      "  7.99435449  6.08491037  8.24617525]\n",
      "Array 2: [11.57116556  8.09442603  9.62522165 10.20340657  7.80086328  9.92348666\n",
      "  8.72316001 10.54529892  8.12383404]\n",
      "Angle array: [0.         0.78539816 1.57079633 2.35619449 3.14159265 3.92699082\n",
      " 4.71238898 5.49778714 6.28318531]\n",
      "Cosine of angle array: [ 1.00000000e+00  7.07106781e-01  6.12323400e-17 -7.07106781e-01\n",
      " -1.00000000e+00 -7.07106781e-01 -1.83697020e-16  7.07106781e-01\n",
      "  1.00000000e+00]\n"
     ]
    }
   ],
   "source": [
    "# Assignment 1, Part 2: Make a list of strings for nine Greek letters, ‘alpha’, for example.\n",
    "# Make that list such that they are not in alphabetic order.\n",
    "greek_letters = ['sigma', 'epsilon', 'gamma',\n",
    "                 'delta', 'beta', 'theta', 'alpha', 'mu', 'nu']\n",
    "print(\"List of strings for nine Greek letters:\")\n",
    "print(greek_letters)\n",
    "\n",
    "# Make two 9-element numpy arrays of random floating-point numbers with the estimated mean 10 and standard deviation 1.5.\n",
    "array1 = np.random.normal(loc=10, scale=1.5, size=9) \n",
    "array2 = np.random.normal(loc=10, scale=1.5, size=9)\n",
    "# Print the arrays\n",
    "print(\"9-element numpy arrays of random floating-point numbers:\")\n",
    "print(\"Array 1:\", array1) \n",
    "print(\"Array 2:\", array2)\n",
    "# Make another array of nine elements ranging from zero to two times pi.  Name it ‘angle’.\n",
    "angle = np.linspace(0, 2 * np.pi, 9)\n",
    "# Print the 'angle' array\n",
    "print(\"Angle array:\", angle)\n",
    "# Make another array holding the cosine of that ‘angle’ array.\n",
    "cos_angle = np.cos(angle)\n",
    "# Print the 'cos_angle' array\n",
    "print(\"Cosine of angle array:\", cos_angle)\n"
   ]
  },
  {
   "cell_type": "code",
   "execution_count": 177,
   "metadata": {},
   "outputs": [
    {
     "name": "stdout",
     "output_type": "stream",
     "text": [
      "  Greek letters    Array 1    Array 2     Angle  Cosine of Angle\n",
      "0         sigma   9.430461  11.571166  0.000000     1.000000e+00\n",
      "1       epsilon   7.167780   8.094426  0.785398     7.071068e-01\n",
      "2         gamma   9.429344   9.625222  1.570796     6.123234e-17\n",
      "3         delta   9.918291  10.203407  2.356194    -7.071068e-01\n",
      "4          beta  10.620993   7.800863  3.141593    -1.000000e+00\n",
      "5         theta  11.249184   9.923487  3.926991    -7.071068e-01\n",
      "6         alpha   7.994354   8.723160  4.712389    -1.836970e-16\n",
      "7            mu   6.084910  10.545299  5.497787     7.071068e-01\n",
      "8            nu   8.246175   8.123834  6.283185     1.000000e+00\n",
      "Sorted Dataframe in ascending order:\n",
      "  Greek letters    Array 1    Array 2     Angle  Cosine of Angle\n",
      "6         alpha   7.994354   8.723160  4.712389    -1.836970e-16\n",
      "4          beta  10.620993   7.800863  3.141593    -1.000000e+00\n",
      "3         delta   9.918291  10.203407  2.356194    -7.071068e-01\n",
      "1       epsilon   7.167780   8.094426  0.785398     7.071068e-01\n",
      "2         gamma   9.429344   9.625222  1.570796     6.123234e-17\n",
      "7            mu   6.084910  10.545299  5.497787     7.071068e-01\n",
      "8            nu   8.246175   8.123834  6.283185     1.000000e+00\n",
      "0         sigma   9.430461  11.571166  0.000000     1.000000e+00\n",
      "5         theta  11.249184   9.923487  3.926991    -7.071068e-01\n",
      "Resulting Dataframe with dropped 2 columns and 1 row:\n",
      "  Greek letters    Array 1     Angle\n",
      "1       epsilon   7.167780  0.785398\n",
      "2         gamma   9.429344  1.570796\n",
      "3         delta   9.918291  2.356194\n",
      "4          beta  10.620993  3.141593\n",
      "5         theta  11.249184  3.926991\n",
      "6         alpha   7.994354  4.712389\n",
      "7            mu   6.084910  5.497787\n",
      "8            nu   8.246175  6.283185\n"
     ]
    }
   ],
   "source": [
    "# Construct a dictionary from all of the above.  Form a DataFrame from that dictionary and print it out.\n",
    "# Create dictionary with descriptive names\n",
    "data = {\n",
    "    \"Greek letters\": greek_letters,\n",
    "    \"Array 1\": array1,\n",
    "    \"Array 2\": array2,\n",
    "    \"Angle\": angle,\n",
    "    \"Cosine of Angle\": cos_angle\n",
    "}\n",
    "\n",
    "# Create DataFrame from dictionary\n",
    "df = pd.DataFrame(data)\n",
    "\n",
    "# Print the DataFrame\n",
    "print(df.to_string())\n",
    "# Sort the DataFrame ascending on the Greek letters,\n",
    "df_sorted = df.sort_values(by='Greek letters')\n",
    "# Print the DataFrame\n",
    "print(\"Sorted Dataframe in ascending order:\")\n",
    "print(df_sorted.to_string())\n",
    "# drop two columns of your choice, drop one of the rows, and print that out.\n",
    "# Drop two columns (choose any two)\n",
    "df = df.drop(columns=[\"Array 2\", \"Cosine of Angle\"])\n",
    "\n",
    "# Drop one row by index (choose any index)\n",
    "df = df.drop(index=0)\n",
    "\n",
    "# Print the resulting DataFrame\n",
    "print(\"Resulting Dataframe with dropped 2 columns and 1 row:\")\n",
    "print(df.to_string())"
   ]
  },
  {
   "cell_type": "code",
   "execution_count": 178,
   "metadata": {},
   "outputs": [
    {
     "name": "stdout",
     "output_type": "stream",
     "text": [
      "The first twelve Fibonacci numbers are:\n",
      "0\n",
      "1\n",
      "1\n",
      "2\n",
      "3\n",
      "5\n",
      "8\n",
      "13\n",
      "21\n",
      "34\n",
      "55\n",
      "89\n"
     ]
    }
   ],
   "source": [
    "# Assignment 1, Part 3: Write a program in Python to create and print out the first twelve Fibonacci numbers.\n",
    "\n",
    "def fibonacci(n):\n",
    "  \"\"\"\n",
    "  Generates and returns a list of the first n Fibonacci numbers.\n",
    "    \n",
    "    Args:\n",
    "    n (int): The number of Fibonacci numbers to generate.\n",
    "    \n",
    "    Returns:\n",
    "    list: A list containing the first n Fibonacci numbers.\n",
    "  \"\"\"\n",
    "  if n < 0:\n",
    "    print(\"Incorrect input\")\n",
    "    return\n",
    "  elif n == 0:\n",
    "    return 0\n",
    "  elif n == 1:\n",
    "    return 1\n",
    "  else:\n",
    "    return fibonacci(n-1) + fibonacci(n-2)\n",
    "\n",
    "\n",
    "# Print the first 12 Fibonacci numbers\n",
    "print(\"The first twelve Fibonacci numbers are:\")\n",
    "for i in range(12):\n",
    "  print(fibonacci(i))"
   ]
  },
  {
   "cell_type": "code",
   "execution_count": 179,
   "metadata": {},
   "outputs": [
    {
     "name": "stdout",
     "output_type": "stream",
     "text": [
      "\n",
      "The ratios of each number to its predecessor for the last five Fibonacci numbers are:\n",
      "[1.6153846153846154, 1.619047619047619, 1.6176470588235294, 1.6181818181818182]\n"
     ]
    }
   ],
   "source": [
    "# Then iterate over the last five numbers to build another list with the ratio of each number to its predecessor.\n",
    "fibonacci_list = []\n",
    "for i in range(12):\n",
    "  fibonacci_list.append(fibonacci(i))\n",
    "\n",
    "# Calculate the ratio of each number to its predecessor for the last five numbers\n",
    "ratio_list = []\n",
    "for i in range(8, 12):\n",
    "  ratio_list.append(fibonacci_list[i] / fibonacci_list[i-1])\n",
    "\n",
    "# Print the list of ratios\n",
    "print(\"\\nThe ratios of each number to its predecessor for the last five Fibonacci numbers are:\")\n",
    "print(ratio_list)\n",
    "\n",
    "# What do you observe about this latter list? The ratio of consecutive Fibonacci numbers approaches the golden ratio (φ ≈ 1.618) as the sequence progresses."
   ]
  },
  {
   "cell_type": "code",
   "execution_count": 180,
   "metadata": {},
   "outputs": [
    {
     "name": "stdout",
     "output_type": "stream",
     "text": [
      "0 Kelvin = 0.0 Rankine.\n",
      "273.15 Kelvin = 491.66999999999996 Rankine.\n",
      "300 Kelvin = 540.0 Rankine.\n",
      "1000 Kelvin = 1800.0 Rankine.\n",
      "Error: Kelvin temperature cannot be negative.\n",
      "Error: -50 Kelvin is an invalid temperature.\n",
      "\n",
      "Rankine temperatures: [0.0, 491.66999999999996, 540.0, 1800.0]\n"
     ]
    }
   ],
   "source": [
    "\n",
    "# Assignment 1, Part 4: Provide a function that converts temperature in Kelvin to Rankine.\n",
    "\n",
    "#  Make a list of five Kelvin temperatures and print out their values in Rankine.  \n",
    "\n",
    "def kelvin_to_rankine(temp_kelvin):\n",
    "    \"\"\"\n",
    "    Converts temperature from Kelvin to Rankine.\n",
    "    \n",
    "    Args:\n",
    "    temp_kelvin (float): Temperature in Kelvin.\n",
    "    \n",
    "    Returns:\n",
    "    float: Temperature in Rankine.\n",
    "    \"\"\"\n",
    "    temp_rankine = (temp_kelvin * 1.8)\n",
    "    # return temp_rankine\n",
    "    if temp_kelvin < 0:\n",
    "      print(\"Error: Kelvin temperature cannot be negative.\")\n",
    "      return None\n",
    "    else:\n",
    "      return temp_rankine\n",
    "    \n",
    "\n",
    "# Kelvin temperatures\n",
    "# Including an invalid temperature for testing\n",
    "kelvin_list = [0, 273.15, 300, 1000, -50]\n",
    "\n",
    "# Convert Kelvin to Rankine and print results\n",
    "rankine_list = []\n",
    "for kelvin in kelvin_list:\n",
    "  rankine_temperature = kelvin_to_rankine(kelvin)\n",
    "  if rankine_temperature is not None:\n",
    "    rankine_list.append(rankine_temperature)\n",
    "    print(f\"{kelvin} Kelvin = {rankine_temperature} Rankine.\")\n",
    "  else:\n",
    "    print(f\"Error: {kelvin} Kelvin is an invalid temperature.\")\n",
    "\n",
    "# Print the Rankine list (excluding errors)\n",
    "print(\"\\nRankine temperatures:\", rankine_list)\n",
    "\n"
   ]
  },
  {
   "cell_type": "code",
   "execution_count": 181,
   "metadata": {},
   "outputs": [
    {
     "name": "stdout",
     "output_type": "stream",
     "text": [
      "Error: -50 Kelvin is an invalid temperature.\n",
      "\n",
      "Rankine temperatures: [0.0, 491.66999999999996, 540.0, 1800.0, (None, None)]\n"
     ]
    }
   ],
   "source": [
    "# Repeat using a lambda function.\n",
    "# Kelvin temperatures\n",
    "kelvin_list = [0, 273.15, 300, 1000, -50]\n",
    "\n",
    "# Convert Kelvin to Rankine using lambda function\n",
    "rankine_list = list(map(lambda kelvin: kelvin * 1.8 if kelvin >= 0 else (\n",
    "    print(f\"Error: {kelvin} Kelvin is an invalid temperature.\"), None), kelvin_list))\n",
    "\n",
    "# Print the Rankine list (excluding errors)\n",
    "print(\"\\nRankine temperatures:\", rankine_list)"
   ]
  },
  {
   "cell_type": "code",
   "execution_count": 182,
   "metadata": {},
   "outputs": [
    {
     "name": "stdout",
     "output_type": "stream",
     "text": [
      "Initial DataFrame:\n",
      "    A         B  C\n",
      "0  15  0.356273  F\n",
      "1   1  0.719081  E\n",
      "2   7  0.075693  E\n",
      "3   4  0.953212  F\n",
      "Adjusted DataFrame :\n",
      "    A         B  C          D\n",
      "0  15  0.356273  F   0.937203\n",
      "1   1  0.719081  E   1.390664\n",
      "2   7  0.075693  E  92.478244\n",
      "3   4  0.953212  F   0.579067\n"
     ]
    }
   ],
   "source": [
    "# Assignment 1, Part 5: Create a dataframe with three columns ('A', 'B', and 'C') and four rows.\n",
    "# The numbers in column A are uniform random integers between 0 and 20.\n",
    "# The numbers in column B are uniform random floating point numbers between 0 and 1.\n",
    "# Column C will be the letters D, E or F, randomly chosen.\n",
    "\n",
    "# Create a DataFrame with three columns ('A', 'B', and 'C') and four rows\n",
    "df = pd.DataFrame(columns=['A', 'B', 'C'], index=range(4))\n",
    "\n",
    "# Generate random integers for column A\n",
    "df['A'] = np.random.randint(0, 21, size=4)\n",
    "\n",
    "# Generate random floats for column B\n",
    "df['B'] = np.random.uniform(0, 1, size=4)\n",
    "\n",
    "# Generate random letters for column C\n",
    "letters = ['D', 'E', 'F']\n",
    "df['C'] = np.random.choice(letters, size=4)\n",
    "\n",
    "# Print the DataFrame\n",
    "print(\"Initial DataFrame:\")\n",
    "print(df)\n",
    "\n",
    "#  Use pandas 'apply' to apply a function to every row of the dataframe and return the value from the function and place it into column D.\n",
    "# The value in column D will be column A times column B if column C == 'D'.  The value in column D will be column A divided by column B if column C == 'E'.\n",
    "#  Finally, the value in column D will be the cosine of column B if column C == 'F'.\n",
    "# Define a function to apply to each row\n",
    "\n",
    "\n",
    "def row_function(row):\n",
    "    if row['C'] == 'D':\n",
    "        return row['A'] * row['B']\n",
    "    elif row['C'] == 'E':\n",
    "        return row['A'] / row['B'] if row['B'] != 0 else np.nan\n",
    "    else:  # row['C'] == 'F'\n",
    "        return np.cos(row['B'])\n",
    "\n",
    "\n",
    "# Apply the function to each row and create a new column 'D'\n",
    "df['D'] = df.apply(row_function, axis=1)\n",
    "\n",
    "# Print the DataFrame\n",
    "print(\"Adjusted DataFrame :\")\n",
    "print(df)"
   ]
  }
 ],
 "metadata": {
  "kernelspec": {
   "display_name": "Python 3",
   "language": "python",
   "name": "python3"
  },
  "language_info": {
   "codemirror_mode": {
    "name": "ipython",
    "version": 3
   },
   "file_extension": ".py",
   "mimetype": "text/x-python",
   "name": "python",
   "nbconvert_exporter": "python",
   "pygments_lexer": "ipython3",
   "version": "3.12.3"
  }
 },
 "nbformat": 4,
 "nbformat_minor": 2
}
