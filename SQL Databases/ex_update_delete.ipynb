{
 "cells": [
  {
   "cell_type": "code",
   "execution_count": null,
   "metadata": {},
   "outputs": [
    {
     "name": "stdout",
     "output_type": "stream",
     "text": [
      "Document before update:\n",
      "{'_id': ObjectId('6737e8e7f70885a2044156a9'), 'pid': 338, 'firstName': 'Isabella', 'MI': 'C', 'lastName': 'Li', 'state': 'GA', 'age': 90, 'birth': 1929, 'salary': 40189, 'numChildren': 7, 'children': ['Madison J Li', 'Madison B Li', 'Rahul E Li', 'Neha J Li', 'Bob A Li', 'Hasan A Li', 'Raj C Li'], 'weight': 131, 'height': 161}\n",
      "\n",
      "Document after update:\n",
      "{'_id': ObjectId('6737e8e7f70885a2044156a9'), 'pid': 338, 'firstName': 'Isabella', 'MI': 'C', 'lastName': 'Li', 'state': 'TX', 'age': 90, 'birth': 1929, 'salary': 120000, 'numChildren': 7, 'children': ['Madison J Li', 'Madison B Li', 'Rahul E Li', 'Neha J Li', 'Bob A Li', 'Hasan A Li', 'Raj C Li'], 'weight': 131, 'height': 161}\n"
     ]
    }
   ],
   "source": [
    "from pymongo import MongoClient\n",
    "\n",
    "# Connect to MongoDB\n",
    "client = MongoClient(\"localhost\", 27017)\n",
    "db = client.db_people  \n",
    "peeps = db.thePeople  \n",
    "\n",
    "# Drop the collection to start fresh\n",
    "# db.thePeople.drop()\n",
    "\n",
    "# Find a document and print it before the update\n",
    "query = {\"pid\": 338}  # update the document with pid 338\n",
    "print(\"Document before update:\")\n",
    "document_before = peeps.find_one(query)\n",
    "print(document_before)\n",
    "\n",
    "# Update the document\n",
    "update = {\n",
    "    # Update fields 'state' and 'salary'\n",
    "    \"$set\": {\"state\": \"TX\", \"salary\": 120000}\n",
    "}\n",
    "peeps.update_one(query, update)\n",
    "\n",
    "# Find and print the document after the update\n",
    "print(\"\\nDocument after update:\")\n",
    "document_after = peeps.find_one(query)\n",
    "print(document_after)"
   ]
  },
  {
   "cell_type": "code",
   "execution_count": 24,
   "metadata": {},
   "outputs": [
    {
     "name": "stdout",
     "output_type": "stream",
     "text": [
      "Documents before update:\n",
      "{'_id': ObjectId('6737e8e7f70885a2044155ea'), 'pid': 147, 'firstName': 'Jayla', 'MI': 'Q', 'lastName': 'Kim', 'state': 'CA', 'age': 67, 'birth': 1952, 'salary': 88429, 'numChildren': 2, 'children': ['Michelle Y Kim', 'David F Kim'], 'weight': 100, 'height': 164}\n",
      "{'_id': ObjectId('6737e8e7f70885a20441560c'), 'pid': 181, 'firstName': 'Jeffrey', 'MI': 'T', 'lastName': 'Anderson', 'state': 'CA', 'age': 107, 'birth': 1912, 'salary': 58219, 'numChildren': 2, 'children': ['Sofia T Anderson', 'Michelle D Anderson'], 'weight': 103, 'height': 192}\n",
      "{'_id': ObjectId('6737e8e7f70885a204415612'), 'pid': 187, 'firstName': 'Noah', 'MI': 'I', 'lastName': 'Wong', 'state': 'CA', 'age': 60, 'birth': 1959, 'salary': 110247, 'numChildren': 2, 'children': ['David Q Wong', 'Ashley N Wong'], 'weight': 123, 'height': 175}\n",
      "{'_id': ObjectId('6737e8e7f70885a20441566d'), 'pid': 278, 'firstName': 'Mohammad', 'MI': 'Y', 'lastName': 'Jackson', 'state': 'CA', 'age': 23, 'birth': 1996, 'salary': 106398, 'numChildren': 5, 'children': ['Peter O Jackson', 'Joseph P Jackson', 'Vicky R Jackson', 'Amy I Jackson', 'Victoria D Jackson'], 'weight': 58, 'height': 162}\n",
      "{'_id': ObjectId('6737e8e7f70885a20441568c'), 'pid': 309, 'firstName': 'Rahul', 'MI': 'Q', 'lastName': 'Ngyuen', 'state': 'CA', 'age': 87, 'birth': 1932, 'salary': 47773, 'numChildren': 4, 'children': ['Ava U Ngyuen', 'Vicky F Ngyuen', 'Diego O Ngyuen', 'Alejandro P Ngyuen'], 'weight': 101, 'height': 179}\n",
      "\n",
      "Number of documents updated: 39\n",
      "\n",
      "Documents after update:\n",
      "{'_id': ObjectId('6737e8e7f70885a2044155a8'), 'pid': 81, 'firstName': 'Madison', 'MI': 'V', 'lastName': 'Mukherjee', 'state': 'TX', 'age': 78, 'birth': 1941, 'salary': 108013, 'numChildren': 3, 'children': ['Ava X Mukherjee', 'Mary S Mukherjee', 'Julia N Mukherjee'], 'weight': 79, 'height': 177}\n",
      "{'_id': ObjectId('6737e8e7f70885a2044155ea'), 'pid': 147, 'firstName': 'Jayla', 'MI': 'Q', 'lastName': 'Kim', 'state': 'TX', 'age': 67, 'birth': 1952, 'salary': 98429, 'numChildren': 2, 'children': ['Michelle Y Kim', 'David F Kim'], 'weight': 100, 'height': 164}\n",
      "{'_id': ObjectId('6737e8e7f70885a2044155fb'), 'pid': 164, 'firstName': 'Joseph', 'MI': 'T', 'lastName': 'Takahashi', 'state': 'TX', 'age': 101, 'birth': 1918, 'salary': 71249, 'numChildren': 3, 'children': ['Neha Z Takahashi', 'Daniella P Takahashi', 'John U Takahashi'], 'weight': 94, 'height': 166}\n",
      "{'_id': ObjectId('6737e8e7f70885a2044155fc'), 'pid': 165, 'firstName': 'Alejandro', 'MI': 'L', 'lastName': 'Tran', 'state': 'TX', 'age': 59, 'birth': 1960, 'salary': 49334, 'numChildren': 1, 'children': ['William K Tran'], 'weight': 137, 'height': 188}\n",
      "{'_id': ObjectId('6737e8e7f70885a20441560c'), 'pid': 181, 'firstName': 'Jeffrey', 'MI': 'T', 'lastName': 'Anderson', 'state': 'TX', 'age': 107, 'birth': 1912, 'salary': 68219, 'numChildren': 2, 'children': ['Sofia T Anderson', 'Michelle D Anderson'], 'weight': 103, 'height': 192}\n"
     ]
    }
   ],
   "source": [
    "# Query to find documents to update\n",
    "query = {\"state\": \"CA\"}  # Update all documents in state CA\n",
    "\n",
    "# Print documents before the update\n",
    "print(\"Documents before update:\")\n",
    "documents_before = list(peeps.find(query).limit(5))\n",
    "for doc in documents_before:\n",
    "    print(doc)\n",
    "\n",
    "# Update multiple documents: change state to 'TX' and increase salary by 10,000\n",
    "update = {\n",
    "    \"$set\": {\"state\": \"TX\"},  # Update state to TX\n",
    "    \"$inc\": {\"salary\": 10000}  # Increase salary by 10,000\n",
    "}\n",
    "result = peeps.update_many(query, update)\n",
    "\n",
    "# Print update result\n",
    "print(f\"\\nNumber of documents updated: {result.modified_count}\")\n",
    "\n",
    "# Print documents after the update\n",
    "print(\"\\nDocuments after update:\")\n",
    "# Adjust query to confirm updates\n",
    "documents_after = list(peeps.find(\n",
    "    {\"state\": \"TX\", \"salary\": {\"$gte\": 10000}}).limit(5))\n",
    "for doc in documents_after:\n",
    "    print(doc)"
   ]
  },
  {
   "cell_type": "code",
   "execution_count": null,
   "metadata": {},
   "outputs": [
    {
     "name": "stdout",
     "output_type": "stream",
     "text": [
      "Subset of documents before delete:\n",
      "{'_id': ObjectId('6737e8e7f70885a2044155a8'), 'pid': 81, 'firstName': 'Madison', 'MI': 'V', 'lastName': 'Mukherjee', 'state': 'TX', 'age': 78, 'birth': 1941, 'salary': 108013, 'numChildren': 3, 'children': ['Ava X Mukherjee', 'Mary S Mukherjee', 'Julia N Mukherjee'], 'weight': 79, 'height': 177}\n",
      "{'_id': ObjectId('6737e8e7f70885a2044155ea'), 'pid': 147, 'firstName': 'Jayla', 'MI': 'Q', 'lastName': 'Kim', 'state': 'TX', 'age': 67, 'birth': 1952, 'salary': 98429, 'numChildren': 2, 'children': ['Michelle Y Kim', 'David F Kim'], 'weight': 100, 'height': 164}\n",
      "{'_id': ObjectId('6737e8e7f70885a2044155fb'), 'pid': 164, 'firstName': 'Joseph', 'MI': 'T', 'lastName': 'Takahashi', 'state': 'TX', 'age': 101, 'birth': 1918, 'salary': 71249, 'numChildren': 3, 'children': ['Neha Z Takahashi', 'Daniella P Takahashi', 'John U Takahashi'], 'weight': 94, 'height': 166}\n",
      "{'_id': ObjectId('6737e8e7f70885a2044155fc'), 'pid': 165, 'firstName': 'Alejandro', 'MI': 'L', 'lastName': 'Tran', 'state': 'TX', 'age': 59, 'birth': 1960, 'salary': 49334, 'numChildren': 1, 'children': ['William K Tran'], 'weight': 137, 'height': 188}\n",
      "{'_id': ObjectId('6737e8e7f70885a20441560c'), 'pid': 181, 'firstName': 'Jeffrey', 'MI': 'T', 'lastName': 'Anderson', 'state': 'TX', 'age': 107, 'birth': 1912, 'salary': 68219, 'numChildren': 2, 'children': ['Sofia T Anderson', 'Michelle D Anderson'], 'weight': 103, 'height': 192}\n",
      "\n",
      "Number of documents deleted: 84\n",
      "\n",
      "Subset of documents after delete (should not include state 'TX'):\n"
     ]
    }
   ],
   "source": [
    "# Query to find documents to delete\n",
    "query = {\"state\": \"TX\"}  # Delete all documents where state is \"TX\"\n",
    "\n",
    "# Print a subset of documents before the delete\n",
    "print(\"Subset of documents before delete:\")\n",
    "# Limit to 5 documents for display\n",
    "documents_before = list(peeps.find(query).limit(5))\n",
    "for doc in documents_before:\n",
    "    print(doc)\n",
    "\n",
    "# Perform the delete operation\n",
    "result = peeps.delete_many(query)\n",
    "\n",
    "# Print delete result\n",
    "print(f\"\\nNumber of documents deleted: {result.deleted_count}\")\n",
    "\n",
    "# Print a subset of documents after the delete\n",
    "print(\"\\nSubset of documents after delete (should not include state 'TX'):\")\n",
    "\n",
    "documents_after = list(peeps.find({\"state\": \"TX\"}).limit(5))\n",
    "for doc in documents_after:\n",
    "    print(doc)"
   ]
  },
  {
   "cell_type": "code",
   "execution_count": null,
   "metadata": {},
   "outputs": [],
   "source": [
    "# # Close the cursor and connection\n",
    "# cursor.close()\n",
    "# connection.close()"
   ]
  }
 ],
 "metadata": {
  "kernelspec": {
   "display_name": "Python 3",
   "language": "python",
   "name": "python3"
  },
  "language_info": {
   "codemirror_mode": {
    "name": "ipython",
    "version": 3
   },
   "file_extension": ".py",
   "mimetype": "text/x-python",
   "name": "python",
   "nbconvert_exporter": "python",
   "pygments_lexer": "ipython3",
   "version": "3.12.7"
  }
 },
 "nbformat": 4,
 "nbformat_minor": 2
}
