{
 "cells": [
  {
   "cell_type": "code",
   "execution_count": 7,
   "metadata": {},
   "outputs": [],
   "source": [
    "from pymongo import MongoClient\n",
    "\n",
    "# Step 1: Connect to MongoDB and create the `junk` database\n",
    "client = MongoClient(\"localhost\", 27017)\n",
    "db = client.junk  # Create the `junk` database\n",
    "stuff_collection = db.stuff  # The `stuff` collection\n"
   ]
  },
  {
   "cell_type": "code",
   "execution_count": 2,
   "metadata": {},
   "outputs": [
    {
     "name": "stdout",
     "output_type": "stream",
     "text": [
      "Documents inserted.\n"
     ]
    }
   ],
   "source": [
    "\n",
    "# Step 2: Insert documents into the `stuff` collection\n",
    "documents = [\n",
    "    {\"name\": \"George Washington\", \"birthYear\": \"1700\"},\n",
    "    {\"name\": \"Ben Franklin\", \"birthYear\": \"1701\"}\n",
    "]\n",
    "stuff_collection.insert_many(documents)\n",
    "print(\"Documents inserted.\")\n"
   ]
  },
  {
   "cell_type": "code",
   "execution_count": 3,
   "metadata": {},
   "outputs": [
    {
     "name": "stdout",
     "output_type": "stream",
     "text": [
      "Names with birthYear > 1700:\n",
      "Ben Franklin\n"
     ]
    }
   ],
   "source": [
    "\n",
    "# Step 3: Find all the names where birthYear > 1700\n",
    "results = stuff_collection.find(\n",
    "    {\"birthYear\": {\"$gt\": \"1700\"}}, {\"_id\": 0, \"name\": 1})\n",
    "print(\"Names with birthYear > 1700:\")\n",
    "for result in results:\n",
    "    print(result[\"name\"])\n"
   ]
  },
  {
   "cell_type": "code",
   "execution_count": 4,
   "metadata": {},
   "outputs": [
    {
     "name": "stdout",
     "output_type": "stream",
     "text": [
      "Collections in the `junk` database: ['stuff']\n"
     ]
    }
   ],
   "source": [
    "\n",
    "# Step 4: Show all collections in the `junk` database\n",
    "collections = db.list_collection_names()\n",
    "print(\"Collections in the `junk` database:\", collections)\n",
    "\n"
   ]
  },
  {
   "cell_type": "code",
   "execution_count": 5,
   "metadata": {},
   "outputs": [
    {
     "name": "stdout",
     "output_type": "stream",
     "text": [
      "Collection `stuff` dropped.\n"
     ]
    }
   ],
   "source": [
    "# Step 5: Drop the `stuff` collection\n",
    "stuff_collection.drop()\n",
    "print(\"Collection `stuff` dropped.\")\n"
   ]
  },
  {
   "cell_type": "code",
   "execution_count": 6,
   "metadata": {},
   "outputs": [
    {
     "name": "stdout",
     "output_type": "stream",
     "text": [
      "Database `junk` dropped.\n"
     ]
    }
   ],
   "source": [
    "\n",
    "# Step 6: Drop the `junk` database\n",
    "client.drop_database(\"junk\")\n",
    "print(\"Database `junk` dropped.\")"
   ]
  }
 ],
 "metadata": {
  "kernelspec": {
   "display_name": "Python 3",
   "language": "python",
   "name": "python3"
  },
  "language_info": {
   "codemirror_mode": {
    "name": "ipython",
    "version": 3
   },
   "file_extension": ".py",
   "mimetype": "text/x-python",
   "name": "python",
   "nbconvert_exporter": "python",
   "pygments_lexer": "ipython3",
   "version": "3.12.7"
  }
 },
 "nbformat": 4,
 "nbformat_minor": 2
}
