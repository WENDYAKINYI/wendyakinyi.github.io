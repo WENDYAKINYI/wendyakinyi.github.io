{
 "cells": [
  {
   "cell_type": "code",
   "execution_count": 17,
   "metadata": {},
   "outputs": [],
   "source": [
    "from time import time\n"
   ]
  },
  {
   "cell_type": "code",
   "execution_count": 18,
   "metadata": {},
   "outputs": [],
   "source": [
    "\n",
    "# Algorithm 1: Divide-and-Conquer\n",
    "\n",
    "\n",
    "def DACcoins(coins, amount):\n",
    "    if amount == 0:  # The base case\n",
    "        return 0\n",
    "    else:  # The recursive case\n",
    "        minCoins = float(\"inf\")\n",
    "        for currentCoin in coins:  # Check all coins\n",
    "            # If we can give change\n",
    "            if (amount - currentCoin) >= 0:\n",
    "                # The optimal for currentCoin\n",
    "                currentMin = DACcoins(coins, amount - currentCoin) + 1\n",
    "                # Keep the best\n",
    "                minCoins = min(minCoins, currentMin)\n",
    "        return minCoins\n",
    "\n"
   ]
  },
  {
   "cell_type": "code",
   "execution_count": 19,
   "metadata": {},
   "outputs": [],
   "source": [
    "# Algorithm 2: Dynamic Programming with Traceback\n",
    "\n",
    "\n",
    "def DPcoins(coins, amount):\n",
    "    # Create the initial tables\n",
    "    dp = [float('inf')] * (amount + 1)\n",
    "    trace = [-1] * (amount + 1)\n",
    "\n",
    "    # Base case\n",
    "    dp[0] = 0\n",
    "\n",
    "    # Rest of the table\n",
    "    for i in range(1, amount + 1):\n",
    "        for coin in coins:\n",
    "            if i - coin >= 0 and dp[i - coin] + 1 < dp[i]:\n",
    "                dp[i] = dp[i - coin] + 1\n",
    "                trace[i] = coin\n",
    "\n",
    "    # Traceback \n",
    "    if dp[amount] == float('inf'):\n",
    "        return -1  \n",
    "\n",
    "    # Print \n",
    "    print(\"Coins used:\")\n",
    "    change = amount\n",
    "    while change > 0:\n",
    "        print(trace[change])\n",
    "        change -= trace[change]\n",
    "\n",
    "    return dp[amount]  \n",
    "\n"
   ]
  },
  {
   "cell_type": "code",
   "execution_count": 20,
   "metadata": {},
   "outputs": [
    {
     "name": "stdout",
     "output_type": "stream",
     "text": [
      "DAC:\n",
      "optimal: 3  in time:  27.9 ms\n",
      "\n",
      "DP:\n",
      "Coins used:\n",
      "5\n",
      "12\n",
      "12\n",
      "optimal: 3  in time:  0.0 ms\n"
     ]
    }
   ],
   "source": [
    "\n",
    "# Test\n",
    "C = [1, 5, 10, 12, 25]  # coin denominations including a penny\n",
    "A = int(input('Enter desired amount of change: '))\n",
    "assert A >= 0\n",
    "\n",
    "print(\"DAC:\")\n",
    "t1 = time()\n",
    "numCoins = DACcoins(C, A)\n",
    "t2 = time()\n",
    "print(\"optimal:\", numCoins, \" in time: \", round((t2 - t1) * 1000, 1), \"ms\")\n",
    "print()\n",
    "\n",
    "print(\"DP:\")\n",
    "t1 = time()\n",
    "numCoins = DPcoins(C, A)\n",
    "t2 = time()\n",
    "print(\"optimal:\", numCoins, \" in time: \", round((t2 - t1) * 1000, 1), \"ms\")"
   ]
  }
 ],
 "metadata": {
  "kernelspec": {
   "display_name": "Python 3",
   "language": "python",
   "name": "python3"
  },
  "language_info": {
   "codemirror_mode": {
    "name": "ipython",
    "version": 3
   },
   "file_extension": ".py",
   "mimetype": "text/x-python",
   "name": "python",
   "nbconvert_exporter": "python",
   "pygments_lexer": "ipython3",
   "version": "3.12.7"
  }
 },
 "nbformat": 4,
 "nbformat_minor": 2
}
