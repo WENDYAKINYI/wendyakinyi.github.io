{
 "cells": [
  {
   "cell_type": "code",
   "execution_count": null,
   "metadata": {},
   "outputs": [
    {
     "name": "stdout",
     "output_type": "stream",
     "text": [
      "{'_id': ObjectId('673540aceb0ae0ddfb42a556'), 'pid': 338, 'firstName': 'Isabella', 'MI': 'C', 'lastName': 'Li', 'state': 'GA', 'age': 90, 'birth': 1929, 'salary': 40189, 'numChildren': 7, 'children': ['Madison J Li', 'Madison B Li', 'Rahul E Li', 'Neha J Li', 'Bob A Li', 'Hasan A Li', 'Raj C Li'], 'weight': 131, 'height': 161}\n",
      "{'_id': ObjectId('673540adeb0ae0ddfb42a592'), 'pid': 398, 'firstName': 'Bob', 'MI': 'Y', 'lastName': 'Wong', 'state': 'IL', 'age': 60, 'birth': 1959, 'salary': 108314, 'numChildren': 7, 'children': ['Amy I Wong', 'Vicky B Wong', 'Mohammad R Wong', 'Jeffrey O Wong', 'Joseph X Wong', 'Jayden B Wong', 'Hannah H Wong'], 'weight': 53, 'height': 183}\n",
      "{'_id': ObjectId('673540adeb0ae0ddfb42a5ad'), 'pid': 425, 'firstName': 'John', 'MI': 'V', 'lastName': 'Ngyuen', 'state': 'CO', 'age': 30, 'birth': 1989, 'salary': 38393, 'numChildren': 7, 'children': ['Ashley O Ngyuen', 'Neha Q Ngyuen', 'William T Ngyuen', 'Priya N Ngyuen', 'David D Ngyuen', 'Mohammed J Ngyuen', 'Mary L Ngyuen'], 'weight': 137, 'height': 181}\n",
      "{'_id': ObjectId('673540adeb0ae0ddfb42a700'), 'pid': 764, 'firstName': 'Alejandro', 'MI': 'E', 'lastName': 'Mukherjee', 'state': 'FL', 'age': 80, 'birth': 1939, 'salary': 78221, 'numChildren': 7, 'children': ['Paul O Mukherjee', 'William A Mukherjee', 'Noah S Mukherjee', 'Santiago M Mukherjee', 'Paul Y Mukherjee', 'Jeffrey N Mukherjee', 'Sarah P Mukherjee'], 'weight': 121, 'height': 191}\n",
      "{'_id': ObjectId('673540adeb0ae0ddfb42a72e'), 'pid': 810, 'firstName': 'Isabella', 'MI': 'X', 'lastName': 'Park', 'state': 'WY', 'age': 71, 'birth': 1948, 'salary': 91350, 'numChildren': 7, 'children': ['Amit X Park', 'Jennifer Z Park', 'Hasan A Park', 'William P Park', 'Diego F Park', 'Ashley E Park', 'Bob N Park'], 'weight': 83, 'height': 152}\n",
      "{'_id': ObjectId('673540adeb0ae0ddfb42a78a'), 'pid': 902, 'firstName': 'Kayla', 'MI': 'L', 'lastName': 'Baker', 'state': 'FL', 'age': 99, 'birth': 1920, 'salary': 129939, 'numChildren': 7, 'children': ['Amy K Baker', 'Jayden I Baker', 'Victoria N Baker', 'Michelle G Baker', 'Vicky B Baker', 'Tanya Y Baker', 'Kayla M Baker'], 'weight': 68, 'height': 151}\n",
      "{'_id': ObjectId('673540adeb0ae0ddfb42a793'), 'pid': 911, 'firstName': 'Priya', 'MI': 'S', 'lastName': 'Mukherjee', 'state': 'AL', 'age': 24, 'birth': 1995, 'salary': 99812, 'numChildren': 7, 'children': ['Hannah N Mukherjee', 'Isabella X Mukherjee', 'Demarco T Mukherjee', 'Peter P Mukherjee', 'Michelle L Mukherjee', 'Jayla R Mukherjee', 'Peter Z Mukherjee'], 'weight': 80, 'height': 150}\n",
      "{'_id': ObjectId('673540aeeb0ae0ddfb42a88e'), 'pid': 1162, 'firstName': 'Paul', 'MI': 'J', 'lastName': 'Sato', 'state': 'AZ', 'age': 94, 'birth': 1925, 'salary': 54261, 'numChildren': 7, 'children': ['Jennifer G Sato', 'Sofia X Sato', 'Vicky O Sato', 'Paul B Sato', 'Julia O Sato', 'William Y Sato', 'Fatimah E Sato'], 'weight': 90, 'height': 198}\n",
      "{'_id': ObjectId('673540aeeb0ae0ddfb42a934'), 'pid': 1328, 'firstName': 'Alejandro', 'MI': 'M', 'lastName': 'Hernandez', 'state': 'SD', 'age': 112, 'birth': 1907, 'salary': 52477, 'numChildren': 7, 'children': ['Isabella K Hernandez', 'Jennifer P Hernandez', 'Diego O Hernandez', 'Amit N Hernandez', 'Ashley Y Hernandez', 'Michelle S Hernandez', 'Linda S Hernandez'], 'weight': 63, 'height': 186}\n",
      "{'_id': ObjectId('673540aeeb0ae0ddfb42a945'), 'pid': 1345, 'firstName': 'Raj', 'MI': 'J', 'lastName': 'Johnson', 'state': 'FL', 'age': 57, 'birth': 1962, 'salary': 30933, 'numChildren': 7, 'children': ['Amit Q Johnson', 'Linda K Johnson', 'Noah U Johnson', 'Tanya A Johnson', 'Peter W Johnson', 'Mohammad W Johnson', 'Hasan W Johnson'], 'weight': 112, 'height': 174}\n",
      "{'_id': ObjectId('673540afeb0ae0ddfb42a9b6'), 'pid': 1458, 'firstName': 'Joseph', 'MI': 'Y', 'lastName': 'Lopez', 'state': 'OR', 'age': 69, 'birth': 1950, 'salary': 39859, 'numChildren': 7, 'children': ['Amit W Lopez', 'Linda U Lopez', 'Madison A Lopez', 'David V Lopez', 'Bob K Lopez', 'Fatimah M Lopez', 'Julia W Lopez'], 'weight': 81, 'height': 192}\n",
      "{'_id': ObjectId('673540afeb0ae0ddfb42a9c6'), 'pid': 1474, 'firstName': 'Isabella', 'MI': 'E', 'lastName': 'Sato', 'state': 'NH', 'age': 102, 'birth': 1917, 'salary': 98408, 'numChildren': 7, 'children': ['Bob Y Sato', 'Mohammed F Sato', 'Hannah W Sato', 'Jayla K Sato', 'Julia B Sato', 'Ava M Sato', 'John U Sato'], 'weight': 132, 'height': 187}\n",
      "{'_id': ObjectId('673540afeb0ae0ddfb42a9ef'), 'pid': 1515, 'firstName': 'Julia', 'MI': 'Q', 'lastName': 'Williams', 'state': 'MS', 'age': 46, 'birth': 1973, 'salary': 57499, 'numChildren': 7, 'children': ['Madison Q Williams', 'Valentina C Williams', 'Jayden O Williams', 'Linda T Williams', 'Ava D Williams', 'Rahul Z Williams', 'Mohammad M Williams'], 'weight': 135, 'height': 192}\n",
      "{'_id': ObjectId('673540afeb0ae0ddfb42aabb'), 'pid': 1719, 'firstName': 'Jayla', 'MI': 'J', 'lastName': 'Liu', 'state': 'CA', 'age': 116, 'birth': 1903, 'salary': 77104, 'numChildren': 7, 'children': ['Priya Z Liu', 'Sarah W Liu', 'Peter U Liu', 'Sofia R Liu', 'William X Liu', 'John D Liu', 'Mary Y Liu'], 'weight': 81, 'height': 161}\n",
      "{'_id': ObjectId('673540afeb0ae0ddfb42aac5'), 'pid': 1729, 'firstName': 'David', 'MI': 'H', 'lastName': 'Dang', 'state': 'VT', 'age': 80, 'birth': 1939, 'salary': 111383, 'numChildren': 7, 'children': ['Jeffrey W Dang', 'Rahul N Dang', 'Raj Y Dang', 'Peter J Dang', 'Michelle B Dang', 'Daniella Z Dang', 'Alejandro E Dang'], 'weight': 48, 'height': 184}\n",
      "{'_id': ObjectId('673540afeb0ae0ddfb42ab52'), 'pid': 1870, 'firstName': 'Mohammed', 'MI': 'D', 'lastName': 'Tran', 'state': 'NM', 'age': 105, 'birth': 1914, 'salary': 114052, 'numChildren': 7, 'children': ['John Z Tran', 'Peter D Tran', 'David V Tran', 'Mohammed Z Tran', 'Ava H Tran', 'Jennifer T Tran', 'Valentina W Tran'], 'weight': 41, 'height': 154}\n"
     ]
    }
   ],
   "source": [
    "from pymongo import MongoClient\n",
    "\n",
    "# Connect to MongoDB\n",
    "client = MongoClient(\"localhost\", 27017)\n",
    "db = client.db_people  \n",
    "peeps = db.thePeople \n",
    "\n",
    "# Query to find people with exactly 7 children\n",
    "results = peeps.find({\"numChildren\": 7})\n",
    "\n",
    "# Print the results\n",
    "for person in results:\n",
    "    print(person)"
   ]
  },
  {
   "cell_type": "code",
   "execution_count": 6,
   "metadata": {},
   "outputs": [
    {
     "name": "stdout",
     "output_type": "stream",
     "text": [
      "{'pid': 338, 'state': 'GA', 'children': ['Madison J Li', 'Madison B Li', 'Rahul E Li', 'Neha J Li', 'Bob A Li', 'Hasan A Li', 'Raj C Li']}\n",
      "{'pid': 398, 'state': 'IL', 'children': ['Amy I Wong', 'Vicky B Wong', 'Mohammad R Wong', 'Jeffrey O Wong', 'Joseph X Wong', 'Jayden B Wong', 'Hannah H Wong']}\n",
      "{'pid': 425, 'state': 'CO', 'children': ['Ashley O Ngyuen', 'Neha Q Ngyuen', 'William T Ngyuen', 'Priya N Ngyuen', 'David D Ngyuen', 'Mohammed J Ngyuen', 'Mary L Ngyuen']}\n",
      "{'pid': 764, 'state': 'FL', 'children': ['Paul O Mukherjee', 'William A Mukherjee', 'Noah S Mukherjee', 'Santiago M Mukherjee', 'Paul Y Mukherjee', 'Jeffrey N Mukherjee', 'Sarah P Mukherjee']}\n",
      "{'pid': 810, 'state': 'WY', 'children': ['Amit X Park', 'Jennifer Z Park', 'Hasan A Park', 'William P Park', 'Diego F Park', 'Ashley E Park', 'Bob N Park']}\n",
      "{'pid': 902, 'state': 'FL', 'children': ['Amy K Baker', 'Jayden I Baker', 'Victoria N Baker', 'Michelle G Baker', 'Vicky B Baker', 'Tanya Y Baker', 'Kayla M Baker']}\n",
      "{'pid': 911, 'state': 'AL', 'children': ['Hannah N Mukherjee', 'Isabella X Mukherjee', 'Demarco T Mukherjee', 'Peter P Mukherjee', 'Michelle L Mukherjee', 'Jayla R Mukherjee', 'Peter Z Mukherjee']}\n",
      "{'pid': 1162, 'state': 'AZ', 'children': ['Jennifer G Sato', 'Sofia X Sato', 'Vicky O Sato', 'Paul B Sato', 'Julia O Sato', 'William Y Sato', 'Fatimah E Sato']}\n",
      "{'pid': 1328, 'state': 'SD', 'children': ['Isabella K Hernandez', 'Jennifer P Hernandez', 'Diego O Hernandez', 'Amit N Hernandez', 'Ashley Y Hernandez', 'Michelle S Hernandez', 'Linda S Hernandez']}\n",
      "{'pid': 1345, 'state': 'FL', 'children': ['Amit Q Johnson', 'Linda K Johnson', 'Noah U Johnson', 'Tanya A Johnson', 'Peter W Johnson', 'Mohammad W Johnson', 'Hasan W Johnson']}\n",
      "{'pid': 1458, 'state': 'OR', 'children': ['Amit W Lopez', 'Linda U Lopez', 'Madison A Lopez', 'David V Lopez', 'Bob K Lopez', 'Fatimah M Lopez', 'Julia W Lopez']}\n",
      "{'pid': 1474, 'state': 'NH', 'children': ['Bob Y Sato', 'Mohammed F Sato', 'Hannah W Sato', 'Jayla K Sato', 'Julia B Sato', 'Ava M Sato', 'John U Sato']}\n",
      "{'pid': 1515, 'state': 'MS', 'children': ['Madison Q Williams', 'Valentina C Williams', 'Jayden O Williams', 'Linda T Williams', 'Ava D Williams', 'Rahul Z Williams', 'Mohammad M Williams']}\n",
      "{'pid': 1719, 'state': 'CA', 'children': ['Priya Z Liu', 'Sarah W Liu', 'Peter U Liu', 'Sofia R Liu', 'William X Liu', 'John D Liu', 'Mary Y Liu']}\n",
      "{'pid': 1729, 'state': 'VT', 'children': ['Jeffrey W Dang', 'Rahul N Dang', 'Raj Y Dang', 'Peter J Dang', 'Michelle B Dang', 'Daniella Z Dang', 'Alejandro E Dang']}\n",
      "{'pid': 1870, 'state': 'NM', 'children': ['John Z Tran', 'Peter D Tran', 'David V Tran', 'Mohammed Z Tran', 'Ava H Tran', 'Jennifer T Tran', 'Valentina W Tran']}\n"
     ]
    }
   ],
   "source": [
    "# Query to find people with exactly 7 children, projecting specific fields\n",
    "results = peeps.find(\n",
    "    {\"numChildren\": 7},  # Filter condition\n",
    "    # Projection to include only pid, state, and children\n",
    "    {\"_id\": 0, \"pid\": 1, \"state\": 1, \"children\": 1}\n",
    ")\n",
    "\n",
    "# Print the results\n",
    "for person in results:\n",
    "    print(person)"
   ]
  },
  {
   "cell_type": "code",
   "execution_count": 7,
   "metadata": {},
   "outputs": [
    {
     "name": "stdout",
     "output_type": "stream",
     "text": [
      "{'_id': ObjectId('673540adeb0ae0ddfb42a5d7'), 'pid': 467, 'firstName': 'Priya', 'MI': 'M', 'lastName': 'Martinez', 'state': 'CA', 'age': 24, 'birth': 1995, 'salary': 70797, 'numChildren': 6, 'children': ['Santiago N Martinez', 'Bob Y Martinez', 'Sofia Y Martinez', 'Linda N Martinez', 'Daniella C Martinez', 'William V Martinez'], 'weight': 89, 'height': 180}\n",
      "{'_id': ObjectId('673540aeeb0ae0ddfb42a8e5'), 'pid': 1249, 'firstName': 'Linda', 'MI': 'S', 'lastName': 'Gonzalez', 'state': 'CA', 'age': 26, 'birth': 1993, 'salary': 72713, 'numChildren': 6, 'children': ['Ashley P Gonzalez', 'Vivek W Gonzalez', 'Vivek Y Gonzalez', 'Ashley Q Gonzalez', 'Ashley E Gonzalez', 'John W Gonzalez'], 'weight': 45, 'height': 167}\n"
     ]
    }
   ],
   "source": [
    "\n",
    "# Query to find people living in CA with exactly 6 children\n",
    "results = peeps.find({\"state\": \"CA\", \"numChildren\": 6})\n",
    "\n",
    "# Print the results\n",
    "for person in results:\n",
    "    print(person)"
   ]
  },
  {
   "cell_type": "code",
   "execution_count": 8,
   "metadata": {},
   "outputs": [
    {
     "name": "stdout",
     "output_type": "stream",
     "text": [
      "{'_id': ObjectId('673540adeb0ae0ddfb42a5d7'), 'pid': 467, 'firstName': 'Priya', 'MI': 'M', 'lastName': 'Martinez', 'state': 'CA', 'age': 24, 'birth': 1995, 'salary': 70797, 'numChildren': 6, 'children': ['Santiago N Martinez', 'Bob Y Martinez', 'Sofia Y Martinez', 'Linda N Martinez', 'Daniella C Martinez', 'William V Martinez'], 'weight': 89, 'height': 180}\n",
      "{'_id': ObjectId('673540aeeb0ae0ddfb42a8e5'), 'pid': 1249, 'firstName': 'Linda', 'MI': 'S', 'lastName': 'Gonzalez', 'state': 'CA', 'age': 26, 'birth': 1993, 'salary': 72713, 'numChildren': 6, 'children': ['Ashley P Gonzalez', 'Vivek W Gonzalez', 'Vivek Y Gonzalez', 'Ashley Q Gonzalez', 'Ashley E Gonzalez', 'John W Gonzalez'], 'weight': 45, 'height': 167}\n",
      "{'_id': ObjectId('673540afeb0ae0ddfb42aabb'), 'pid': 1719, 'firstName': 'Jayla', 'MI': 'J', 'lastName': 'Liu', 'state': 'CA', 'age': 116, 'birth': 1903, 'salary': 77104, 'numChildren': 7, 'children': ['Priya Z Liu', 'Sarah W Liu', 'Peter U Liu', 'Sofia R Liu', 'William X Liu', 'John D Liu', 'Mary Y Liu'], 'weight': 81, 'height': 161}\n"
     ]
    }
   ],
   "source": [
    "\n",
    "# Query to find people living in CA with 6 or 7 children\n",
    "results = peeps.find({\n",
    "    \"state\": \"CA\",\n",
    "    \"numChildren\": {\"$in\": [6, 7]}  # Matches numChildren with 6 or 7\n",
    "})\n",
    "\n",
    "# Print the results\n",
    "for person in results:\n",
    "    print(person)"
   ]
  },
  {
   "cell_type": "code",
   "execution_count": 9,
   "metadata": {},
   "outputs": [
    {
     "name": "stdout",
     "output_type": "stream",
     "text": [
      "{'pid': 2, 'children': ['Vicky U Wilson', 'Noah X Wilson', 'Bob A Wilson']}\n",
      "{'pid': 338, 'children': ['Madison J Li', 'Madison B Li', 'Rahul E Li', 'Neha J Li', 'Bob A Li', 'Hasan A Li', 'Raj C Li']}\n",
      "{'pid': 1040, 'children': ['Bob A Zhao', 'Tanya F Zhao', 'Vicky M Zhao']}\n",
      "{'pid': 1210, 'children': ['Kayla W Jackson', 'Bob A Jackson', 'Rahul S Jackson', 'Vivek J Jackson']}\n",
      "{'pid': 1411, 'children': ['Neha C Chan', 'Bob A Chan', 'Tanya K Chan', 'Jayla C Chan']}\n"
     ]
    }
   ],
   "source": [
    "# Query to find people with a child whose name contains 'Bob A'\n",
    "results = peeps.find(\n",
    "    # Use regex to match children names containing 'Bob A'\n",
    "    {\"children\": {\"$regex\": \"Bob A\"}},\n",
    "    {\"_id\": 0, \"pid\": 1, \"children\": 1}  # Project pid and children fields only\n",
    ")\n",
    "\n",
    "# Print the results\n",
    "for person in results:\n",
    "    print(person)"
   ]
  },
  {
   "cell_type": "code",
   "execution_count": 10,
   "metadata": {},
   "outputs": [
    {
     "name": "stdout",
     "output_type": "stream",
     "text": [
      "{'_id': 0, 'numInGroup': 67}\n",
      "{'_id': 1, 'numInGroup': 173}\n",
      "{'_id': 2, 'numInGroup': 408}\n",
      "{'_id': 3, 'numInGroup': 569}\n",
      "{'_id': 4, 'numInGroup': 437}\n",
      "{'_id': 5, 'numInGroup': 250}\n",
      "{'_id': 6, 'numInGroup': 78}\n",
      "{'_id': 7, 'numInGroup': 16}\n",
      "{'_id': 8, 'numInGroup': 2}\n"
     ]
    }
   ],
   "source": [
    "# Aggregation pipeline\n",
    "pipeline = [\n",
    "    {\"$group\": {\n",
    "        \"_id\": \"$numChildren\",  # Group by the numChildren field\n",
    "        # Count the number of documents in each group\n",
    "        \"numInGroup\": {\"$sum\": 1}\n",
    "    }},\n",
    "    # Sort the results by the number of children (ascending)\n",
    "    {\"$sort\": {\"_id\": 1}}\n",
    "]\n",
    "\n",
    "# Execute the aggregation\n",
    "results = peeps.aggregate(pipeline)\n",
    "\n",
    "# Print the results\n",
    "for result in results:\n",
    "    print(result)"
   ]
  },
  {
   "cell_type": "code",
   "execution_count": 11,
   "metadata": {},
   "outputs": [
    {
     "name": "stdout",
     "output_type": "stream",
     "text": [
      "{'_id': 'AK', 'avgSalary': 86931.97619047618, 'numInGroup': 42}\n",
      "{'_id': 'AL', 'avgSalary': 76397.41304347826, 'numInGroup': 46}\n",
      "{'_id': 'AZ', 'avgSalary': 80633.58666666667, 'numInGroup': 75}\n",
      "{'_id': 'CA', 'avgSalary': 77116.1282051282, 'numInGroup': 39}\n",
      "{'_id': 'CO', 'avgSalary': 83968.02222222222, 'numInGroup': 45}\n",
      "{'_id': 'CT', 'avgSalary': 86389.48148148147, 'numInGroup': 27}\n",
      "{'_id': 'DE', 'avgSalary': 81791.9, 'numInGroup': 40}\n",
      "{'_id': 'FL', 'avgSalary': 85303.60869565218, 'numInGroup': 46}\n",
      "{'_id': 'GA', 'avgSalary': 85883.92307692308, 'numInGroup': 39}\n",
      "{'_id': 'HI', 'avgSalary': 75374.06976744186, 'numInGroup': 43}\n",
      "{'_id': 'IA', 'avgSalary': 84773.19230769231, 'numInGroup': 26}\n",
      "{'_id': 'ID', 'avgSalary': 81497.725, 'numInGroup': 40}\n",
      "{'_id': 'IL', 'avgSalary': 80329.17948717948, 'numInGroup': 39}\n",
      "{'_id': 'IN', 'avgSalary': 80722.02564102564, 'numInGroup': 39}\n",
      "{'_id': 'KS', 'avgSalary': 82822.25, 'numInGroup': 36}\n",
      "{'_id': 'KY', 'avgSalary': 75237.83333333333, 'numInGroup': 36}\n",
      "{'_id': 'LA', 'avgSalary': 78642.43589743589, 'numInGroup': 39}\n",
      "{'_id': 'MA', 'avgSalary': 76031.4255319149, 'numInGroup': 47}\n",
      "{'_id': 'MD', 'avgSalary': 82684.55555555556, 'numInGroup': 45}\n",
      "{'_id': 'ME', 'avgSalary': 64820.44827586207, 'numInGroup': 29}\n",
      "{'_id': 'MI', 'avgSalary': 77196.51351351352, 'numInGroup': 37}\n",
      "{'_id': 'MN', 'avgSalary': 79788.08333333333, 'numInGroup': 36}\n",
      "{'_id': 'MO', 'avgSalary': 71023.06976744186, 'numInGroup': 43}\n",
      "{'_id': 'MS', 'avgSalary': 76276.27272727272, 'numInGroup': 44}\n",
      "{'_id': 'MT', 'avgSalary': 77147.83333333333, 'numInGroup': 42}\n",
      "{'_id': 'NC', 'avgSalary': 74043.69444444444, 'numInGroup': 36}\n",
      "{'_id': 'ND', 'avgSalary': 92167.31818181818, 'numInGroup': 44}\n",
      "{'_id': 'NE', 'avgSalary': 72756.17391304347, 'numInGroup': 46}\n",
      "{'_id': 'NH', 'avgSalary': 78727.33333333333, 'numInGroup': 36}\n",
      "{'_id': 'NJ', 'avgSalary': 91666.93103448275, 'numInGroup': 29}\n",
      "{'_id': 'NM', 'avgSalary': 84028.53488372093, 'numInGroup': 43}\n",
      "{'_id': 'NV', 'avgSalary': 80805.23809523809, 'numInGroup': 42}\n",
      "{'_id': 'NY', 'avgSalary': 83155.72222222222, 'numInGroup': 54}\n",
      "{'_id': 'OH', 'avgSalary': 81560.09302325582, 'numInGroup': 43}\n",
      "{'_id': 'OK', 'avgSalary': 82044.42424242424, 'numInGroup': 33}\n",
      "{'_id': 'OR', 'avgSalary': 76614.54545454546, 'numInGroup': 44}\n",
      "{'_id': 'PA', 'avgSalary': 75458.61538461539, 'numInGroup': 39}\n",
      "{'_id': 'RI', 'avgSalary': 81733.62068965517, 'numInGroup': 29}\n",
      "{'_id': 'SC', 'avgSalary': 81701.57777777778, 'numInGroup': 45}\n",
      "{'_id': 'SD', 'avgSalary': 81560.26, 'numInGroup': 50}\n",
      "{'_id': 'TN', 'avgSalary': 90134.0, 'numInGroup': 29}\n",
      "{'_id': 'TX', 'avgSalary': 78097.27272727272, 'numInGroup': 44}\n",
      "{'_id': 'UT', 'avgSalary': 82353.93023255814, 'numInGroup': 43}\n",
      "{'_id': 'VA', 'avgSalary': 80331.0, 'numInGroup': 39}\n",
      "{'_id': 'VT', 'avgSalary': 69773.73469387754, 'numInGroup': 49}\n",
      "{'_id': 'WA', 'avgSalary': 79021.79591836735, 'numInGroup': 49}\n",
      "{'_id': 'WI', 'avgSalary': 81550.875, 'numInGroup': 24}\n",
      "{'_id': 'WV', 'avgSalary': 71989.26190476191, 'numInGroup': 42}\n",
      "{'_id': 'WY', 'avgSalary': 80849.47916666667, 'numInGroup': 48}\n"
     ]
    }
   ],
   "source": [
    "# Aggregation pipeline\n",
    "pipeline = [\n",
    "    {\"$group\": {\n",
    "        \"_id\": \"$state\",  # Group by state\n",
    "        \"avgSalary\": {\"$avg\": \"$salary\"},  # Calculate average salary\n",
    "        \"numInGroup\": {\"$sum\": 1}  # Count the number of people in each state\n",
    "    }},\n",
    "    {\"$sort\": {\"_id\": 1}}  # Sort by state (alphabetically)\n",
    "]\n",
    "\n",
    "# Execute the aggregation\n",
    "results = peeps.aggregate(pipeline)\n",
    "\n",
    "# Print the results\n",
    "for result in results:\n",
    "    print(result)"
   ]
  },
  {
   "cell_type": "code",
   "execution_count": 12,
   "metadata": {},
   "outputs": [
    {
     "name": "stdout",
     "output_type": "stream",
     "text": [
      "{'_id': 'WI', 'avgSalary': 81550.875, 'numInGroup': 24}\n"
     ]
    }
   ],
   "source": [
    "# Aggregation pipeline\n",
    "pipeline = [\n",
    "    {\"$match\": {\"state\": \"WI\"}},  # Filter to include only people in WI\n",
    "    {\"$group\": {\n",
    "        \"_id\": \"$state\",  # Group by state (WI only)\n",
    "        \"avgSalary\": {\"$avg\": \"$salary\"},  # Calculate average salary\n",
    "        \"numInGroup\": {\"$sum\": 1}  # Count the number of people in WI\n",
    "    }}\n",
    "]\n",
    "\n",
    "# Execute the aggregation\n",
    "results = peeps.aggregate(pipeline)\n",
    "\n",
    "# Print the results\n",
    "for result in results:\n",
    "    print(result)"
   ]
  },
  {
   "cell_type": "code",
   "execution_count": 13,
   "metadata": {},
   "outputs": [
    {
     "name": "stdout",
     "output_type": "stream",
     "text": [
      "{'_id': 'IA', 'avgSalary': 84773.19230769231, 'minSalary': 32278, 'maxSalary': 129977, 'numInGroup': 26}\n",
      "{'_id': 'IL', 'avgSalary': 80329.17948717948, 'minSalary': 32045, 'maxSalary': 127126, 'numInGroup': 39}\n",
      "{'_id': 'IN', 'avgSalary': 80722.02564102564, 'minSalary': 32116, 'maxSalary': 128675, 'numInGroup': 39}\n",
      "{'_id': 'KS', 'avgSalary': 82822.25, 'minSalary': 30954, 'maxSalary': 129962, 'numInGroup': 36}\n",
      "{'_id': 'MI', 'avgSalary': 77196.51351351352, 'minSalary': 35749, 'maxSalary': 128868, 'numInGroup': 37}\n",
      "{'_id': 'MN', 'avgSalary': 79788.08333333333, 'minSalary': 31425, 'maxSalary': 125317, 'numInGroup': 36}\n",
      "{'_id': 'MS', 'avgSalary': 76276.27272727272, 'minSalary': 30342, 'maxSalary': 127985, 'numInGroup': 44}\n",
      "{'_id': 'ND', 'avgSalary': 92167.31818181818, 'minSalary': 38172, 'maxSalary': 129437, 'numInGroup': 44}\n",
      "{'_id': 'NE', 'avgSalary': 72756.17391304347, 'minSalary': 30179, 'maxSalary': 129283, 'numInGroup': 46}\n",
      "{'_id': 'OH', 'avgSalary': 81560.09302325582, 'minSalary': 31223, 'maxSalary': 129487, 'numInGroup': 43}\n",
      "{'_id': 'SD', 'avgSalary': 81560.26, 'minSalary': 34495, 'maxSalary': 129228, 'numInGroup': 50}\n",
      "{'_id': 'WI', 'avgSalary': 81550.875, 'minSalary': 34027, 'maxSalary': 124138, 'numInGroup': 24}\n"
     ]
    }
   ],
   "source": [
    "# Midwest states\n",
    "midwest_states = [\"ND\", \"SD\", \"NE\", \"KS\", \"MN\",\n",
    "                  \"IA\", \"MS\", \"WI\", \"IL\", \"IN\", \"MI\", \"OH\"]\n",
    "\n",
    "# Aggregation pipeline\n",
    "pipeline = [\n",
    "    {\"$match\": {\"state\": {\"$in\": midwest_states}}},  # Filter for Midwest states\n",
    "    {\"$group\": {\n",
    "        \"_id\": \"$state\",  # Group by state\n",
    "        \"avgSalary\": {\"$avg\": \"$salary\"},  # Calculate average salary\n",
    "        \"minSalary\": {\"$min\": \"$salary\"},  # Calculate minimum salary\n",
    "        \"maxSalary\": {\"$max\": \"$salary\"},  # Calculate maximum salary\n",
    "        \"numInGroup\": {\"$sum\": 1}  # Count the number of people in each state\n",
    "    }},\n",
    "    {\"$sort\": {\"_id\": 1}}  # Sort by state alphabetically\n",
    "]\n",
    "\n",
    "# Execute the aggregation\n",
    "results = peeps.aggregate(pipeline)\n",
    "\n",
    "# Print the results\n",
    "for result in results:\n",
    "    print(result)"
   ]
  },
  {
   "cell_type": "code",
   "execution_count": 14,
   "metadata": {},
   "outputs": [
    {
     "name": "stdout",
     "output_type": "stream",
     "text": [
      "{'_id': 'AK', 'avgSalary': 86931.97619047618, 'numInGroup': 42}\n",
      "{'_id': 'CO', 'avgSalary': 83968.02222222222, 'numInGroup': 45}\n",
      "{'_id': 'CT', 'avgSalary': 86389.48148148147, 'numInGroup': 27}\n",
      "{'_id': 'FL', 'avgSalary': 85303.60869565218, 'numInGroup': 46}\n",
      "{'_id': 'GA', 'avgSalary': 85883.92307692308, 'numInGroup': 39}\n",
      "{'_id': 'IA', 'avgSalary': 84773.19230769231, 'numInGroup': 26}\n",
      "{'_id': 'KS', 'avgSalary': 82822.25, 'numInGroup': 36}\n",
      "{'_id': 'MD', 'avgSalary': 82684.55555555556, 'numInGroup': 45}\n",
      "{'_id': 'ND', 'avgSalary': 92167.31818181818, 'numInGroup': 44}\n",
      "{'_id': 'NJ', 'avgSalary': 91666.93103448275, 'numInGroup': 29}\n",
      "{'_id': 'NM', 'avgSalary': 84028.53488372093, 'numInGroup': 43}\n",
      "{'_id': 'NY', 'avgSalary': 83155.72222222222, 'numInGroup': 54}\n",
      "{'_id': 'OK', 'avgSalary': 82044.42424242424, 'numInGroup': 33}\n",
      "{'_id': 'TN', 'avgSalary': 90134.0, 'numInGroup': 29}\n",
      "{'_id': 'UT', 'avgSalary': 82353.93023255814, 'numInGroup': 43}\n"
     ]
    }
   ],
   "source": [
    "\n",
    "# Aggregation pipeline\n",
    "pipeline = [\n",
    "    {\"$group\": {\n",
    "        \"_id\": \"$state\",  # Group by state\n",
    "        \"avgSalary\": {\"$avg\": \"$salary\"},  # Calculate average salary\n",
    "        \"numInGroup\": {\"$sum\": 1}  # Count the number of people in each state\n",
    "    }},\n",
    "    # Filter states with avgSalary >= 82,000\n",
    "    {\"$match\": {\"avgSalary\": {\"$gte\": 82000}}},\n",
    "    {\"$sort\": {\"_id\": 1}}  # Sort by state alphabetically\n",
    "]\n",
    "\n",
    "# Execute the aggregation\n",
    "results = peeps.aggregate(pipeline)\n",
    "\n",
    "# Print the results\n",
    "for result in results:\n",
    "    print(result)"
   ]
  },
  {
   "cell_type": "code",
   "execution_count": 15,
   "metadata": {},
   "outputs": [
    {
     "name": "stdout",
     "output_type": "stream",
     "text": [
      "{'_id': 'IA', 'avgSalary': 84773.19230769231, 'minSalary': 32278, 'maxSalary': 129977, 'numInGroup': 26}\n",
      "{'_id': 'KS', 'avgSalary': 82822.25, 'minSalary': 30954, 'maxSalary': 129962, 'numInGroup': 36}\n",
      "{'_id': 'ND', 'avgSalary': 92167.31818181818, 'minSalary': 38172, 'maxSalary': 129437, 'numInGroup': 44}\n"
     ]
    }
   ],
   "source": [
    "\n",
    "# Aggregation pipeline\n",
    "pipeline = [\n",
    "    {\"$match\": {\"state\": {\"$in\": midwest_states}}},  # Filter for Midwest states\n",
    "    {\"$group\": {\n",
    "        \"_id\": \"$state\",  # Group by state\n",
    "        \"avgSalary\": {\"$avg\": \"$salary\"},  # Calculate average salary\n",
    "        \"minSalary\": {\"$min\": \"$salary\"},  # Calculate minimum salary\n",
    "        \"maxSalary\": {\"$max\": \"$salary\"},  # Calculate maximum salary\n",
    "        \"numInGroup\": {\"$sum\": 1}  # Count the number of people in each state\n",
    "    }},\n",
    "    # Filter states with avgSalary > 82,000\n",
    "    {\"$match\": {\"avgSalary\": {\"$gt\": 82000}}},\n",
    "    {\"$sort\": {\"_id\": 1}}  # Sort by state alphabetically\n",
    "]\n",
    "\n",
    "# Execute the aggregation\n",
    "results = peeps.aggregate(pipeline)\n",
    "\n",
    "# Print the results\n",
    "for result in results:\n",
    "    print(result)"
   ]
  },
  {
   "cell_type": "code",
   "execution_count": null,
   "metadata": {},
   "outputs": [],
   "source": [
    "# # Close the cursor and connection\n",
    "# cursor.close()\n",
    "# connection.close()"
   ]
  }
 ],
 "metadata": {
  "kernelspec": {
   "display_name": "Python 3",
   "language": "python",
   "name": "python3"
  },
  "language_info": {
   "codemirror_mode": {
    "name": "ipython",
    "version": 3
   },
   "file_extension": ".py",
   "mimetype": "text/x-python",
   "name": "python",
   "nbconvert_exporter": "python",
   "pygments_lexer": "ipython3",
   "version": "3.12.7"
  }
 },
 "nbformat": 4,
 "nbformat_minor": 2
}
