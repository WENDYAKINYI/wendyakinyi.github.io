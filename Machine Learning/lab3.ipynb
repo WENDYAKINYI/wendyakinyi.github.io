{
 "cells": [
  {
   "cell_type": "code",
   "execution_count": 3,
   "metadata": {},
   "outputs": [],
   "source": [
    "import seaborn as sns\n",
    "import pandas as pd\n",
    "import numpy as np\n",
    "import matplotlib.pyplot as plt\n",
    "from sklearn.model_selection import train_test_split\n",
    "from sklearn.model_selection import train_test_split, cross_val_predict, GridSearchCV\n",
    "from sklearn.preprocessing import StandardScaler\n",
    "from sklearn.linear_model import LogisticRegression\n",
    "from sklearn.svm import SVC\n",
    "from sklearn.tree import DecisionTreeClassifier\n",
    "from sklearn.metrics import classification_report, confusion_matrix, roc_auc_score"
   ]
  },
  {
   "cell_type": "markdown",
   "metadata": {},
   "source": [
    "Part 1: Data Exploration and Preparation"
   ]
  },
  {
   "cell_type": "markdown",
   "metadata": {},
   "source": [
    "a. Load the Titanic DataFrame from Seaborn using the load_dataset(‘titanic’) method."
   ]
  },
  {
   "cell_type": "code",
   "execution_count": 4,
   "metadata": {},
   "outputs": [
    {
     "data": {
      "text/html": [
       "<div>\n",
       "<style scoped>\n",
       "    .dataframe tbody tr th:only-of-type {\n",
       "        vertical-align: middle;\n",
       "    }\n",
       "\n",
       "    .dataframe tbody tr th {\n",
       "        vertical-align: top;\n",
       "    }\n",
       "\n",
       "    .dataframe thead th {\n",
       "        text-align: right;\n",
       "    }\n",
       "</style>\n",
       "<table border=\"1\" class=\"dataframe\">\n",
       "  <thead>\n",
       "    <tr style=\"text-align: right;\">\n",
       "      <th></th>\n",
       "      <th>survived</th>\n",
       "      <th>pclass</th>\n",
       "      <th>sex</th>\n",
       "      <th>age</th>\n",
       "      <th>sibsp</th>\n",
       "      <th>parch</th>\n",
       "      <th>fare</th>\n",
       "      <th>embarked</th>\n",
       "      <th>class</th>\n",
       "      <th>who</th>\n",
       "      <th>adult_male</th>\n",
       "      <th>deck</th>\n",
       "      <th>embark_town</th>\n",
       "      <th>alive</th>\n",
       "      <th>alone</th>\n",
       "    </tr>\n",
       "  </thead>\n",
       "  <tbody>\n",
       "    <tr>\n",
       "      <th>0</th>\n",
       "      <td>0</td>\n",
       "      <td>3</td>\n",
       "      <td>male</td>\n",
       "      <td>22.0</td>\n",
       "      <td>1</td>\n",
       "      <td>0</td>\n",
       "      <td>7.2500</td>\n",
       "      <td>S</td>\n",
       "      <td>Third</td>\n",
       "      <td>man</td>\n",
       "      <td>True</td>\n",
       "      <td>NaN</td>\n",
       "      <td>Southampton</td>\n",
       "      <td>no</td>\n",
       "      <td>False</td>\n",
       "    </tr>\n",
       "    <tr>\n",
       "      <th>1</th>\n",
       "      <td>1</td>\n",
       "      <td>1</td>\n",
       "      <td>female</td>\n",
       "      <td>38.0</td>\n",
       "      <td>1</td>\n",
       "      <td>0</td>\n",
       "      <td>71.2833</td>\n",
       "      <td>C</td>\n",
       "      <td>First</td>\n",
       "      <td>woman</td>\n",
       "      <td>False</td>\n",
       "      <td>C</td>\n",
       "      <td>Cherbourg</td>\n",
       "      <td>yes</td>\n",
       "      <td>False</td>\n",
       "    </tr>\n",
       "    <tr>\n",
       "      <th>2</th>\n",
       "      <td>1</td>\n",
       "      <td>3</td>\n",
       "      <td>female</td>\n",
       "      <td>26.0</td>\n",
       "      <td>0</td>\n",
       "      <td>0</td>\n",
       "      <td>7.9250</td>\n",
       "      <td>S</td>\n",
       "      <td>Third</td>\n",
       "      <td>woman</td>\n",
       "      <td>False</td>\n",
       "      <td>NaN</td>\n",
       "      <td>Southampton</td>\n",
       "      <td>yes</td>\n",
       "      <td>True</td>\n",
       "    </tr>\n",
       "    <tr>\n",
       "      <th>3</th>\n",
       "      <td>1</td>\n",
       "      <td>1</td>\n",
       "      <td>female</td>\n",
       "      <td>35.0</td>\n",
       "      <td>1</td>\n",
       "      <td>0</td>\n",
       "      <td>53.1000</td>\n",
       "      <td>S</td>\n",
       "      <td>First</td>\n",
       "      <td>woman</td>\n",
       "      <td>False</td>\n",
       "      <td>C</td>\n",
       "      <td>Southampton</td>\n",
       "      <td>yes</td>\n",
       "      <td>False</td>\n",
       "    </tr>\n",
       "    <tr>\n",
       "      <th>4</th>\n",
       "      <td>0</td>\n",
       "      <td>3</td>\n",
       "      <td>male</td>\n",
       "      <td>35.0</td>\n",
       "      <td>0</td>\n",
       "      <td>0</td>\n",
       "      <td>8.0500</td>\n",
       "      <td>S</td>\n",
       "      <td>Third</td>\n",
       "      <td>man</td>\n",
       "      <td>True</td>\n",
       "      <td>NaN</td>\n",
       "      <td>Southampton</td>\n",
       "      <td>no</td>\n",
       "      <td>True</td>\n",
       "    </tr>\n",
       "  </tbody>\n",
       "</table>\n",
       "</div>"
      ],
      "text/plain": [
       "   survived  pclass     sex   age  sibsp  parch     fare embarked  class  \\\n",
       "0         0       3    male  22.0      1      0   7.2500        S  Third   \n",
       "1         1       1  female  38.0      1      0  71.2833        C  First   \n",
       "2         1       3  female  26.0      0      0   7.9250        S  Third   \n",
       "3         1       1  female  35.0      1      0  53.1000        S  First   \n",
       "4         0       3    male  35.0      0      0   8.0500        S  Third   \n",
       "\n",
       "     who  adult_male deck  embark_town alive  alone  \n",
       "0    man        True  NaN  Southampton    no  False  \n",
       "1  woman       False    C    Cherbourg   yes  False  \n",
       "2  woman       False  NaN  Southampton   yes   True  \n",
       "3  woman       False    C  Southampton   yes  False  \n",
       "4    man        True  NaN  Southampton    no   True  "
      ]
     },
     "execution_count": 4,
     "metadata": {},
     "output_type": "execute_result"
    }
   ],
   "source": [
    "titanic_df=sns.load_dataset('titanic')\n",
    "titanic_df.head()\n"
   ]
  },
  {
   "cell_type": "markdown",
   "metadata": {},
   "source": [
    "b. For all features in the DataFrame, identify the number of instances with null values and the \n",
    "percentage of the feature that is null. Hint: one feature is mostly nulls (> 75%)."
   ]
  },
  {
   "cell_type": "code",
   "execution_count": 5,
   "metadata": {},
   "outputs": [
    {
     "name": "stdout",
     "output_type": "stream",
     "text": [
      "Null counts:\n",
      " survived         0\n",
      "pclass           0\n",
      "sex              0\n",
      "age            177\n",
      "sibsp            0\n",
      "parch            0\n",
      "fare             0\n",
      "embarked         2\n",
      "class            0\n",
      "who              0\n",
      "adult_male       0\n",
      "deck           688\n",
      "embark_town      2\n",
      "alive            0\n",
      "alone            0\n",
      "dtype: int64\n",
      "\n",
      "Null percentages:\n",
      " survived        0.000000\n",
      "pclass          0.000000\n",
      "sex             0.000000\n",
      "age            19.865320\n",
      "sibsp           0.000000\n",
      "parch           0.000000\n",
      "fare            0.000000\n",
      "embarked        0.224467\n",
      "class           0.000000\n",
      "who             0.000000\n",
      "adult_male      0.000000\n",
      "deck           77.216611\n",
      "embark_town     0.224467\n",
      "alive           0.000000\n",
      "alone           0.000000\n",
      "dtype: float64\n"
     ]
    }
   ],
   "source": [
    "null_counts = titanic_df.isnull().sum()\n",
    "null_counts_percentages= (null_counts/len(titanic_df))*100\n",
    "\n",
    "print(\"Null counts:\\n\", null_counts)\n",
    "print(\"\\nNull percentages:\\n\", null_counts_percentages)"
   ]
  },
  {
   "cell_type": "markdown",
   "metadata": {},
   "source": [
    "c. Remove the feature that is mostly null values"
   ]
  },
  {
   "cell_type": "code",
   "execution_count": 6,
   "metadata": {},
   "outputs": [],
   "source": [
    "if 'deck' in titanic_df.columns:\n",
    "    titanic_df.drop(columns=['deck'], inplace=True)\n",
    "else:\n",
    "    print(\"Column 'deck' not found in the dataset\")"
   ]
  },
  {
   "cell_type": "markdown",
   "metadata": {},
   "source": [
    "d. This dataset includes four redundant features (Separate features that represent equivalent \n",
    "information). Review the features to identify these four pairs, and conduct quantitative analysis to \n",
    "verify the direct relationship between the pairings. Hint: drop_duplicates is pretty straightforward."
   ]
  },
  {
   "cell_type": "code",
   "execution_count": 8,
   "metadata": {},
   "outputs": [
    {
     "name": "stdout",
     "output_type": "stream",
     "text": [
      "\n",
      "Redundant feature analysis:\n",
      "\n",
      "Class vs PClass unique pairs:\n",
      "    class  pclass\n",
      "0   Third       3\n",
      "1   First       1\n",
      "9  Second       2\n",
      "\n",
      "Embarked vs Embarked_Town unique pairs:\n",
      "   embarked  embark_town\n",
      "0         S  Southampton\n",
      "1         C    Cherbourg\n",
      "5         Q   Queenstown\n",
      "61      NaN          NaN\n",
      "\n",
      "who vs adult_male unique pairs:\n",
      "     who  adult_male\n",
      "0    man        True\n",
      "1  woman       False\n",
      "7  child       False\n",
      "\n",
      "who vs alive survived:\n",
      "  alive  survived\n",
      "0    no         0\n",
      "1   yes         1\n"
     ]
    }
   ],
   "source": [
    "print(\"\\nRedundant feature analysis:\")\n",
    "print(\"\\nClass vs PClass unique pairs:\")\n",
    "print(titanic_df[['class', 'pclass']].drop_duplicates())\n",
    "print(\"\\nEmbarked vs Embarked_Town unique pairs:\")\n",
    "print(titanic_df[['embarked', 'embark_town']].drop_duplicates())\n",
    "print(\"\\nwho vs adult_male unique pairs:\")\n",
    "print(titanic_df[['who', 'adult_male']].drop_duplicates())\n",
    "print(\"\\nwho vs alive survived:\")\n",
    "print(titanic_df[['alive', 'survived']].drop_duplicates())"
   ]
  },
  {
   "cell_type": "markdown",
   "metadata": {},
   "source": [
    "e. Keep the survived, embarked_town, adult_male and pclass features, and drop the redundant features \n",
    "found in Part 1D that pairs to each of these four. Hint: Four features will be dropped."
   ]
  },
  {
   "cell_type": "code",
   "execution_count": 9,
   "metadata": {},
   "outputs": [],
   "source": [
    "# Redundant pairs to embarked_town, adult_male, pclass, survived\n",
    "drop_columns = ['embarked', 'who', 'class', 'alive']\n",
    "titanic_df.drop(columns=drop_columns, inplace=True)"
   ]
  },
  {
   "cell_type": "markdown",
   "metadata": {},
   "source": [
    "f. The feature adult_male was engineered from other features in the dataset. In a markdown cell, \n",
    "document the logic to achieve adult_male. The logic should resemble: “adult_male is engineered \n",
    "from features X and Y, such that if X is greater than, or equal to BLAH, and Y is equal to BLEH, then \n",
    "adult_male is True, else adult_male is False. Hint: The feature name should offer a clue to the \n",
    "features employed. Also, consider the groupby functionality. "
   ]
  },
  {
   "cell_type": "markdown",
   "metadata": {},
   "source": [
    "##`adult_male` is engineered from `age` and `sex`, such that if `age` >= 18 and `sex` == 'male', then `adult_male` is True, else False."
   ]
  },
  {
   "cell_type": "markdown",
   "metadata": {},
   "source": [
    "g. Drop the adult_male feature from the DataFrame"
   ]
  },
  {
   "cell_type": "code",
   "execution_count": 10,
   "metadata": {},
   "outputs": [],
   "source": [
    "titanic_df = titanic_df.drop(columns=['adult_male'])"
   ]
  },
  {
   "cell_type": "markdown",
   "metadata": {},
   "source": [
    "h. Explore the data and answer the following questions in markdown cells:\n",
    "i. Did more women or men die on the Titanic? \n",
    "Show this as 1) a count by sex, and 2) a percentage by sex (that is, of the total number of male \n",
    "passengers, what percentage of males died? And for the total number of female passengers, what \n",
    "percentage of females did not survive?)\n"
   ]
  },
  {
   "cell_type": "code",
   "execution_count": 11,
   "metadata": {},
   "outputs": [
    {
     "name": "stdout",
     "output_type": "stream",
     "text": [
      "survivor counts by sex\n",
      "survived    0    1\n",
      "sex               \n",
      "female     81  233\n",
      "male      468  109\n",
      "\n",
      "Survivor Percentages\n",
      "survived          0          1\n",
      "sex                           \n",
      "female    25.796178  74.203822\n",
      "male      81.109185  18.890815\n"
     ]
    }
   ],
   "source": [
    "survivor_counts_sex = titanic_df.groupby('sex')['survived'].value_counts().unstack()\n",
    "survivor_percentages = (survivor_counts_sex.div(\n",
    "    survivor_counts_sex.sum(axis=1), axis=0) * 100)\n",
    "print('survivor counts by sex')\n",
    "print(survivor_counts_sex)\n",
    "print('\\nSurvivor Percentages')\n",
    "print(survivor_percentages)"
   ]
  },
  {
   "cell_type": "markdown",
   "metadata": {},
   "source": [
    "## More men died in the titanic as shown  men compared to women."
   ]
  },
  {
   "cell_type": "markdown",
   "metadata": {},
   "source": [
    "ii. What percentages of passengers survived by passenger class?\n"
   ]
  },
  {
   "cell_type": "code",
   "execution_count": 12,
   "metadata": {},
   "outputs": [
    {
     "data": {
      "text/html": [
       "<div>\n",
       "<style scoped>\n",
       "    .dataframe tbody tr th:only-of-type {\n",
       "        vertical-align: middle;\n",
       "    }\n",
       "\n",
       "    .dataframe tbody tr th {\n",
       "        vertical-align: top;\n",
       "    }\n",
       "\n",
       "    .dataframe thead th {\n",
       "        text-align: right;\n",
       "    }\n",
       "</style>\n",
       "<table border=\"1\" class=\"dataframe\">\n",
       "  <thead>\n",
       "    <tr style=\"text-align: right;\">\n",
       "      <th>survived</th>\n",
       "      <th>0</th>\n",
       "      <th>1</th>\n",
       "    </tr>\n",
       "    <tr>\n",
       "      <th>pclass</th>\n",
       "      <th></th>\n",
       "      <th></th>\n",
       "    </tr>\n",
       "  </thead>\n",
       "  <tbody>\n",
       "    <tr>\n",
       "      <th>1</th>\n",
       "      <td>37.037037</td>\n",
       "      <td>62.962963</td>\n",
       "    </tr>\n",
       "    <tr>\n",
       "      <th>2</th>\n",
       "      <td>52.717391</td>\n",
       "      <td>47.282609</td>\n",
       "    </tr>\n",
       "    <tr>\n",
       "      <th>3</th>\n",
       "      <td>75.763747</td>\n",
       "      <td>24.236253</td>\n",
       "    </tr>\n",
       "  </tbody>\n",
       "</table>\n",
       "</div>"
      ],
      "text/plain": [
       "survived          0          1\n",
       "pclass                        \n",
       "1         37.037037  62.962963\n",
       "2         52.717391  47.282609\n",
       "3         75.763747  24.236253"
      ]
     },
     "execution_count": 12,
     "metadata": {},
     "output_type": "execute_result"
    }
   ],
   "source": [
    "survivor_by_class = titanic_df.groupby(\n",
    "    'pclass')['survived'].value_counts(normalize=True).unstack()\n",
    "survivor_percentages_class = (survivor_by_class.div(\n",
    "    survivor_by_class.sum(axis=1), axis=0) * 100)\n",
    "survivor_percentages_class"
   ]
  },
  {
   "cell_type": "markdown",
   "metadata": {},
   "source": [
    "iii. Describe the distribution of fare values\n"
   ]
  },
  {
   "cell_type": "code",
   "execution_count": 13,
   "metadata": {},
   "outputs": [
    {
     "data": {
      "text/plain": [
       "count    891.000000\n",
       "mean      32.204208\n",
       "std       49.693429\n",
       "min        0.000000\n",
       "25%        7.910400\n",
       "50%       14.454200\n",
       "75%       31.000000\n",
       "max      512.329200\n",
       "Name: fare, dtype: float64"
      ]
     },
     "execution_count": 13,
     "metadata": {},
     "output_type": "execute_result"
    }
   ],
   "source": [
    "titanic_df['fare'].describe().T"
   ]
  },
  {
   "cell_type": "markdown",
   "metadata": {},
   "source": [
    "iv. Describe the distribution of non-null age values\n"
   ]
  },
  {
   "cell_type": "code",
   "execution_count": 14,
   "metadata": {},
   "outputs": [
    {
     "data": {
      "text/plain": [
       "count    714.000000\n",
       "mean      29.699118\n",
       "std       14.526497\n",
       "min        0.420000\n",
       "25%       20.125000\n",
       "50%       28.000000\n",
       "75%       38.000000\n",
       "max       80.000000\n",
       "Name: age, dtype: float64"
      ]
     },
     "execution_count": 14,
     "metadata": {},
     "output_type": "execute_result"
    }
   ],
   "source": [
    "titanic_df['age'].dropna().describe().T\n"
   ]
  },
  {
   "cell_type": "markdown",
   "metadata": {},
   "source": [
    "\n",
    "v. What is the median age for each passenger class?\n"
   ]
  },
  {
   "cell_type": "code",
   "execution_count": 15,
   "metadata": {},
   "outputs": [
    {
     "data": {
      "text/plain": [
       "pclass\n",
       "1    37.0\n",
       "2    29.0\n",
       "3    24.0\n",
       "Name: age, dtype: float64"
      ]
     },
     "execution_count": 15,
     "metadata": {},
     "output_type": "execute_result"
    }
   ],
   "source": [
    "median_age_pclass = titanic_df.groupby('pclass')['age'].median()\n",
    "median_age_pclass"
   ]
  },
  {
   "cell_type": "markdown",
   "metadata": {},
   "source": [
    "vi. Plot the distributions of age by passenger class in box plots"
   ]
  },
  {
   "cell_type": "code",
   "execution_count": 16,
   "metadata": {},
   "outputs": [
    {
     "data": {
      "image/png": "[encoded data removed]",
      "text/plain": [
       "<Figure size 800x600 with 1 Axes>"
      ]
     },
     "metadata": {},
     "output_type": "display_data"
    }
   ],
   "source": [
    "plt.figure(figsize=(8, 6))\n",
    "sns.boxplot(x='pclass', y='age', data=titanic_df)\n",
    "plt.title('Age Distribution by Passenger Class')\n",
    "plt.show()"
   ]
  },
  {
   "cell_type": "markdown",
   "metadata": {},
   "source": [
    "i. Null values are still present in the data set. Define a lambda function to impute the null age value\n",
    "with the median value by passenger class that was identified in Part 1"
   ]
  },
  {
   "cell_type": "code",
   "execution_count": 17,
   "metadata": {},
   "outputs": [],
   "source": [
    "# titanic_df.isnull().sum()\n",
    "titanic_df['age'] = titanic_df.groupby('pclass')['age'].transform(\n",
    "    lambda x: x.fillna(x.median()))"
   ]
  },
  {
   "cell_type": "markdown",
   "metadata": {},
   "source": [
    "j. Drop the remaining instances in the data set that contain null values and verify that no null values \n",
    "exist in the DataFrame. Show the number of rows remaining in the data set. \n",
    "Hint: If a sanity check is needed, two rows will be dropped in this step, and 889 rows should remain."
   ]
  },
  {
   "cell_type": "code",
   "execution_count": 18,
   "metadata": {},
   "outputs": [
    {
     "name": "stdout",
     "output_type": "stream",
     "text": [
      "\n",
      "Number of rows after dropping nulls: 889\n"
     ]
    }
   ],
   "source": [
    "titanic_df = titanic_df.dropna()\n",
    "print(\"\\nNumber of rows after dropping nulls:\", len(titanic_df))"
   ]
  },
  {
   "cell_type": "markdown",
   "metadata": {},
   "source": [
    "k. Using either .info() or .dtypes, identify and document which features are of Pandas data type category. "
   ]
  },
  {
   "cell_type": "code",
   "execution_count": 21,
   "metadata": {},
   "outputs": [
    {
     "name": "stdout",
     "output_type": "stream",
     "text": [
      "\n",
      "Features with category dtype:\n",
      "Index(['sex', 'embark_town'], dtype='object')\n"
     ]
    }
   ],
   "source": [
    "print(\"\\nFeatures with category dtype:\")\n",
    "print(titanic_df.select_dtypes(include=['category', 'object']).columns)"
   ]
  },
  {
   "cell_type": "markdown",
   "metadata": {},
   "source": [
    "l. Review the DataFrame and in a Markdown cell document which other input features could be \n",
    "categorical. Keep in mind that the feature survived is the Target variable, so it won’t need converting. \n",
    "Hint: The feature pclass is a data type int, but only takes on three unique values. Is this features \n",
    "really an int, or is it categorical? Examine the unique values each feature can take, and consider the \n",
    "feature name. I found four input features that were categorical."
   ]
  },
  {
   "cell_type": "code",
   "execution_count": 22,
   "metadata": {},
   "outputs": [
    {
     "name": "stdout",
     "output_type": "stream",
     "text": [
      "survived: 2 unique values\n",
      "pclass: 3 unique values\n",
      "sex: 2 unique values\n",
      "age: 88 unique values\n",
      "sibsp: 7 unique values\n",
      "parch: 7 unique values\n",
      "fare: 247 unique values\n",
      "embark_town: 3 unique values\n",
      "alone: 2 unique values\n"
     ]
    }
   ],
   "source": [
    "for col in titanic_df.columns:\n",
    "    print(f\"{col}: {titanic_df[col].nunique()} unique values\")"
   ]
  },
  {
   "cell_type": "markdown",
   "metadata": {},
   "source": [
    "1. P_class has 3 categorical values,despite being stored as an int.It represents passenger class (1st,2nd,3rd)\n",
    "\n",
    " 2. Sex has 2 categorical values (male/female)\n",
    "\n",
    " 3. embark_town has 3 categorical values, representing ports of embarkation\n",
    "\n",
    " 4. alone has 2 categorical values(yes or no)"
   ]
  },
  {
   "cell_type": "markdown",
   "metadata": {},
   "source": [
    "m. Using Pandas get_dummies(drop_first=True), convert the identified categorical features to nume\n",
    "dummies. Show the number of columns in final DataFrame\n",
    "Hint: If get_dummies is called correctly, this is a single line of code that will replace the original \n",
    "categorical features with dummied versions. In get_dummies, the parameter columns means “Column \n",
    "names in the DataFrame to be encoded”, so provide a list of the features to encode. Also, set dtype = \n",
    "int in get_dummies if you don’t want True/False values.\n",
    "Finally, the DataFrame should have 11 columns (10 input features and the Target variable)."
   ]
  },
  {
   "cell_type": "code",
   "execution_count": 23,
   "metadata": {},
   "outputs": [
    {
     "name": "stdout",
     "output_type": "stream",
     "text": [
      "\n",
      "Final DataFrame columns:\n",
      " Index(['survived', 'age', 'sibsp', 'parch', 'fare', 'pclass_2', 'pclass_3',\n",
      "       'embark_town_Queenstown', 'embark_town_Southampton', 'sex_male',\n",
      "       'alone_True'],\n",
      "      dtype='object')\n",
      "\n",
      "Number of columns: 11\n",
      "   survived   age  sibsp  parch     fare  pclass_2  pclass_3  \\\n",
      "0         0  22.0      1      0   7.2500         0         1   \n",
      "1         1  38.0      1      0  71.2833         0         0   \n",
      "2         1  26.0      0      0   7.9250         0         1   \n",
      "3         1  35.0      1      0  53.1000         0         0   \n",
      "4         0  35.0      0      0   8.0500         0         1   \n",
      "\n",
      "   embark_town_Queenstown  embark_town_Southampton  sex_male  alone_True  \n",
      "0                       0                        1         1           0  \n",
      "1                       0                        0         0           0  \n",
      "2                       0                        1         0           1  \n",
      "3                       0                        1         0           0  \n",
      "4                       0                        1         1           1  \n"
     ]
    }
   ],
   "source": [
    "categorical_features = ['pclass', 'embark_town', 'sex', 'alone']\n",
    "titanic = pd.get_dummies(\n",
    "    titanic_df, columns=categorical_features, drop_first=True, dtype=int)\n",
    "print(\"\\nFinal DataFrame columns:\\n\", titanic.columns)\n",
    "print(\"\\nNumber of columns:\", len(titanic.columns))\n",
    "print(titanic.head())"
   ]
  },
  {
   "cell_type": "markdown",
   "metadata": {},
   "source": [
    "n. Finally, employing train_test_split and the clean DataFrame, create training and testing sets. Set \n",
    "aside 20% of the data for testing, and consider stratifying on the target variable to maintain the \n",
    "imbalance in training and testing sets."
   ]
  },
  {
   "cell_type": "code",
   "execution_count": 25,
   "metadata": {},
   "outputs": [],
   "source": [
    "X = titanic.drop(columns=['survived'])\n",
    "y = titanic['survived']\n",
    "X_train, X_test, y_train, y_test = train_test_split(\n",
    "    X, y, test_size=0.2, stratify=y, random_state=204)"
   ]
  },
  {
   "cell_type": "markdown",
   "metadata": {},
   "source": [
    "o. Show that the target rate was maintained between the entire data set, training data, and testing data. \n",
    "Hint: Target rate is the percentage of one labels in the target data set."
   ]
  },
  {
   "cell_type": "code",
   "execution_count": 26,
   "metadata": {},
   "outputs": [
    {
     "name": "stdout",
     "output_type": "stream",
     "text": [
      "\n",
      "Target rate comparison:\n",
      "Full dataset: 0.382\n",
      "Training set: 0.383\n",
      "Testing set: 0.382\n"
     ]
    }
   ],
   "source": [
    "print(\"\\nTarget rate comparison:\")\n",
    "print(f\"Full dataset: {y.mean():.3f}\")\n",
    "print(f\"Training set: {y_train.mean():.3f}\")\n",
    "print(f\"Testing set: {y_test.mean():.3f}\")"
   ]
  },
  {
   "cell_type": "markdown",
   "metadata": {},
   "source": [
    "Part 2: Initial Model Training"
   ]
  },
  {
   "cell_type": "markdown",
   "metadata": {},
   "source": [
    "a. Instantiate a logistic regression model, a support vector classifier (set probability = True upo\n",
    "instantiation), and a decision tree classifier into appropriately named variables  Do not fit th\n",
    "classifiers yet."
   ]
  },
  {
   "cell_type": "code",
   "execution_count": 27,
   "metadata": {},
   "outputs": [],
   "source": [
    "log_reg_model = LogisticRegression(random_state=204)\n",
    "svc_model = SVC(probability=True, random_state=204)\n",
    "d_tree_model = DecisionTreeClassifier(random_state=204)"
   ]
  },
  {
   "cell_type": "markdown",
   "metadata": {},
   "source": [
    "b. Using the cross_val_predict functionality from sklearn.model_selection and the training data sets, \n",
    "calculate the probability predictions from each of the three classifiers  Store the results int\n",
    "appropriately named variables. \n",
    "Hint: Use method=‘predict_proba’ for all three algorithms"
   ]
  },
  {
   "cell_type": "code",
   "execution_count": null,
   "metadata": {},
   "outputs": [],
   "source": [
    "log_reg_probs = cross_val_predict(\n",
    "    log_reg_model, X_train, y_train, method='predict_proba')\n",
    "svc_probs = cross_val_predict(svc_model, X_train, y_train, method='predict_proba')\n",
    "dtree_probs = cross_val_predict(\n",
    "    d_tree_model, X_train, y_train, method='predict_proba')"
   ]
  },
  {
   "cell_type": "markdown",
   "metadata": {},
   "source": [
    "c. Print a classification report, confusion matrix, and ROC-AUC score for each classifi\n",
    "Hint: Classification report and confusion matrix want class labels for the y_pred parameter  Th\n",
    "output of cross_val_predict is in terms of class 0 and class 1 probabilities. Consider how to identify \n",
    "class label predictions from these probabilities."
   ]
  },
  {
   "cell_type": "code",
   "execution_count": 29,
   "metadata": {},
   "outputs": [
    {
     "name": "stdout",
     "output_type": "stream",
     "text": [
      "\n",
      "Logistic Regression Metrics:\n",
      "Classification Report:\n",
      "              precision    recall  f1-score   support\n",
      "\n",
      "           0       0.82      0.87      0.84       439\n",
      "           1       0.77      0.69      0.72       272\n",
      "\n",
      "    accuracy                           0.80       711\n",
      "   macro avg       0.79      0.78      0.78       711\n",
      "weighted avg       0.80      0.80      0.80       711\n",
      "\n",
      "Confusion Matrix:\n",
      "[[382  57]\n",
      " [ 85 187]]\n",
      "ROC-AUC Score: 0.840\n",
      "\n",
      "Support Vector Classifier Metrics:\n",
      "Classification Report:\n",
      "              precision    recall  f1-score   support\n",
      "\n",
      "           0       0.67      0.89      0.77       439\n",
      "           1       0.64      0.31      0.41       272\n",
      "\n",
      "    accuracy                           0.67       711\n",
      "   macro avg       0.66      0.60      0.59       711\n",
      "weighted avg       0.66      0.67      0.63       711\n",
      "\n",
      "Confusion Matrix:\n",
      "[[392  47]\n",
      " [189  83]]\n",
      "ROC-AUC Score: 0.686\n",
      "\n",
      "Decision Tree Metrics:\n",
      "Classification Report:\n",
      "              precision    recall  f1-score   support\n",
      "\n",
      "           0       0.79      0.75      0.77       439\n",
      "           1       0.63      0.68      0.66       272\n",
      "\n",
      "    accuracy                           0.73       711\n",
      "   macro avg       0.71      0.72      0.72       711\n",
      "weighted avg       0.73      0.73      0.73       711\n",
      "\n",
      "Confusion Matrix:\n",
      "[[331 108]\n",
      " [ 86 186]]\n",
      "ROC-AUC Score: 0.731\n"
     ]
    }
   ],
   "source": [
    "def print_metrics(y_true, probs, model_name):\n",
    "    preds = (probs[:, 1] >= 0.5).astype(int)\n",
    "    print(f\"\\n{model_name} Metrics:\")\n",
    "    print(\"Classification Report:\")\n",
    "    print(classification_report(y_true, preds))\n",
    "    print(\"Confusion Matrix:\")\n",
    "    print(confusion_matrix(y_true, preds))\n",
    "    print(f\"ROC-AUC Score: {roc_auc_score(y_true, probs[:, 1]):.3f}\")\n",
    "\n",
    "\n",
    "print_metrics(y_train, log_reg_probs, \"Logistic Regression\")\n",
    "print_metrics(y_train, svc_probs, \"Support Vector Classifier\")\n",
    "print_metrics(y_train, dtree_probs, \"Decision Tree\")"
   ]
  },
  {
   "cell_type": "markdown",
   "metadata": {},
   "source": [
    "Part 3. Model Tuning"
   ]
  },
  {
   "cell_type": "markdown",
   "metadata": {},
   "source": [
    "a. The training and testing data was not standardized in previous steps. Employing StandardScaler, fi\n",
    "and transform the training and testing data sets following the protocol discussed in the live sessions."
   ]
  },
  {
   "cell_type": "code",
   "execution_count": 30,
   "metadata": {},
   "outputs": [],
   "source": [
    "scaler = StandardScaler()\n",
    "X_train_scaled = scaler.fit_transform(X_train)\n",
    "X_test_scaled = scaler.transform(X_test)"
   ]
  },
  {
   "cell_type": "markdown",
   "metadata": {},
   "source": [
    "b. Using cross_val_predict with method=‘predict_proba’, the instantiated support vector classier from \n",
    "Part 2a, and the scaled Training data, recalculate the probability predictions for the Support Vector \n",
    "Classifier, and print the classification report, confusion matrix, and ROC-AUC sco\n",
    "Hint: Classification report and confusion matrix want class labels as the y_pred, and the output o\n",
    "cross_val_predict is in terms of class 0 and 1 probabilities"
   ]
  },
  {
   "cell_type": "code",
   "execution_count": 31,
   "metadata": {},
   "outputs": [
    {
     "name": "stdout",
     "output_type": "stream",
     "text": [
      "\n",
      "SVC Metrics with Scaled Data:\n",
      "\n",
      "Support Vector Classifier (Scaled) Metrics:\n",
      "Classification Report:\n",
      "              precision    recall  f1-score   support\n",
      "\n",
      "           0       0.81      0.93      0.87       439\n",
      "           1       0.85      0.64      0.73       272\n",
      "\n",
      "    accuracy                           0.82       711\n",
      "   macro avg       0.83      0.79      0.80       711\n",
      "weighted avg       0.83      0.82      0.82       711\n",
      "\n",
      "Confusion Matrix:\n",
      "[[409  30]\n",
      " [ 97 175]]\n",
      "ROC-AUC Score: 0.831\n"
     ]
    }
   ],
   "source": [
    "scaled_svc_probs = cross_val_predict(\n",
    "    svc_model, X_train_scaled, y_train, method='predict_proba')\n",
    "\n",
    "print(\"\\nSVC Metrics with Scaled Data:\")\n",
    "print_metrics(y_train, scaled_svc_probs, \"Support Vector Classifier (Scaled)\")"
   ]
  },
  {
   "cell_type": "markdown",
   "metadata": {},
   "source": [
    "c. In a Markdown cell, compare and document the differences between evaluation metrics calculated \n",
    "from the Support Vector Classifier with unscaled and scaled training data"
   ]
  },
  {
   "cell_type": "markdown",
   "metadata": {},
   "source": [
    "Scaling the data had a significant positive impact on the SVC's performance. All evaluation metrics (precision, recall, F1-score, accuracy, and ROC-AUC) improved after scaling.\n",
    "\n",
    "The ROC-AUC score increased by 0.145, indicating that scaling helped the model better separate the two classes.\n",
    "\n",
    "The confusion matrix shows fewer false positives and false negatives after scaling, meaning the model made fewer errors in classifying both survivors and non-survivors.\n",
    "\n",
    "The scaled model achieved a better balance between precision and recall, especially for Class 1 (survivors), where recall improved significantly."
   ]
  },
  {
   "cell_type": "markdown",
   "metadata": {},
   "source": [
    "d. Using GridSearchCV, the scaled training data, an ROC-AUC scoring metric, and the Support Vector \n",
    "Classifier, conduct a grid search using the following parameter space\n",
    "{‘kernel’: [‘rbf’], ‘gamma’: [0.0001, 0.001, 0.01, 0.1, 1], ‘C’: [1,10,50,100,200,300]}"
   ]
  },
  {
   "cell_type": "code",
   "execution_count": 32,
   "metadata": {},
   "outputs": [
    {
     "data": {
      "text/html": [
       "<style>#sk-container-id-1 {\n",
       "  /* Definition of color scheme common for light and dark mode */\n",
       "  --sklearn-color-text: black;\n",
       "  --sklearn-color-line: gray;\n",
       "  /* Definition of color scheme for unfitted estimators */\n",
       "  --sklearn-color-unfitted-level-0: #fff5e6;\n",
       "  --sklearn-color-unfitted-level-1: #f6e4d2;\n",
       "  --sklearn-color-unfitted-level-2: #ffe0b3;\n",
       "  --sklearn-color-unfitted-level-3: chocolate;\n",
       "  /* Definition of color scheme for fitted estimators */\n",
       "  --sklearn-color-fitted-level-0: #f0f8ff;\n",
       "  --sklearn-color-fitted-level-1: #d4ebff;\n",
       "  --sklearn-color-fitted-level-2: #b3dbfd;\n",
       "  --sklearn-color-fitted-level-3: cornflowerblue;\n",
       "\n",
       "  /* Specific color for light theme */\n",
       "  --sklearn-color-text-on-default-background: var(--sg-text-color, var(--theme-code-foreground, var(--jp-content-font-color1, black)));\n",
       "  --sklearn-color-background: var(--sg-background-color, var(--theme-background, var(--jp-layout-color0, white)));\n",
       "  --sklearn-color-border-box: var(--sg-text-color, var(--theme-code-foreground, var(--jp-content-font-color1, black)));\n",
       "  --sklearn-color-icon: #696969;\n",
       "\n",
       "  @media (prefers-color-scheme: dark) {\n",
       "    /* Redefinition of color scheme for dark theme */\n",
       "    --sklearn-color-text-on-default-background: var(--sg-text-color, var(--theme-code-foreground, var(--jp-content-font-color1, white)));\n",
       "    --sklearn-color-background: var(--sg-background-color, var(--theme-background, var(--jp-layout-color0, #111)));\n",
       "    --sklearn-color-border-box: var(--sg-text-color, var(--theme-code-foreground, var(--jp-content-font-color1, white)));\n",
       "    --sklearn-color-icon: #878787;\n",
       "  }\n",
       "}\n",
       "\n",
       "#sk-container-id-1 {\n",
       "  color: var(--sklearn-color-text);\n",
       "}\n",
       "\n",
       "#sk-container-id-1 pre {\n",
       "  padding: 0;\n",
       "}\n",
       "\n",
       "#sk-container-id-1 input.sk-hidden--visually {\n",
       "  border: 0;\n",
       "  clip: rect(1px 1px 1px 1px);\n",
       "  clip: rect(1px, 1px, 1px, 1px);\n",
       "  height: 1px;\n",
       "  margin: -1px;\n",
       "  overflow: hidden;\n",
       "  padding: 0;\n",
       "  position: absolute;\n",
       "  width: 1px;\n",
       "}\n",
       "\n",
       "#sk-container-id-1 div.sk-dashed-wrapped {\n",
       "  border: 1px dashed var(--sklearn-color-line);\n",
       "  margin: 0 0.4em 0.5em 0.4em;\n",
       "  box-sizing: border-box;\n",
       "  padding-bottom: 0.4em;\n",
       "  background-color: var(--sklearn-color-background);\n",
       "}\n",
       "\n",
       "#sk-container-id-1 div.sk-container {\n",
       "  /* jupyter's `normalize.less` sets `[hidden] { display: none; }`\n",
       "     but bootstrap.min.css set `[hidden] { display: none !important; }`\n",
       "     so we also need the `!important` here to be able to override the\n",
       "     default hidden behavior on the sphinx rendered scikit-learn.org.\n",
       "     See: https://github.com/scikit-learn/scikit-learn/issues/21755 */\n",
       "  display: inline-block !important;\n",
       "  position: relative;\n",
       "}\n",
       "\n",
       "#sk-container-id-1 div.sk-text-repr-fallback {\n",
       "  display: none;\n",
       "}\n",
       "\n",
       "div.sk-parallel-item,\n",
       "div.sk-serial,\n",
       "div.sk-item {\n",
       "  /* draw centered vertical line to link estimators */\n",
       "  background-image: linear-gradient(var(--sklearn-color-text-on-default-background), var(--sklearn-color-text-on-default-background));\n",
       "  background-size: 2px 100%;\n",
       "  background-repeat: no-repeat;\n",
       "  background-position: center center;\n",
       "}\n",
       "\n",
       "/* Parallel-specific style estimator block */\n",
       "\n",
       "#sk-container-id-1 div.sk-parallel-item::after {\n",
       "  content: \"\";\n",
       "  width: 100%;\n",
       "  border-bottom: 2px solid var(--sklearn-color-text-on-default-background);\n",
       "  flex-grow: 1;\n",
       "}\n",
       "\n",
       "#sk-container-id-1 div.sk-parallel {\n",
       "  display: flex;\n",
       "  align-items: stretch;\n",
       "  justify-content: center;\n",
       "  background-color: var(--sklearn-color-background);\n",
       "  position: relative;\n",
       "}\n",
       "\n",
       "#sk-container-id-1 div.sk-parallel-item {\n",
       "  display: flex;\n",
       "  flex-direction: column;\n",
       "}\n",
       "\n",
       "#sk-container-id-1 div.sk-parallel-item:first-child::after {\n",
       "  align-self: flex-end;\n",
       "  width: 50%;\n",
       "}\n",
       "\n",
       "#sk-container-id-1 div.sk-parallel-item:last-child::after {\n",
       "  align-self: flex-start;\n",
       "  width: 50%;\n",
       "}\n",
       "\n",
       "#sk-container-id-1 div.sk-parallel-item:only-child::after {\n",
       "  width: 0;\n",
       "}\n",
       "\n",
       "/* Serial-specific style estimator block */\n",
       "\n",
       "#sk-container-id-1 div.sk-serial {\n",
       "  display: flex;\n",
       "  flex-direction: column;\n",
       "  align-items: center;\n",
       "  background-color: var(--sklearn-color-background);\n",
       "  padding-right: 1em;\n",
       "  padding-left: 1em;\n",
       "}\n",
       "\n",
       "\n",
       "/* Toggleable style: style used for estimator/Pipeline/ColumnTransformer box that is\n",
       "clickable and can be expanded/collapsed.\n",
       "- Pipeline and ColumnTransformer use this feature and define the default style\n",
       "- Estimators will overwrite some part of the style using the `sk-estimator` class\n",
       "*/\n",
       "\n",
       "/* Pipeline and ColumnTransformer style (default) */\n",
       "\n",
       "#sk-container-id-1 div.sk-toggleable {\n",
       "  /* Default theme specific background. It is overwritten whether we have a\n",
       "  specific estimator or a Pipeline/ColumnTransformer */\n",
       "  background-color: var(--sklearn-color-background);\n",
       "}\n",
       "\n",
       "/* Toggleable label */\n",
       "#sk-container-id-1 label.sk-toggleable__label {\n",
       "  cursor: pointer;\n",
       "  display: block;\n",
       "  width: 100%;\n",
       "  margin-bottom: 0;\n",
       "  padding: 0.5em;\n",
       "  box-sizing: border-box;\n",
       "  text-align: center;\n",
       "}\n",
       "\n",
       "#sk-container-id-1 label.sk-toggleable__label-arrow:before {\n",
       "  /* Arrow on the left of the label */\n",
       "  content: \"▸\";\n",
       "  float: left;\n",
       "  margin-right: 0.25em;\n",
       "  color: var(--sklearn-color-icon);\n",
       "}\n",
       "\n",
       "#sk-container-id-1 label.sk-toggleable__label-arrow:hover:before {\n",
       "  color: var(--sklearn-color-text);\n",
       "}\n",
       "\n",
       "/* Toggleable content - dropdown */\n",
       "\n",
       "#sk-container-id-1 div.sk-toggleable__content {\n",
       "  max-height: 0;\n",
       "  max-width: 0;\n",
       "  overflow: hidden;\n",
       "  text-align: left;\n",
       "  /* unfitted */\n",
       "  background-color: var(--sklearn-color-unfitted-level-0);\n",
       "}\n",
       "\n",
       "#sk-container-id-1 div.sk-toggleable__content.fitted {\n",
       "  /* fitted */\n",
       "  background-color: var(--sklearn-color-fitted-level-0);\n",
       "}\n",
       "\n",
       "#sk-container-id-1 div.sk-toggleable__content pre {\n",
       "  margin: 0.2em;\n",
       "  border-radius: 0.25em;\n",
       "  color: var(--sklearn-color-text);\n",
       "  /* unfitted */\n",
       "  background-color: var(--sklearn-color-unfitted-level-0);\n",
       "}\n",
       "\n",
       "#sk-container-id-1 div.sk-toggleable__content.fitted pre {\n",
       "  /* unfitted */\n",
       "  background-color: var(--sklearn-color-fitted-level-0);\n",
       "}\n",
       "\n",
       "#sk-container-id-1 input.sk-toggleable__control:checked~div.sk-toggleable__content {\n",
       "  /* Expand drop-down */\n",
       "  max-height: 200px;\n",
       "  max-width: 100%;\n",
       "  overflow: auto;\n",
       "}\n",
       "\n",
       "#sk-container-id-1 input.sk-toggleable__control:checked~label.sk-toggleable__label-arrow:before {\n",
       "  content: \"▾\";\n",
       "}\n",
       "\n",
       "/* Pipeline/ColumnTransformer-specific style */\n",
       "\n",
       "#sk-container-id-1 div.sk-label input.sk-toggleable__control:checked~label.sk-toggleable__label {\n",
       "  color: var(--sklearn-color-text);\n",
       "  background-color: var(--sklearn-color-unfitted-level-2);\n",
       "}\n",
       "\n",
       "#sk-container-id-1 div.sk-label.fitted input.sk-toggleable__control:checked~label.sk-toggleable__label {\n",
       "  background-color: var(--sklearn-color-fitted-level-2);\n",
       "}\n",
       "\n",
       "/* Estimator-specific style */\n",
       "\n",
       "/* Colorize estimator box */\n",
       "#sk-container-id-1 div.sk-estimator input.sk-toggleable__control:checked~label.sk-toggleable__label {\n",
       "  /* unfitted */\n",
       "  background-color: var(--sklearn-color-unfitted-level-2);\n",
       "}\n",
       "\n",
       "#sk-container-id-1 div.sk-estimator.fitted input.sk-toggleable__control:checked~label.sk-toggleable__label {\n",
       "  /* fitted */\n",
       "  background-color: var(--sklearn-color-fitted-level-2);\n",
       "}\n",
       "\n",
       "#sk-container-id-1 div.sk-label label.sk-toggleable__label,\n",
       "#sk-container-id-1 div.sk-label label {\n",
       "  /* The background is the default theme color */\n",
       "  color: var(--sklearn-color-text-on-default-background);\n",
       "}\n",
       "\n",
       "/* On hover, darken the color of the background */\n",
       "#sk-container-id-1 div.sk-label:hover label.sk-toggleable__label {\n",
       "  color: var(--sklearn-color-text);\n",
       "  background-color: var(--sklearn-color-unfitted-level-2);\n",
       "}\n",
       "\n",
       "/* Label box, darken color on hover, fitted */\n",
       "#sk-container-id-1 div.sk-label.fitted:hover label.sk-toggleable__label.fitted {\n",
       "  color: var(--sklearn-color-text);\n",
       "  background-color: var(--sklearn-color-fitted-level-2);\n",
       "}\n",
       "\n",
       "/* Estimator label */\n",
       "\n",
       "#sk-container-id-1 div.sk-label label {\n",
       "  font-family: monospace;\n",
       "  font-weight: bold;\n",
       "  display: inline-block;\n",
       "  line-height: 1.2em;\n",
       "}\n",
       "\n",
       "#sk-container-id-1 div.sk-label-container {\n",
       "  text-align: center;\n",
       "}\n",
       "\n",
       "/* Estimator-specific */\n",
       "#sk-container-id-1 div.sk-estimator {\n",
       "  font-family: monospace;\n",
       "  border: 1px dotted var(--sklearn-color-border-box);\n",
       "  border-radius: 0.25em;\n",
       "  box-sizing: border-box;\n",
       "  margin-bottom: 0.5em;\n",
       "  /* unfitted */\n",
       "  background-color: var(--sklearn-color-unfitted-level-0);\n",
       "}\n",
       "\n",
       "#sk-container-id-1 div.sk-estimator.fitted {\n",
       "  /* fitted */\n",
       "  background-color: var(--sklearn-color-fitted-level-0);\n",
       "}\n",
       "\n",
       "/* on hover */\n",
       "#sk-container-id-1 div.sk-estimator:hover {\n",
       "  /* unfitted */\n",
       "  background-color: var(--sklearn-color-unfitted-level-2);\n",
       "}\n",
       "\n",
       "#sk-container-id-1 div.sk-estimator.fitted:hover {\n",
       "  /* fitted */\n",
       "  background-color: var(--sklearn-color-fitted-level-2);\n",
       "}\n",
       "\n",
       "/* Specification for estimator info (e.g. \"i\" and \"?\") */\n",
       "\n",
       "/* Common style for \"i\" and \"?\" */\n",
       "\n",
       ".sk-estimator-doc-link,\n",
       "a:link.sk-estimator-doc-link,\n",
       "a:visited.sk-estimator-doc-link {\n",
       "  float: right;\n",
       "  font-size: smaller;\n",
       "  line-height: 1em;\n",
       "  font-family: monospace;\n",
       "  background-color: var(--sklearn-color-background);\n",
       "  border-radius: 1em;\n",
       "  height: 1em;\n",
       "  width: 1em;\n",
       "  text-decoration: none !important;\n",
       "  margin-left: 1ex;\n",
       "  /* unfitted */\n",
       "  border: var(--sklearn-color-unfitted-level-1) 1pt solid;\n",
       "  color: var(--sklearn-color-unfitted-level-1);\n",
       "}\n",
       "\n",
       ".sk-estimator-doc-link.fitted,\n",
       "a:link.sk-estimator-doc-link.fitted,\n",
       "a:visited.sk-estimator-doc-link.fitted {\n",
       "  /* fitted */\n",
       "  border: var(--sklearn-color-fitted-level-1) 1pt solid;\n",
       "  color: var(--sklearn-color-fitted-level-1);\n",
       "}\n",
       "\n",
       "/* On hover */\n",
       "div.sk-estimator:hover .sk-estimator-doc-link:hover,\n",
       ".sk-estimator-doc-link:hover,\n",
       "div.sk-label-container:hover .sk-estimator-doc-link:hover,\n",
       ".sk-estimator-doc-link:hover {\n",
       "  /* unfitted */\n",
       "  background-color: var(--sklearn-color-unfitted-level-3);\n",
       "  color: var(--sklearn-color-background);\n",
       "  text-decoration: none;\n",
       "}\n",
       "\n",
       "div.sk-estimator.fitted:hover .sk-estimator-doc-link.fitted:hover,\n",
       ".sk-estimator-doc-link.fitted:hover,\n",
       "div.sk-label-container:hover .sk-estimator-doc-link.fitted:hover,\n",
       ".sk-estimator-doc-link.fitted:hover {\n",
       "  /* fitted */\n",
       "  background-color: var(--sklearn-color-fitted-level-3);\n",
       "  color: var(--sklearn-color-background);\n",
       "  text-decoration: none;\n",
       "}\n",
       "\n",
       "/* Span, style for the box shown on hovering the info icon */\n",
       ".sk-estimator-doc-link span {\n",
       "  display: none;\n",
       "  z-index: 9999;\n",
       "  position: relative;\n",
       "  font-weight: normal;\n",
       "  right: .2ex;\n",
       "  padding: .5ex;\n",
       "  margin: .5ex;\n",
       "  width: min-content;\n",
       "  min-width: 20ex;\n",
       "  max-width: 50ex;\n",
       "  color: var(--sklearn-color-text);\n",
       "  box-shadow: 2pt 2pt 4pt #999;\n",
       "  /* unfitted */\n",
       "  background: var(--sklearn-color-unfitted-level-0);\n",
       "  border: .5pt solid var(--sklearn-color-unfitted-level-3);\n",
       "}\n",
       "\n",
       ".sk-estimator-doc-link.fitted span {\n",
       "  /* fitted */\n",
       "  background: var(--sklearn-color-fitted-level-0);\n",
       "  border: var(--sklearn-color-fitted-level-3);\n",
       "}\n",
       "\n",
       ".sk-estimator-doc-link:hover span {\n",
       "  display: block;\n",
       "}\n",
       "\n",
       "/* \"?\"-specific style due to the `<a>` HTML tag */\n",
       "\n",
       "#sk-container-id-1 a.estimator_doc_link {\n",
       "  float: right;\n",
       "  font-size: 1rem;\n",
       "  line-height: 1em;\n",
       "  font-family: monospace;\n",
       "  background-color: var(--sklearn-color-background);\n",
       "  border-radius: 1rem;\n",
       "  height: 1rem;\n",
       "  width: 1rem;\n",
       "  text-decoration: none;\n",
       "  /* unfitted */\n",
       "  color: var(--sklearn-color-unfitted-level-1);\n",
       "  border: var(--sklearn-color-unfitted-level-1) 1pt solid;\n",
       "}\n",
       "\n",
       "#sk-container-id-1 a.estimator_doc_link.fitted {\n",
       "  /* fitted */\n",
       "  border: var(--sklearn-color-fitted-level-1) 1pt solid;\n",
       "  color: var(--sklearn-color-fitted-level-1);\n",
       "}\n",
       "\n",
       "/* On hover */\n",
       "#sk-container-id-1 a.estimator_doc_link:hover {\n",
       "  /* unfitted */\n",
       "  background-color: var(--sklearn-color-unfitted-level-3);\n",
       "  color: var(--sklearn-color-background);\n",
       "  text-decoration: none;\n",
       "}\n",
       "\n",
       "#sk-container-id-1 a.estimator_doc_link.fitted:hover {\n",
       "  /* fitted */\n",
       "  background-color: var(--sklearn-color-fitted-level-3);\n",
       "}\n",
       "</style><div id=\"sk-container-id-1\" class=\"sk-top-container\"><div class=\"sk-text-repr-fallback\"><pre>GridSearchCV(cv=5, estimator=SVC(probability=True, random_state=204),\n",
       "             param_grid={&#x27;C&#x27;: [1, 10, 50, 100, 200, 300],\n",
       "                         &#x27;gamma&#x27;: [0.0001, 0.001, 0.01, 0.1, 1],\n",
       "                         &#x27;kernel&#x27;: [&#x27;rbf&#x27;]},\n",
       "             scoring=&#x27;roc_auc&#x27;)</pre><b>In a Jupyter environment, please rerun this cell to show the HTML representation or trust the notebook. <br />On GitHub, the HTML representation is unable to render, please try loading this page with nbviewer.org.</b></div><div class=\"sk-container\" hidden><div class=\"sk-item sk-dashed-wrapped\"><div class=\"sk-label-container\"><div class=\"sk-label fitted sk-toggleable\"><input class=\"sk-toggleable__control sk-hidden--visually\" id=\"sk-estimator-id-1\" type=\"checkbox\" ><label for=\"sk-estimator-id-1\" class=\"sk-toggleable__label fitted sk-toggleable__label-arrow fitted\">&nbsp;&nbsp;GridSearchCV<a class=\"sk-estimator-doc-link fitted\" rel=\"noreferrer\" target=\"_blank\" href=\"https://scikit-learn.org/1.4/modules/generated/sklearn.model_selection.GridSearchCV.html\">?<span>Documentation for GridSearchCV</span></a><span class=\"sk-estimator-doc-link fitted\">i<span>Fitted</span></span></label><div class=\"sk-toggleable__content fitted\"><pre>GridSearchCV(cv=5, estimator=SVC(probability=True, random_state=204),\n",
       "             param_grid={&#x27;C&#x27;: [1, 10, 50, 100, 200, 300],\n",
       "                         &#x27;gamma&#x27;: [0.0001, 0.001, 0.01, 0.1, 1],\n",
       "                         &#x27;kernel&#x27;: [&#x27;rbf&#x27;]},\n",
       "             scoring=&#x27;roc_auc&#x27;)</pre></div> </div></div><div class=\"sk-parallel\"><div class=\"sk-parallel-item\"><div class=\"sk-item\"><div class=\"sk-label-container\"><div class=\"sk-label fitted sk-toggleable\"><input class=\"sk-toggleable__control sk-hidden--visually\" id=\"sk-estimator-id-2\" type=\"checkbox\" ><label for=\"sk-estimator-id-2\" class=\"sk-toggleable__label fitted sk-toggleable__label-arrow fitted\">estimator: SVC</label><div class=\"sk-toggleable__content fitted\"><pre>SVC(probability=True, random_state=204)</pre></div> </div></div><div class=\"sk-serial\"><div class=\"sk-item\"><div class=\"sk-estimator fitted sk-toggleable\"><input class=\"sk-toggleable__control sk-hidden--visually\" id=\"sk-estimator-id-3\" type=\"checkbox\" ><label for=\"sk-estimator-id-3\" class=\"sk-toggleable__label fitted sk-toggleable__label-arrow fitted\">&nbsp;SVC<a class=\"sk-estimator-doc-link fitted\" rel=\"noreferrer\" target=\"_blank\" href=\"https://scikit-learn.org/1.4/modules/generated/sklearn.svm.SVC.html\">?<span>Documentation for SVC</span></a></label><div class=\"sk-toggleable__content fitted\"><pre>SVC(probability=True, random_state=204)</pre></div> </div></div></div></div></div></div></div></div></div>"
      ],
      "text/plain": [
       "GridSearchCV(cv=5, estimator=SVC(probability=True, random_state=204),\n",
       "             param_grid={'C': [1, 10, 50, 100, 200, 300],\n",
       "                         'gamma': [0.0001, 0.001, 0.01, 0.1, 1],\n",
       "                         'kernel': ['rbf']},\n",
       "             scoring='roc_auc')"
      ]
     },
     "execution_count": 32,
     "metadata": {},
     "output_type": "execute_result"
    }
   ],
   "source": [
    "param_grid = {'kernel': ['rbf'], 'gamma': [\n",
    "    0.0001, 0.001, 0.01, 0.1, 1], 'C': [1, 10, 50, 100, 200, 300]}\n",
    "grid_search = GridSearchCV(svc_model, param_grid, scoring='roc_auc', cv=5)\n",
    "grid_search.fit(X_train_scaled, y_train)"
   ]
  },
  {
   "cell_type": "markdown",
   "metadata": {},
   "source": [
    "e. From the fitted GridSearchCV object, print the best parameters and the corresponding best score."
   ]
  },
  {
   "cell_type": "code",
   "execution_count": 33,
   "metadata": {},
   "outputs": [
    {
     "name": "stdout",
     "output_type": "stream",
     "text": [
      "\n",
      "Best parameters from GridSearchCV: {'C': 300, 'gamma': 0.01, 'kernel': 'rbf'}\n",
      "\n",
      "Best ROC-AUC score from GridSearchCV: 0.8424642849603664\n"
     ]
    }
   ],
   "source": [
    "print(\"\\nBest parameters from GridSearchCV:\", grid_search.best_params_)\n",
    "print(\"\\nBest ROC-AUC score from GridSearchCV:\", grid_search.best_score_)"
   ]
  },
  {
   "cell_type": "markdown",
   "metadata": {},
   "source": [
    "f. With the best estimator from the fitted GridSearchCV object, make predictions with the scaled testin\n",
    "data set, and present the classification report, confusion matrix, and ROC-AUC score."
   ]
  },
  {
   "cell_type": "code",
   "execution_count": 34,
   "metadata": {},
   "outputs": [
    {
     "name": "stdout",
     "output_type": "stream",
     "text": [
      "\n",
      "Final Model Performance on Test Set:\n",
      "\n",
      "Best SVC Model Metrics:\n",
      "Classification Report:\n",
      "              precision    recall  f1-score   support\n",
      "\n",
      "           0       0.84      0.94      0.89       110\n",
      "           1       0.88      0.72      0.79        68\n",
      "\n",
      "    accuracy                           0.85       178\n",
      "   macro avg       0.86      0.83      0.84       178\n",
      "weighted avg       0.86      0.85      0.85       178\n",
      "\n",
      "Confusion Matrix:\n",
      "[[103   7]\n",
      " [ 19  49]]\n",
      "ROC-AUC Score: 0.865\n"
     ]
    }
   ],
   "source": [
    "best_model = grid_search.best_estimator_\n",
    "test_probs = best_model.predict_proba(X_test_scaled)\n",
    "print(\"\\nFinal Model Performance on Test Set:\")\n",
    "print_metrics(y_test, test_probs, \"Best SVC Model\")"
   ]
  }
 ],
 "metadata": {
  "kernelspec": {
   "display_name": "Python 3",
   "language": "python",
   "name": "python3"
  },
  "language_info": {
   "codemirror_mode": {
    "name": "ipython",
    "version": 3
   },
   "file_extension": ".py",
   "mimetype": "text/x-python",
   "name": "python",
   "nbconvert_exporter": "python",
   "pygments_lexer": "ipython3",
   "version": "3.12.9"
  }
 },
 "nbformat": 4,
 "nbformat_minor": 2
}
