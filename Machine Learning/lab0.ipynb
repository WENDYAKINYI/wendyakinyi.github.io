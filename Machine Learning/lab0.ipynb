{
 "cells": [
  {
   "cell_type": "markdown",
   "id": "56826542-f128-4601-9f4d-6ef14d527cf3",
   "metadata": {},
   "source": [
    "# Assignment 1 - Python and Pandas Review\n",
    "Author:  Akinyi Wendy"
   ]
  },
  {
   "cell_type": "markdown",
   "id": "6d60aa57-9775-4fc1-b091-7ee2dee42449",
   "metadata": {},
   "source": [
    "# Goal \n",
    "This assignment gives you the opportunity to practice key aspects of data gathering and preprocessing, a crucial step of the data science workflow.\n",
    "\n",
    "Execute the following two cells so I can gather information on versions of commonly used libraries:"
   ]
  },
  {
   "cell_type": "code",
   "execution_count": 118,
   "id": "1ee600ab-6bf5-40ae-88d5-b749c6ed7079",
   "metadata": {},
   "outputs": [],
   "source": [
    "import numpy as np\n",
    "import pandas as pd\n",
    "import sklearn as sk\n",
    "import re"
   ]
  },
  {
   "cell_type": "code",
   "execution_count": 119,
   "id": "8c527770-e749-4543-8d47-ed7dae3ea8db",
   "metadata": {},
   "outputs": [
    {
     "name": "stdout",
     "output_type": "stream",
     "text": [
      "PACKAGE VERSIONS\n",
      "Numpy:   1.26.4\n",
      "Pandas:  2.2.0\n",
      "SKLearn: 1.4.2\n"
     ]
    }
   ],
   "source": [
    "print('PACKAGE VERSIONS')\n",
    "print(f'Numpy:   {np.__version__}')\n",
    "print(f'Pandas:  {pd.__version__}')\n",
    "print(f'SKLearn: {sk.__version__}')"
   ]
  },
  {
   "cell_type": "markdown",
   "id": "b660b3de-c56e-4c08-8444-8979d4172f87",
   "metadata": {},
   "source": [
    "# Question 1\n",
    "### Part $a$\n",
    "\n",
    "Create a data set from several independent files\n",
    "\n",
    "- Read the provided csv files into individual Pandas DataFrames with the following naming convention:\n",
    "    - boston_weather_1.csv $\\rightarrow$ $boston\\_1$\n",
    "    - boston_weather_2.csv $\\rightarrow$ $boston\\_2$\n",
    "    - boston_weather_3.csv $\\rightarrow$ $boston\\_3$\n",
    "    - boston_weather_4.csv $\\rightarrow$ $boston\\_4$\n",
    "    - more_weather_variables.csv $\\rightarrow$ $more\\_variables$\n",
    "    - Tip: Consider the Pandas function $read\\_csv$"
   ]
  },
  {
   "cell_type": "code",
   "execution_count": 120,
   "id": "50ee6a8e-473f-4dcc-85f5-a9ea69d6e839",
   "metadata": {},
   "outputs": [],
   "source": [
    "boston_1= pd.read_csv('boston_weather_1.csv')\n",
    "boston_2 = pd.read_csv('boston_weather_2.csv')\n",
    "boston_3 = pd.read_csv('boston_weather_3.csv')\n",
    "boston_4 = pd.read_csv('boston_weather_4.csv')\n",
    "more_variables = pd.read_csv('more_weather_variables.csv')\n"
   ]
  },
  {
   "cell_type": "markdown",
   "id": "dbdbea01-85c8-4b30-9b69-451592c6a1ef",
   "metadata": {},
   "source": [
    "### Part $b$\n",
    "- In the live session notebook demonstration, details of each DataFrame were displayed (shape and column labels)\n",
    "- The code was repeated to present these details\n",
    "    - Review the notebooks shared after the first live session \n",
    "- Here, construct a function input a DataFrame and display the following:\n",
    "    - DataFrame dimensions\n",
    "    - Column labels\n",
    "    - The first five rows\n",
    "    - The last five rows\n",
    "    - The Data Range (earliest Month, Year to latest Month, Year)\n",
    "- In a Markdown cell, document the following:\n",
    "    - Compare the dimensions of each of the five DataFrames\n",
    "    - Compare the column labels (feature names) in each DataFrame\n",
    "    - What can be assumed about the order of the data in each of the $boston\\_*$ DataFrame?\n",
    "    - What is the Date Range (earliest Month, Year to latest Month, Year) in each of the $boston\\_*$ and $more\\_variables$ DataFrames?"
   ]
  },
  {
   "cell_type": "markdown",
   "id": "81f23467",
   "metadata": {},
   "source": [
    "boston_1, boston_2 and  boston_3 have 300rows*8columns, boston_4 has 240rows*8columns while more_variables has 1140rows*7columns.\n",
    "column labels.\n",
    "boston_1, boston_2, boston_3 and boston_4 have identical column names: Month, Year, LowTemp, HighTemp, WarmestMin, ColdestHigh, AveMin, AveMax.\n",
    "more_variables has different columns: Month, Year, meanTemp, TotPrecip, TotSnow, Max24hrPrecip, Max24hrSnow.\n",
    "Each dataframe starts with a specific month/year and progresses forward although the data in $more\\_variables$ is not in order"
   ]
  },
  {
   "cell_type": "code",
   "execution_count": 121,
   "id": "ca41c106-c760-4b3c-9bb5-f1426443aca7",
   "metadata": {},
   "outputs": [
    {
     "name": "stdout",
     "output_type": "stream",
     "text": [
      "\n",
      "Dataframe name: boston_1\n",
      "Dataframe Dimensions: (300, 8)\n",
      "Column Labels: ['Month', 'Year', 'LowTemp', 'HighTemp', 'WarmestMin', 'ColdestHigh', 'AveMin', 'AveMax']\n",
      "First five rows:\n",
      "   Month  Year  LowTemp  HighTemp  WarmestMin  ColdestHigh  AveMin  AveMax\n",
      "0      1  1920     -8.0      48.0        37.0         12.0    12.5    29.5\n",
      "1      2  1920     -7.0      52.0        34.0         16.0    20.6    34.6\n",
      "2      3  1920     10.0      72.0        45.0         25.0    30.5    48.0\n",
      "3      4  1920     26.0      67.0        46.0         37.0    38.0    52.1\n",
      "4      5  1920     36.0      86.0        61.0         45.0    47.5    61.8\n",
      "Last five rows:\n",
      "     Month  Year  LowTemp  HighTemp  WarmestMin  ColdestHigh  AveMin  AveMax\n",
      "295      8  1944     53.0     101.0        76.0         69.0    65.1    84.3\n",
      "296      9  1944     42.0      90.0        70.0         59.0    57.3    72.7\n",
      "297     10  1944     30.0      86.0        64.0         45.0    45.4    62.1\n",
      "298     11  1944     29.0      69.0        48.0         35.0    36.1    50.2\n",
      "299     12  1944      8.0      50.0        36.0         20.0    23.4    38.2\n",
      "Date Range: 1/1920 to 12/1944\n",
      "\n",
      "Dataframe name: boston_2\n",
      "Dataframe Dimensions: (300, 8)\n",
      "Column Labels: ['Month', 'Year', 'LowTemp', 'HighTemp', 'WarmestMin', 'ColdestHigh', 'AveMin', 'AveMax']\n",
      "First five rows:\n",
      "   Month  Year  LowTemp  HighTemp  WarmestMin  ColdestHigh  AveMin  AveMax\n",
      "0      1  1945     -4.0      59.0        38.0         14.0    16.1    31.4\n",
      "1      2  1945     11.0      51.0        37.0         25.0    23.7    37.3\n",
      "2      3  1945     24.0      86.0        60.0         37.0    37.6    55.0\n",
      "3      4  1945     33.0      85.0        61.0         44.0    43.9    61.1\n",
      "4      5  1945     35.0      79.0        58.0         47.0    47.4    62.9\n",
      "Last five rows:\n",
      "     Month  Year  LowTemp  HighTemp  WarmestMin  ColdestHigh  AveMin  AveMax\n",
      "295      8  1969     54.0      93.0        74.0         69.0    65.6    83.0\n",
      "296      9  1969     46.0      95.0        75.0         59.0    56.5    70.9\n",
      "297     10  1969     30.0      79.0        59.0         38.0    47.0    61.5\n",
      "298     11  1969     22.0      61.0        53.0         35.0    39.2    50.5\n",
      "299     12  1969     12.0      60.0        44.0         23.0    27.9    38.8\n",
      "Date Range: 1/1945 to 12/1969\n",
      "\n",
      "Dataframe name: boston_3\n",
      "Dataframe Dimensions: (300, 8)\n",
      "Column Labels: ['Month', 'Year', 'LowTemp', 'HighTemp', 'WarmestMin', 'ColdestHigh', 'AveMin', 'AveMax']\n",
      "First five rows:\n",
      "   Month  Year  LowTemp  HighTemp  WarmestMin  ColdestHigh  AveMin  AveMax\n",
      "0      1  1970        3        49          37           19    16.6    29.4\n",
      "1      2  1970        7        58          43           25    24.1    40.5\n",
      "2      3  1970       19        57          40           34    30.9    43.8\n",
      "3      4  1970       28        75          55           45    41.1    56.9\n",
      "4      5  1970       39        92          60           55    50.8    68.4\n",
      "Last five rows:\n",
      "     Month  Year  LowTemp  HighTemp  WarmestMin  ColdestHigh  AveMin  AveMax\n",
      "295      8  1994       56        92          75           68    63.8    81.0\n",
      "296      9  1994       50        87          69           59    57.0    71.4\n",
      "297     10  1994       39        77          56           53    47.1    63.8\n",
      "298     11  1994       22        79          57           34    40.6    57.3\n",
      "299     12  1994       13        65          50           29    31.4    45.6\n",
      "Date Range: 1/1970 to 12/1994\n",
      "\n",
      "Dataframe name: boston_4\n",
      "Dataframe Dimensions: (240, 8)\n",
      "Column Labels: ['Month', 'Year', 'LowTemp', 'HighTemp', 'WarmestMin', 'ColdestHigh', 'AveMin', 'AveMax']\n",
      "First five rows:\n",
      "   Month  Year  LowTemp  HighTemp  WarmestMin  ColdestHigh  AveMin  AveMax\n",
      "0      1  1995     12.0        66        51.0         21.0    28.1    41.0\n",
      "1      2  1995      1.0        55        34.0         11.0    20.8    36.1\n",
      "2      3  1995     19.0        67        43.0         29.0    32.5    45.1\n",
      "3      4  1995     20.0        68        49.0         31.0    38.3    53.8\n",
      "4      5  1995     38.0        89        59.0         49.0    49.1    65.3\n",
      "Last five rows:\n",
      "     Month  Year  LowTemp  HighTemp  WarmestMin  ColdestHigh  AveMin  AveMax\n",
      "235      8  2014     58.0        91        70.0         69.0    63.2    78.4\n",
      "236      9  2014     46.0        93        72.0         56.0    58.3    74.2\n",
      "237     10  2014     39.0        81        61.0         52.0    49.7    63.0\n",
      "238     11  2014     23.0        66        48.0         34.0    35.5    49.5\n",
      "239     12  2014     18.0        64        44.0         29.0    32.8    43.7\n",
      "Date Range: 1/1995 to 12/2014\n",
      "\n",
      "Dataframe name: more_variables\n",
      "Dataframe Dimensions: (1140, 7)\n",
      "Column Labels: ['Month', 'Year', 'meanTemp', 'TotPrecip', 'TotSnow', 'Max24hrPrecip', 'Max24hrSnow']\n",
      "First five rows:\n",
      "   Month  Year  meanTemp  TotPrecip TotSnow  Max24hrPrecip Max24hrSnow\n",
      "0      7  1995      75.9       2.06       0           0.88           0\n",
      "1     11  1930      45.1       4.03     0.1           1.65         0.1\n",
      "2      9  1953      66.3       2.50       0           1.04           0\n",
      "3      3  1922      39.8       4.30    10.1           1.36         4.2\n",
      "4      4  1939      43.4       4.54     0.2           1.13         0.2\n",
      "Last five rows:\n",
      "      Month  Year  meanTemp  TotPrecip TotSnow  Max24hrPrecip Max24hrSnow\n",
      "1135      1  1973      31.4       3.12     3.6           1.27         1.7\n",
      "1136      6  1987      65.1       2.62       0           1.45           0\n",
      "1137      1  1947      32.6       2.45       4           0.91         2.4\n",
      "1138     12  1987      36.1       2.12     7.5           0.76         6.2\n",
      "1139      3  1950      33.7       2.99     5.1           1.21           2\n",
      "Date Range: 1/1920 to 12/2014\n"
     ]
    }
   ],
   "source": [
    "def dataframe_display(df, df_name):\n",
    "    print(f\"\\nDataframe name: {df_name}\")\n",
    "    print(f\"Dataframe Dimensions: {df.shape}\")\n",
    "    print(f\"Column Labels: {list(df.columns)}\")\n",
    "    print(\"First five rows:\")\n",
    "    print(df.head())\n",
    "    print(\"Last five rows:\")\n",
    "    print(df.tail())\n",
    "    earliest = f\"{df['Month'].min()}/{df['Year'].min()}\"\n",
    "    latest = f\"{df['Month'].max()}/{df['Year'].max()}\"\n",
    "    print(f\"Date Range: {earliest} to {latest}\")\n",
    "\n",
    "\n",
    "# Display details for each DataFrame\n",
    "dataframe_display(boston_1, 'boston_1')\n",
    "dataframe_display(boston_2, 'boston_2')\n",
    "dataframe_display(boston_3, 'boston_3')\n",
    "dataframe_display(boston_4, 'boston_4')\n",
    "dataframe_display(more_variables, 'more_variables')"
   ]
  },
  {
   "cell_type": "markdown",
   "id": "40183d43-bea0-4da5-8627-0b80c327bf28",
   "metadata": {},
   "source": [
    "You should observe the following from the above analysis:\n",
    "- Each $boston\\_*$ DataFrame is ordered monthly temperature data\n",
    "- If the individal $boston\\_*$ DataFrames were combined in order, the combined DataFrame would contain 95 years of ordered, non-overlapping monthly data\n",
    "- The total number of rows of the $boston\\_*$ DataFrames is equal to the number of rows in $more\\_variables$.\n",
    "- The Date Range of $more\\_variables$ is equivalent to the date range observed in $boston\\_*$\n",
    "- The data in $more\\_variables$ is not in order"
   ]
  },
  {
   "cell_type": "markdown",
   "id": "c9cd25ed-3651-47fc-a7fa-36c787f6cb9f",
   "metadata": {},
   "source": [
    "### Part $c$\n",
    "- Combine the $boston\\_1$, $boston\\_2$, $boston\\_3$, and $boston\\_4$ DataFrames and assign the results to a DataFrame called $combined\\_boston$. \n",
    "    - From the details learned above, these four data sets should be combined vertically since they represent the same features over different date ranges."
   ]
  },
  {
   "cell_type": "code",
   "execution_count": 122,
   "id": "2d0efc02-73e4-46a8-bbc3-40b9c72d41f3",
   "metadata": {},
   "outputs": [
    {
     "name": "stdout",
     "output_type": "stream",
     "text": [
      "   Month  Year  LowTemp  HighTemp  WarmestMin  ColdestHigh  AveMin  AveMax\n",
      "0      1  1920     -8.0      48.0        37.0         12.0    12.5    29.5\n",
      "1      2  1920     -7.0      52.0        34.0         16.0    20.6    34.6\n",
      "2      3  1920     10.0      72.0        45.0         25.0    30.5    48.0\n",
      "3      4  1920     26.0      67.0        46.0         37.0    38.0    52.1\n",
      "4      5  1920     36.0      86.0        61.0         45.0    47.5    61.8\n"
     ]
    }
   ],
   "source": [
    "combined_boston = pd.concat([boston_1, boston_2, boston_3, boston_4], axis=0)\n",
    "print(combined_boston.head())"
   ]
  },
  {
   "cell_type": "markdown",
   "id": "6cde2c16-ea2b-470c-93eb-ba66747f92d7",
   "metadata": {},
   "source": [
    "### Part $d$\n",
    "- From the details we gathered above, $more\\_variables$ represents additional weather data over the same date range of $combined\\_boston$\n",
    "- Let's combine the $combined\\_boston$ and $more\\_variables$ DataFrames into a DataFrame called $boston\\_data$\n",
    "    - These two DataFrames have the same number of instances (Verify for yourself with $shape$)\n",
    "    - Therefore, when $merge$ is called, how they are merged (left, right, inner, or outer) will return the same result.\n",
    "    - However, consider which feature labels are necessary for alignment. \n",
    "- Verify and show that this combined data set ($boston\\_data$) has 1140 instances and 13 features."
   ]
  },
  {
   "cell_type": "code",
   "execution_count": 123,
   "id": "ab8e9b77-dd89-427f-9996-1bb05a9d54b1",
   "metadata": {},
   "outputs": [
    {
     "name": "stdout",
     "output_type": "stream",
     "text": [
      "\n",
      "Final boston_data shape: (1140, 13)\n",
      "\n",
      "All columns in boston_data:\n",
      "['Month', 'Year', 'LowTemp', 'HighTemp', 'WarmestMin', 'ColdestHigh', 'AveMin', 'AveMax', 'meanTemp', 'TotPrecip', 'TotSnow', 'Max24hrPrecip', 'Max24hrSnow']\n",
      "   Month  Year  LowTemp  HighTemp  WarmestMin  ColdestHigh  AveMin  AveMax  \\\n",
      "0      1  1920     -8.0      48.0        37.0         12.0    12.5    29.5   \n",
      "1      2  1920     -7.0      52.0        34.0         16.0    20.6    34.6   \n",
      "2      3  1920     10.0      72.0        45.0         25.0    30.5    48.0   \n",
      "3      4  1920     26.0      67.0        46.0         37.0    38.0    52.1   \n",
      "4      5  1920     36.0      86.0        61.0         45.0    47.5    61.8   \n",
      "\n",
      "   meanTemp  TotPrecip TotSnow  Max24hrPrecip Max24hrSnow  \n",
      "0      21.0       2.72    24.8           0.74         6.7  \n",
      "1      27.6       4.11    32.5           1.01        12.2  \n",
      "2      39.3       3.72      11           1.15           6  \n",
      "3      45.1       5.68       2           1.19           2  \n",
      "4      54.6       5.26       0           3.23           0  \n",
      "\n",
      "Date range in final dataset:\n",
      "From 1/1920 to 12/2014\n"
     ]
    }
   ],
   "source": [
    "boston_data = pd.merge(combined_boston, more_variables, on= ['Year', 'Month'], how= 'inner')\n",
    "# Verify the final shape\n",
    "print(\"\\nFinal boston_data shape:\", boston_data.shape)\n",
    "\n",
    "# Display all column names to confirm proper combination\n",
    "print(\"\\nAll columns in boston_data:\")\n",
    "print(boston_data.columns.tolist())\n",
    "# Display a few rows to verify proper alignment\n",
    "print(boston_data.head())\n",
    "\n",
    "# Additional verification of date range\n",
    "print(\"\\nDate range in final dataset:\")\n",
    "earliest = f\"{boston_data['Month'].min()}/{boston_data['Year'].min()}\"\n",
    "latest = f\"{boston_data['Month'].max()}/{boston_data['Year'].max()}\"\n",
    "print(f\"From {earliest} to {latest}\")"
   ]
  },
  {
   "cell_type": "markdown",
   "id": "d5551a7a-d129-41fe-860c-b686638f1f0b",
   "metadata": {},
   "source": [
    "### Part $e$\n",
    "Format the column labels\n",
    "- Print the original columns of the $boston\\_data$ DataFrame as a list\n",
    "- Remove any potential whitespace from the column names and convert the column names to snake case\n",
    "    - As a reminder, for column names that consist of multiple words, include an underscore between the lowercased words\n",
    "    - For example, meanTemp should become mean_temp, and Max24hrPrep can become max_24hr_prep, and HighTemp becomes high_temp, etc.\n",
    "    - Tip: This can be written in a single line of code\n",
    "    - Tip: Consider the \"re\" library \n",
    "- Print the columns of $boston\\_data$ as a list again"
   ]
  },
  {
   "cell_type": "code",
   "execution_count": 124,
   "id": "f0106d1a-ef66-41ec-b1b2-85f80ef3dabd",
   "metadata": {},
   "outputs": [
    {
     "name": "stdout",
     "output_type": "stream",
     "text": [
      "Original column names:\n",
      "['Month', 'Year', 'LowTemp', 'HighTemp', 'WarmestMin', 'ColdestHigh', 'AveMin', 'AveMax', 'meanTemp', 'TotPrecip', 'TotSnow', 'Max24hrPrecip', 'Max24hrSnow']\n",
      "\n",
      "Updated column names:\n",
      "['month', 'year', 'low_temp', 'high_temp', 'warmest_min', 'coldest_high', 'ave_min', 'ave_max', 'mean_temp', 'tot_precip', 'tot_snow', 'max24hr_precip', 'max24hr_snow']\n"
     ]
    }
   ],
   "source": [
    "# Print original column names\n",
    "\n",
    "print(\"Original column names:\")\n",
    "print(list(boston_data.columns))\n",
    "\n",
    "\n",
    "# Update column names using list comprehension with regex\n",
    "boston_data.columns = [re.sub(\n",
    "    r'(?<!^)(?=[A-Z])', '_', col).lower().strip() for col in boston_data.columns]\n",
    "\n",
    "# Print updated column names\n",
    "print(\"\\nUpdated column names:\")\n",
    "print(list(boston_data.columns))"
   ]
  },
  {
   "cell_type": "markdown",
   "id": "534a9cc6-3ea9-4587-bacb-c846dc77c26c",
   "metadata": {},
   "source": [
    "### Part $f$\n",
    "Inspection of the data set\n",
    "- Calculate and show the number of missing data values in each column of the $boston\\_data$ DataFrame\n",
    "    - Which columns have missing values?\n",
    "- Remove the instances that contain any missing data, and assign the resulting DataFrame to a variable called $clean\\_boston\\_data$.\n",
    "    - Be sure to use $.copy()$ to avoid future warnings.\n",
    "- Verify that $clean\\_boston\\_data$ has no missing data.\n",
    "- Print the shapes of $boston\\_data$ and $clean\\_boston\\_data$.\n",
    "    - How many rows were removed due to null values?\n",
    "    - What $month, year$ pairings were removed from $boston\\_data$?\n",
    "        - Display a DataFrame of the $month$ and $year$ values that were removed\n",
    "        - Tip: Consider Pandas functions $isna$ and $any$ to identify the rows removed"
   ]
  },
  {
   "cell_type": "code",
   "execution_count": 125,
   "id": "e0c6aad9-e4ce-4f6e-bafd-1a6cd4430f68",
   "metadata": {},
   "outputs": [
    {
     "name": "stdout",
     "output_type": "stream",
     "text": [
      "Missing values in each column:\n",
      "month             0\n",
      "year              0\n",
      "low_temp          6\n",
      "high_temp         5\n",
      "warmest_min       6\n",
      "coldest_high      9\n",
      "ave_min           3\n",
      "ave_max           6\n",
      "mean_temp         0\n",
      "tot_precip        0\n",
      "tot_snow          0\n",
      "max24hr_precip    0\n",
      "max24hr_snow      0\n",
      "dtype: int64\n",
      "\n",
      "Missing values in clean dataset:\n",
      "month             0\n",
      "year              0\n",
      "low_temp          0\n",
      "high_temp         0\n",
      "warmest_min       0\n",
      "coldest_high      0\n",
      "ave_min           0\n",
      "ave_max           0\n",
      "mean_temp         0\n",
      "tot_precip        0\n",
      "tot_snow          0\n",
      "max24hr_precip    0\n",
      "max24hr_snow      0\n",
      "dtype: int64\n",
      "\n",
      "DataFrame shapes:\n",
      "boston_data shape: (1140, 13)\n",
      "clean_boston_data shape: (1112, 13)\n",
      "\n",
      "Number of rows removed: 28\n",
      "\n",
      "Month/Year pairs removed due to missing values:\n",
      "      month  year\n",
      "5         6  1920\n",
      "9        10  1920\n",
      "17        6  1921\n",
      "18        7  1921\n",
      "201      10  1936\n",
      "202      11  1936\n",
      "203      12  1936\n",
      "204       1  1937\n",
      "209       6  1937\n",
      "223       8  1938\n",
      "224       9  1938\n",
      "225      10  1938\n",
      "236       9  1939\n",
      "315       4  1946\n",
      "460       5  1958\n",
      "465      10  1958\n",
      "473       6  1959\n",
      "485       6  1960\n",
      "495       4  1961\n",
      "500       9  1961\n",
      "501      10  1961\n",
      "915       4  1996\n",
      "919       8  1996\n",
      "923      12  1996\n",
      "925       2  1997\n",
      "991       8  2002\n",
      "997       2  2003\n",
      "1002      7  2003\n"
     ]
    }
   ],
   "source": [
    "# Check for missing values in each column\n",
    "print(\"Missing values in each column:\")\n",
    "print(boston_data.isna().sum())\n",
    "\n",
    "# Create clean dataset removing rows with any missing values\n",
    "clean_boston_data = boston_data.dropna().copy()\n",
    "# Verify no missing values in clean dataset\n",
    "print(\"\\nMissing values in clean dataset:\")\n",
    "print(clean_boston_data.isna().sum())\n",
    "# Print shapes to compare\n",
    "print(\"\\nDataFrame shapes:\")\n",
    "print(f\"boston_data shape: {boston_data.shape}\")\n",
    "print(f\"clean_boston_data shape: {clean_boston_data.shape}\")\n",
    "# Calculate number of rows removed\n",
    "rows_removed = boston_data.shape[0] - clean_boston_data.shape[0]\n",
    "print(f\"\\nNumber of rows removed: {rows_removed}\")\n",
    "# Find the month/year pairs that were removed\n",
    "# Create boolean mask of rows with missing values\n",
    "missing_mask = boston_data.isna().any(axis=1)\n",
    "# Get month/year values of removed rows\n",
    "removed_dates = boston_data[missing_mask][[\n",
    "    'month', 'year']].sort_values(['year', 'month'])\n",
    "\n",
    "print(\"\\nMonth/Year pairs removed due to missing values:\")\n",
    "print(removed_dates)"
   ]
  },
  {
   "cell_type": "markdown",
   "id": "c2ea6737-d757-4579-af2d-0d3026c14fa5",
   "metadata": {},
   "source": [
    "### Part $g$\n",
    "Filtering and analyzing the data set\n",
    "- From the $clean\\_boston\\_data$ DataFrame, select all data, except instances where the year is 1930. \n",
    "    - You can assign this subset to a variable $excluding\\_1930$. \n",
    "- Using the $excluding\\_1930$ DataFrame, output the first 20 unique values in the year column.\n",
    "    - You should observe that 1930 is absent"
   ]
  },
  {
   "cell_type": "code",
   "execution_count": 126,
   "id": "429fff23-9faa-4012-a86d-9891761fcdd8",
   "metadata": {},
   "outputs": [
    {
     "name": "stdout",
     "output_type": "stream",
     "text": [
      "First 20 unique years in excluding_1930:\n",
      "[1920, 1921, 1922, 1923, 1924, 1925, 1926, 1927, 1928, 1929, 1931, 1932, 1933, 1934, 1935, 1936, 1937, 1938, 1939, 1940]\n",
      "\n",
      "Verification:\n",
      "Original shape of clean_boston_data: (1112, 13)\n",
      "Shape after excluding 1930: (1100, 13)\n",
      "Number of rows removed (from year 1930): 12\n",
      "\n",
      "Is 1930 present in filtered dataset? False\n"
     ]
    }
   ],
   "source": [
    "# Create DataFrame excluding year 1930\n",
    "excluding_1930 = clean_boston_data[clean_boston_data['year'] != 1930].copy()\n",
    "\n",
    "# Show first 20 unique years\n",
    "print(\"First 20 unique years in excluding_1930:\")\n",
    "print(sorted(excluding_1930['year'].unique())[:20])\n",
    "\n",
    "# Additional verification\n",
    "print(\"\\nVerification:\")\n",
    "print(f\"Original shape of clean_boston_data: {clean_boston_data.shape}\")\n",
    "print(f\"Shape after excluding 1930: {excluding_1930.shape}\")\n",
    "\n",
    "# Count how many rows were from 1930\n",
    "rows_1930 = clean_boston_data[clean_boston_data['year'] == 1930].shape[0]\n",
    "print(f\"Number of rows removed (from year 1930): {rows_1930}\")\n",
    "\n",
    "# Verify 1930 is not in the filtered dataset\n",
    "print(\"\\nIs 1930 present in filtered dataset?\",\n",
    "      1930 in excluding_1930['year'].values)"
   ]
  },
  {
   "cell_type": "markdown",
   "id": "669e979f-34cb-42df-96c9-2e10f7e82a02",
   "metadata": {},
   "source": [
    "### Part $h$\n",
    "- Select the data from the $clean\\_boston\\_data$ where $year$ is 1995 AND the $high\\_temp$ is greater than or equal to 90.\n",
    "- Output or display the entire selected data. "
   ]
  },
  {
   "cell_type": "code",
   "execution_count": 127,
   "id": "6ff153eb-3635-4439-87dc-84ed532f0281",
   "metadata": {},
   "outputs": [
    {
     "name": "stdout",
     "output_type": "stream",
     "text": [
      "Days in 1995 with high temperature >= 90°F:\n",
      "\n",
      "Shape of selected data: (3, 13)\n",
      "\n",
      "Detailed data:\n",
      "     month  year  low_temp  high_temp  warmest_min  coldest_high  ave_min  \\\n",
      "905      6  1995      53.0       95.0         73.0          61.0     60.2   \n",
      "906      7  1995      59.0      100.0         75.0          67.0     67.1   \n",
      "907      8  1995      55.0       96.0         72.0          66.0     64.1   \n",
      "\n",
      "     ave_max  mean_temp  tot_precip tot_snow  max24hr_precip max24hr_snow  \n",
      "905     77.0       68.6        1.55        0            0.53            0  \n",
      "906     84.6       75.9        2.06        0            0.88            0  \n",
      "907     81.5       72.8        0.82        0            0.63            0  \n"
     ]
    }
   ],
   "source": [
    "# Select data from 1995 where high_temp >= 90\n",
    "hot_days_1995 = clean_boston_data[(clean_boston_data['year'] == 1995) &\n",
    "                                  (clean_boston_data['high_temp'] >= 90)]\n",
    "\n",
    "# Sort by month for better readability\n",
    "hot_days_1995_sorted = hot_days_1995.sort_values('month')\n",
    "\n",
    "# Display the results\n",
    "print(\"Days in 1995 with high temperature >= 90°F:\")\n",
    "print(\"\\nShape of selected data:\", hot_days_1995.shape)\n",
    "print(\"\\nDetailed data:\")\n",
    "print(hot_days_1995_sorted)"
   ]
  },
  {
   "cell_type": "markdown",
   "id": "9c8cc3c3-c2e9-490f-a16e-2d7cd581c735",
   "metadata": {},
   "source": [
    "### Part $i$\n",
    "- From $clean\\_boston\\_data$, identify the $month$, $year$, and $high\\_temp$ of the warmest $high\\_temp$ in the data set\n",
    "- Tip: The highest temperature occurs more than once"
   ]
  },
  {
   "cell_type": "code",
   "execution_count": 128,
   "id": "97cb7109-ca18-4c51-9e36-3a9578361873",
   "metadata": {},
   "outputs": [
    {
     "name": "stdout",
     "output_type": "stream",
     "text": [
      "The highest temperature recorded was 103.0°F\n",
      "\n",
      "This occurred on the following dates:\n",
      "      month  year  high_temp\n",
      "78        7  1926      103.0\n",
      "1098      7  2011      103.0\n"
     ]
    }
   ],
   "source": [
    "# Find the maximum high_temp value\n",
    "max_temp = clean_boston_data['high_temp'].max()\n",
    "\n",
    "# Select all instances with this maximum temperature\n",
    "warmest_days = clean_boston_data[clean_boston_data['high_temp'] == max_temp][[\n",
    "    'month', 'year', 'high_temp']]\n",
    "\n",
    "# Sort by year and month for clear display\n",
    "warmest_days_sorted = warmest_days.sort_values(['year', 'month'])\n",
    "\n",
    "print(f\"The highest temperature recorded was {max_temp}°F\")\n",
    "print(\"\\nThis occurred on the following dates:\")\n",
    "print(warmest_days_sorted)"
   ]
  },
  {
   "cell_type": "markdown",
   "id": "11d9673d-210b-47a7-bd71-f2c863fe55d6",
   "metadata": {},
   "source": [
    "### Part $j$\n",
    "- From the $clean\\_boston\\_data$, identify the $month$, $year$, and $tot\\_precip$ for the month with the largest $tot\\_precip$, but only consider the months of March, April, May, or June"
   ]
  },
  {
   "cell_type": "code",
   "execution_count": 129,
   "id": "a0694389",
   "metadata": {},
   "outputs": [
    {
     "name": "stdout",
     "output_type": "stream",
     "text": [
      "\n",
      "Month, year, and total precipitation for the month with the largest total precipitation in March, April, May, or June:\n",
      "\n",
      "Month values: 3=March, 4=April, 5=May, 6=June\n",
      "month             3\n",
      "year           2010\n",
      "tot_precip    14.87\n",
      "Name: 1082, dtype: object\n"
     ]
    }
   ],
   "source": [
    "spring_months = [3, 4, 5, 6]\n",
    "spring_data = clean_boston_data[clean_boston_data['month'].isin(spring_months)]\n",
    "max_precip_row = spring_data.loc[spring_data['tot_precip'].idxmax(), [\n",
    "    'month', 'year', 'tot_precip']]\n",
    "print(\"\\nMonth, year, and total precipitation for the month with the largest total precipitation in March, April, May, or June:\")\n",
    "print(\"\\nMonth values: 3=March, 4=April, 5=May, 6=June\")\n",
    "print(max_precip_row)"
   ]
  },
  {
   "cell_type": "markdown",
   "id": "1642e130-7148-443e-83c2-266ad20126f4",
   "metadata": {},
   "source": [
    "### Part $k$\n",
    "- From $clean\\_boston\\_data$, calculate the count of each month where the $tot\\_snow$ is greater than zero.\n",
    "- Tip: You should get an error"
   ]
  },
  {
   "cell_type": "code",
   "execution_count": 130,
   "id": "a6ff0a21",
   "metadata": {},
   "outputs": [],
   "source": [
    "# This will give an error\n",
    "# snow_counts = clean_boston_data[clean_boston_data['tot_snow']\n",
    "                                # > 0]['month'].value_counts()"
   ]
  },
  {
   "cell_type": "markdown",
   "id": "8d76a7a7-5888-4420-add3-3a8633388857",
   "metadata": {},
   "source": [
    "### Part $l$\n",
    "- You should have gotten: TypeError: '>' not supported between instances of 'str' and 'int'\n",
    "- Check the data types in $clean\\_boston\\_data$, and you'll observe that $tot\\_snow$ is an object type\n",
    "- If you naively try to convert $tot\\_snow$ to float64, an error will be returned.\n",
    "    - The column has 'NR' (Not Recorded) values present.\n",
    "        - Recall from above that $isna$ returned zero null values for this column.\n",
    "- Convert the 'NR' values in $tot\\_snow$ to null values\n",
    "    - There are a few ways of doing this:  Pandas $where$, NumPy $where$, or using Pandas $loc$\n",
    "- Convert the $tot\\_snow$ data type to float\n",
    "- Now, calculate the count of each month where the $tot\\_snow$ is greater than zero."
   ]
  },
  {
   "cell_type": "code",
   "execution_count": 131,
   "id": "9c3b4d2a-b171-4f73-a68e-befb0fc3f2c3",
   "metadata": {},
   "outputs": [
    {
     "name": "stdout",
     "output_type": "stream",
     "text": [
      "Data type of tot_snow: object\n",
      "\n",
      "Unique values in tot_snow (not sorted):\n",
      "['24.8' '32.5' '11' '2' '0' '1.8' '5.5' '1.6' '23.2' '5.7' '4.4' '2.7'\n",
      " '15.5' '10.1' '3.3' '0.9' '14.7' '25.3' '14.4' '10.6' '3' '8.5' '10.4'\n",
      " '7.4' '0.5' '0.2' '20.7' '27.3' '2.8' '24.2' '16.1' '5.1' '8.7' '6.5'\n",
      " '1.4' '4.6' '13.5' '19.6' '3.6' '0.6' 'NR' '3.2' '7.7' '10.2' '0.1'\n",
      " '11.7' '14' '7.3' '1.7' '10.8' '5.8' '8.6' '1.3' '20.6' '5' '2.9' '15.6'\n",
      " '0.8' '32.9' '10.5' '13.1' '2.1' '1.9' '1' '0.3' '13.2' '12.6' '34' '10'\n",
      " '0.4' '7' '4.7' '18.3' '23.8' '1.5' '9.5' '3.5' '20.1' '12.5' '8.2' '6.2'\n",
      " '7.8' '6.8' '26.4' '4.5' '8' '9.6' '12.7' '1.2' '10.7' '42.3' '26.3'\n",
      " '4.9' '24.6' '9.8' '4' '9' '1.1' '26.8' '17' '11.8' '13.7' '6.9' '9.9'\n",
      " '2.4' '7.9' '15.2' '13.9' '9.2' '3.9' '8.4' '12.1' '13.6' '11.4' '2.2'\n",
      " '22.8' '2.5' '14.5' '25.8' '15.4' '11.5' '6.6' '23.9' '12' '4.1' '14.6'\n",
      " '2.3' '22.3' '16.9' '18.7' '14.9' '28.7' '5.3' '17.7' '12.2' '22.2' '9.7'\n",
      " '23.5' '22.9' '3.4' '41.3' '6.1' '18.2' '27.9' '8.1' '21' '16' '17.8'\n",
      " '19.3' '16.8' '17.2' '5.9' '0.7' '5.2' '35.9' '27.2' '4.2' '5.6' '11.9'\n",
      " '17.6' '18' '7.6' '13.3' '2.6' '21.1' '37.4' '3.7' '12.9' '24.3' '7.5'\n",
      " '14.1' '6.7' '38.9' '11.6' '33.7' '36.2' '14.8' '24.1' '39.8' '22.4'\n",
      " '12.4' '19.2' '11.1' '21.5' '7.2' '43.3' '20' '26.9' '8.3' '15' '23.7'\n",
      " '22' '38.3' '21.8']\n",
      "\n",
      "Number of instances with zero snow by month:\n",
      "Month 2: 3\n",
      "Month 3: 5\n",
      "Month 4: 52\n",
      "Month 5: 90\n",
      "Month 6: 87\n",
      "Month 7: 91\n",
      "Month 8: 90\n",
      "Month 9: 90\n",
      "Month 10: 84\n",
      "Month 11: 45\n",
      "Month 12: 6\n",
      "\n",
      "Decembers with no snow:\n",
      "      year  month  tot_snow\n",
      "95    1927     12       0.0\n",
      "407   1953     12       0.0\n",
      "455   1957     12       0.0\n",
      "647   1973     12       0.0\n",
      "959   1999     12       0.0\n",
      "1103  2011     12       0.0\n",
      "\n",
      "Verification:\n",
      "Total Decembers in dataset: 93\n"
     ]
    }
   ],
   "source": [
    "# Check data type and unique values\n",
    "print(\"Data type of tot_snow:\", clean_boston_data['tot_snow'].dtype)\n",
    "print(\"\\nUnique values in tot_snow (not sorted):\")\n",
    "print(clean_boston_data['tot_snow'].unique())\n",
    "\n",
    "# Replace 'NR' values\n",
    "clean_boston_data['tot_snow'] = clean_boston_data['tot_snow'].replace({\n",
    "                                                                      'NR': None})\n",
    "\n",
    "# Convert tot_snow to float\n",
    "clean_boston_data['tot_snow'] = pd.to_numeric(\n",
    "    clean_boston_data['tot_snow'], errors='coerce')\n",
    "\n",
    "# Count months with zero snow\n",
    "zero_snow_counts = clean_boston_data[clean_boston_data['tot_snow']\n",
    "                                     == 0]['month'].value_counts()\n",
    "\n",
    "# Sort by month number\n",
    "zero_snow_counts_sorted = zero_snow_counts.sort_index()\n",
    "\n",
    "print(\"\\nNumber of instances with zero snow by month:\")\n",
    "for month, count in zero_snow_counts_sorted.items():\n",
    "    print(f\"Month {month}: {count}\")\n",
    "\n",
    "# Find Decembers with no snow\n",
    "december_no_snow = clean_boston_data[\n",
    "    (clean_boston_data['month'] == 12) &\n",
    "    (clean_boston_data['tot_snow'] == 0)\n",
    "][['year', 'month', 'tot_snow']]\n",
    "\n",
    "print(\"\\nDecembers with no snow:\")\n",
    "print(december_no_snow.sort_values('year'))\n",
    "\n",
    "# Verify total December records\n",
    "print(\"\\nVerification:\")\n",
    "total_decembers = clean_boston_data[clean_boston_data['month'] == 12].shape[0]\n",
    "print(f\"Total Decembers in dataset: {total_decembers}\")"
   ]
  },
  {
   "cell_type": "markdown",
   "id": "0736f5a6-9341-498e-8823-7e1e07f18d3d",
   "metadata": {},
   "source": [
    "### Part $m$\n",
    "- From the counts of total snowfall per month, Boston gets snow as early as October to as late as May\n",
    "- It seems as though some Decembers didn't get any snow\n",
    "    - We know the original $boston\\_data$ had 95 years of monthly data, and from the analysis in Part b, only two December instances were removed\n",
    "- From $clean\\_boston\\_data$, calculate and show the count of each month where the $tot\\_snow$ is equal to zero.\n",
    "- Identify and show the six years that the month of December not receive any snow?"
   ]
  },
  {
   "cell_type": "code",
   "execution_count": 132,
   "id": "be9d9258-b047-47a4-b144-e1243c030950",
   "metadata": {},
   "outputs": [
    {
     "name": "stdout",
     "output_type": "stream",
     "text": [
      "Number of instances with zero snow by month:\n",
      "Month 2: 3\n",
      "Month 3: 5\n",
      "Month 4: 52\n",
      "Month 5: 90\n",
      "Month 6: 87\n",
      "Month 7: 91\n",
      "Month 8: 90\n",
      "Month 9: 90\n",
      "Month 10: 84\n",
      "Month 11: 45\n",
      "Month 12: 6\n",
      "\n",
      "Decembers with no snow:\n",
      "      year  month  tot_snow\n",
      "95    1927     12       0.0\n",
      "407   1953     12       0.0\n",
      "455   1957     12       0.0\n",
      "647   1973     12       0.0\n",
      "959   1999     12       0.0\n",
      "1103  2011     12       0.0\n",
      "\n",
      "Total number of Decembers in dataset: 93\n",
      "Number of Decembers with no snow: 6\n"
     ]
    }
   ],
   "source": [
    "# Count of months where tot_snow equals 0\n",
    "zero_snow_counts = clean_boston_data[clean_boston_data['tot_snow']\n",
    "                                     == 0]['month'].value_counts()\n",
    "\n",
    "# Sort by month number\n",
    "zero_snow_counts_sorted = zero_snow_counts.sort_index()\n",
    "\n",
    "print(\"Number of instances with zero snow by month:\")\n",
    "for month, count in zero_snow_counts_sorted.items():\n",
    "   print(f\"Month {month}: {count}\")\n",
    "\n",
    "# Decembers with no snow\n",
    "december_no_snow = clean_boston_data[\n",
    "    (clean_boston_data['month'] == 12) &\n",
    "    (clean_boston_data['tot_snow'] == 0)\n",
    "][['year', 'month', 'tot_snow']]\n",
    "\n",
    "print(\"\\nDecembers with no snow:\")\n",
    "print(december_no_snow.sort_values('year'))\n",
    "\n",
    "# Total December count\n",
    "total_decembers = clean_boston_data[clean_boston_data['month'] == 12].shape[0]\n",
    "print(f\"\\nTotal number of Decembers in dataset: {total_decembers}\")\n",
    "print(f\"Number of Decembers with no snow: {december_no_snow.shape[0]}\")"
   ]
  }
 ],
 "metadata": {
  "kernelspec": {
   "display_name": "Python 3",
   "language": "python",
   "name": "python3"
  },
  "language_info": {
   "codemirror_mode": {
    "name": "ipython",
    "version": 3
   },
   "file_extension": ".py",
   "mimetype": "text/x-python",
   "name": "python",
   "nbconvert_exporter": "python",
   "pygments_lexer": "ipython3",
   "version": "3.12.8"
  }
 },
 "nbformat": 4,
 "nbformat_minor": 5
}
