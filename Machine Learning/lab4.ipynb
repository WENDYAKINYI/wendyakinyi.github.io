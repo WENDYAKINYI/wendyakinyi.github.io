{
 "cells": [
  {
   "cell_type": "code",
   "execution_count": 158,
   "metadata": {},
   "outputs": [],
   "source": [
    "import pandas as pd\n",
    "import seaborn as sns\n",
    "import matplotlib.pyplot as plt\n",
    "from sklearn.model_selection import train_test_split\n",
    "from sklearn.linear_model import LinearRegression\n",
    "from sklearn.model_selection import cross_validate\n",
    "from sklearn.metrics import mean_squared_error\n",
    "from sklearn.tree import DecisionTreeRegressor\n",
    "from sklearn.ensemble import RandomForestRegressor\n",
    "from sklearn.model_selection import RandomizedSearchCV\n",
    "from sklearn.metrics import r2_score\n"
   ]
  },
  {
   "cell_type": "markdown",
   "metadata": {},
   "source": [
    "Part 1: Data Exploration"
   ]
  },
  {
   "cell_type": "code",
   "execution_count": 160,
   "metadata": {},
   "outputs": [
    {
     "data": {
      "text/html": [
       "<div>\n",
       "<style scoped>\n",
       "    .dataframe tbody tr th:only-of-type {\n",
       "        vertical-align: middle;\n",
       "    }\n",
       "\n",
       "    .dataframe tbody tr th {\n",
       "        vertical-align: top;\n",
       "    }\n",
       "\n",
       "    .dataframe thead th {\n",
       "        text-align: right;\n",
       "    }\n",
       "</style>\n",
       "<table border=\"1\" class=\"dataframe\">\n",
       "  <thead>\n",
       "    <tr style=\"text-align: right;\">\n",
       "      <th></th>\n",
       "      <th>instant</th>\n",
       "      <th>dteday</th>\n",
       "      <th>season</th>\n",
       "      <th>yr</th>\n",
       "      <th>mnth</th>\n",
       "      <th>hr</th>\n",
       "      <th>holiday</th>\n",
       "      <th>weekday</th>\n",
       "      <th>workingday</th>\n",
       "      <th>weathersit</th>\n",
       "      <th>temp</th>\n",
       "      <th>atemp</th>\n",
       "      <th>hum</th>\n",
       "      <th>windspeed</th>\n",
       "      <th>casual</th>\n",
       "      <th>registered</th>\n",
       "      <th>cnt</th>\n",
       "    </tr>\n",
       "  </thead>\n",
       "  <tbody>\n",
       "    <tr>\n",
       "      <th>0</th>\n",
       "      <td>1</td>\n",
       "      <td>2011-01-01</td>\n",
       "      <td>1</td>\n",
       "      <td>0</td>\n",
       "      <td>1</td>\n",
       "      <td>0</td>\n",
       "      <td>0</td>\n",
       "      <td>6</td>\n",
       "      <td>0</td>\n",
       "      <td>1</td>\n",
       "      <td>0.24</td>\n",
       "      <td>0.2879</td>\n",
       "      <td>0.81</td>\n",
       "      <td>0.0</td>\n",
       "      <td>3</td>\n",
       "      <td>13</td>\n",
       "      <td>16</td>\n",
       "    </tr>\n",
       "    <tr>\n",
       "      <th>1</th>\n",
       "      <td>2</td>\n",
       "      <td>2011-01-01</td>\n",
       "      <td>1</td>\n",
       "      <td>0</td>\n",
       "      <td>1</td>\n",
       "      <td>1</td>\n",
       "      <td>0</td>\n",
       "      <td>6</td>\n",
       "      <td>0</td>\n",
       "      <td>1</td>\n",
       "      <td>0.22</td>\n",
       "      <td>0.2727</td>\n",
       "      <td>0.80</td>\n",
       "      <td>0.0</td>\n",
       "      <td>8</td>\n",
       "      <td>32</td>\n",
       "      <td>40</td>\n",
       "    </tr>\n",
       "    <tr>\n",
       "      <th>2</th>\n",
       "      <td>3</td>\n",
       "      <td>2011-01-01</td>\n",
       "      <td>1</td>\n",
       "      <td>0</td>\n",
       "      <td>1</td>\n",
       "      <td>2</td>\n",
       "      <td>0</td>\n",
       "      <td>6</td>\n",
       "      <td>0</td>\n",
       "      <td>1</td>\n",
       "      <td>0.22</td>\n",
       "      <td>0.2727</td>\n",
       "      <td>0.80</td>\n",
       "      <td>0.0</td>\n",
       "      <td>5</td>\n",
       "      <td>27</td>\n",
       "      <td>32</td>\n",
       "    </tr>\n",
       "    <tr>\n",
       "      <th>3</th>\n",
       "      <td>4</td>\n",
       "      <td>2011-01-01</td>\n",
       "      <td>1</td>\n",
       "      <td>0</td>\n",
       "      <td>1</td>\n",
       "      <td>3</td>\n",
       "      <td>0</td>\n",
       "      <td>6</td>\n",
       "      <td>0</td>\n",
       "      <td>1</td>\n",
       "      <td>0.24</td>\n",
       "      <td>0.2879</td>\n",
       "      <td>0.75</td>\n",
       "      <td>0.0</td>\n",
       "      <td>3</td>\n",
       "      <td>10</td>\n",
       "      <td>13</td>\n",
       "    </tr>\n",
       "    <tr>\n",
       "      <th>4</th>\n",
       "      <td>5</td>\n",
       "      <td>2011-01-01</td>\n",
       "      <td>1</td>\n",
       "      <td>0</td>\n",
       "      <td>1</td>\n",
       "      <td>4</td>\n",
       "      <td>0</td>\n",
       "      <td>6</td>\n",
       "      <td>0</td>\n",
       "      <td>1</td>\n",
       "      <td>0.24</td>\n",
       "      <td>0.2879</td>\n",
       "      <td>0.75</td>\n",
       "      <td>0.0</td>\n",
       "      <td>0</td>\n",
       "      <td>1</td>\n",
       "      <td>1</td>\n",
       "    </tr>\n",
       "  </tbody>\n",
       "</table>\n",
       "</div>"
      ],
      "text/plain": [
       "   instant      dteday  season  yr  mnth  hr  holiday  weekday  workingday  \\\n",
       "0        1  2011-01-01       1   0     1   0        0        6           0   \n",
       "1        2  2011-01-01       1   0     1   1        0        6           0   \n",
       "2        3  2011-01-01       1   0     1   2        0        6           0   \n",
       "3        4  2011-01-01       1   0     1   3        0        6           0   \n",
       "4        5  2011-01-01       1   0     1   4        0        6           0   \n",
       "\n",
       "   weathersit  temp   atemp   hum  windspeed  casual  registered  cnt  \n",
       "0           1  0.24  0.2879  0.81        0.0       3          13   16  \n",
       "1           1  0.22  0.2727  0.80        0.0       8          32   40  \n",
       "2           1  0.22  0.2727  0.80        0.0       5          27   32  \n",
       "3           1  0.24  0.2879  0.75        0.0       3          10   13  \n",
       "4           1  0.24  0.2879  0.75        0.0       0           1    1  "
      ]
     },
     "execution_count": 160,
     "metadata": {},
     "output_type": "execute_result"
    }
   ],
   "source": [
    "# a) Import bike_share_hour.csv as a Pandas DataFrame with the following code: \n",
    "url = 'https://raw.githubusercontent.com/arjayit/cs4432_data/master/bike_share_hour.csv' \n",
    "df = pd.read_csv(url) \n",
    "df.head()"
   ]
  },
  {
   "cell_type": "code",
   "execution_count": 161,
   "metadata": {},
   "outputs": [
    {
     "name": "stdout",
     "output_type": "stream",
     "text": [
      "\n",
      "Number of unique date labels: 731\n",
      "Years present in the data: [2011 2012]\n"
     ]
    }
   ],
   "source": [
    "# b) Identify and print the number of unique date labels (dteday) \n",
    "unique_dates = df['dteday'].nunique()\n",
    "print(f\"\\nNumber of unique date labels: {unique_dates}\")\n",
    "\n",
    "# Check the years present in the data\n",
    "years = pd.to_datetime(df['dteday']).dt.year.unique()\n",
    "print(f\"Years present in the data: {years}\")\n",
    "\n"
   ]
  },
  {
   "cell_type": "markdown",
   "metadata": {},
   "source": [
    "The dataset contains 731 unique date labels. 2011 and 2012 together would have 365 + 366 = 731 days (2012 was a leap year). This confirms that the dataset indeed covers exactly two calendar years as claimed in the README file."
   ]
  },
  {
   "cell_type": "code",
   "execution_count": null,
   "metadata": {},
   "outputs": [
    {
     "name": "stdout",
     "output_type": "stream",
     "text": [
      "dteday\n",
      "2012-12-31    24\n",
      "2011-01-01    24\n",
      "2012-12-30    24\n",
      "2012-12-29    24\n",
      "2012-12-28    24\n",
      "              ..\n",
      "2011-01-26    16\n",
      "2011-01-18    12\n",
      "2012-10-30    11\n",
      "2011-01-27     8\n",
      "2012-10-29     1\n",
      "Name: count, Length: 731, dtype: int64\n",
      "count\n",
      "24    655\n",
      "23     62\n",
      "22      6\n",
      "18      2\n",
      "17      1\n",
      "16      1\n",
      "12      1\n",
      "11      1\n",
      "8       1\n",
      "1       1\n",
      "Name: count, dtype: int64\n"
     ]
    }
   ],
   "source": [
    "# c) Missing data\n",
    "print(df['dteday'].value_counts())\n",
    "print(df['dteday'].value_counts().value_counts())\n",
    "# The hourly data that is missing from the incomplete dates represents the hours that cnt is equal to zero."
   ]
  },
  {
   "cell_type": "code",
   "execution_count": 163,
   "metadata": {},
   "outputs": [],
   "source": [
    "# d) Remove the dteday and instant input features\n",
    "df.drop(columns=['instant', 'dteday'], inplace=True)"
   ]
  },
  {
   "cell_type": "code",
   "execution_count": 164,
   "metadata": {},
   "outputs": [
    {
     "name": "stdout",
     "output_type": "stream",
     "text": [
      "\n",
      "DataFrame info before conversion:\n"
     ]
    },
    {
     "name": "stdout",
     "output_type": "stream",
     "text": [
      "<class 'pandas.core.frame.DataFrame'>\n",
      "RangeIndex: 17379 entries, 0 to 17378\n",
      "Data columns (total 15 columns):\n",
      " #   Column      Non-Null Count  Dtype  \n",
      "---  ------      --------------  -----  \n",
      " 0   season      17379 non-null  int64  \n",
      " 1   yr          17379 non-null  int64  \n",
      " 2   mnth        17379 non-null  int64  \n",
      " 3   hr          17379 non-null  int64  \n",
      " 4   holiday     17379 non-null  int64  \n",
      " 5   weekday     17379 non-null  int64  \n",
      " 6   workingday  17379 non-null  int64  \n",
      " 7   weathersit  17379 non-null  int64  \n",
      " 8   temp        17379 non-null  float64\n",
      " 9   atemp       17379 non-null  float64\n",
      " 10  hum         17379 non-null  float64\n",
      " 11  windspeed   17379 non-null  float64\n",
      " 12  casual      17379 non-null  int64  \n",
      " 13  registered  17379 non-null  int64  \n",
      " 14  cnt         17379 non-null  int64  \n",
      "dtypes: float64(4), int64(11)\n",
      "memory usage: 2.0 MB\n",
      "\n",
      "Descriptive statistics of the dataset:\n",
      "             season            yr          mnth            hr       holiday  \\\n",
      "count  17379.000000  17379.000000  17379.000000  17379.000000  17379.000000   \n",
      "mean       2.501640      0.502561      6.537775     11.546752      0.028770   \n",
      "std        1.106918      0.500008      3.438776      6.914405      0.167165   \n",
      "min        1.000000      0.000000      1.000000      0.000000      0.000000   \n",
      "25%        2.000000      0.000000      4.000000      6.000000      0.000000   \n",
      "50%        3.000000      1.000000      7.000000     12.000000      0.000000   \n",
      "75%        3.000000      1.000000     10.000000     18.000000      0.000000   \n",
      "max        4.000000      1.000000     12.000000     23.000000      1.000000   \n",
      "\n",
      "            weekday    workingday    weathersit          temp         atemp  \\\n",
      "count  17379.000000  17379.000000  17379.000000  17379.000000  17379.000000   \n",
      "mean       3.003683      0.682721      1.425283      0.496987      0.475775   \n",
      "std        2.005771      0.465431      0.639357      0.192556      0.171850   \n",
      "min        0.000000      0.000000      1.000000      0.020000      0.000000   \n",
      "25%        1.000000      0.000000      1.000000      0.340000      0.333300   \n",
      "50%        3.000000      1.000000      1.000000      0.500000      0.484800   \n",
      "75%        5.000000      1.000000      2.000000      0.660000      0.621200   \n",
      "max        6.000000      1.000000      4.000000      1.000000      1.000000   \n",
      "\n",
      "                hum     windspeed        casual    registered           cnt  \n",
      "count  17379.000000  17379.000000  17379.000000  17379.000000  17379.000000  \n",
      "mean       0.627229      0.190098     35.676218    153.786869    189.463088  \n",
      "std        0.192930      0.122340     49.305030    151.357286    181.387599  \n",
      "min        0.000000      0.000000      0.000000      0.000000      1.000000  \n",
      "25%        0.480000      0.104500      4.000000     34.000000     40.000000  \n",
      "50%        0.630000      0.194000     17.000000    115.000000    142.000000  \n",
      "75%        0.780000      0.253700     48.000000    220.000000    281.000000  \n",
      "max        1.000000      0.850700    367.000000    886.000000    977.000000  \n"
     ]
    }
   ],
   "source": [
    "# e) Identify and convert categorical features to Pandas category type\n",
    "print(\"\\nDataFrame info before conversion:\")\n",
    "df.info()\n",
    "\n",
    "# Examining data types and descriptions\n",
    "print(\"\\nDescriptive statistics of the dataset:\")\n",
    "print(df.describe())\n"
   ]
  },
  {
   "cell_type": "code",
   "execution_count": null,
   "metadata": {},
   "outputs": [
    {
     "name": "stdout",
     "output_type": "stream",
     "text": [
      "\n",
      "DataFrame info after conversion to category type:\n",
      "<class 'pandas.core.frame.DataFrame'>\n",
      "RangeIndex: 17379 entries, 0 to 17378\n",
      "Data columns (total 15 columns):\n",
      " #   Column      Non-Null Count  Dtype   \n",
      "---  ------      --------------  -----   \n",
      " 0   season      17379 non-null  category\n",
      " 1   yr          17379 non-null  category\n",
      " 2   mnth        17379 non-null  category\n",
      " 3   hr          17379 non-null  category\n",
      " 4   holiday     17379 non-null  category\n",
      " 5   weekday     17379 non-null  category\n",
      " 6   workingday  17379 non-null  category\n",
      " 7   weathersit  17379 non-null  category\n",
      " 8   temp        17379 non-null  float64 \n",
      " 9   atemp       17379 non-null  float64 \n",
      " 10  hum         17379 non-null  float64 \n",
      " 11  windspeed   17379 non-null  float64 \n",
      " 12  casual      17379 non-null  int64   \n",
      " 13  registered  17379 non-null  int64   \n",
      " 14  cnt         17379 non-null  int64   \n",
      "dtypes: category(8), float64(4), int64(3)\n",
      "memory usage: 1.1 MB\n"
     ]
    }
   ],
   "source": [
    "# f) Convert the 8 categorical features to category type\n",
    "categorical_features = ['season', 'yr', 'mnth', 'hr', 'holiday', 'weekday', 'workingday', 'weathersit']\n",
    "for feature in categorical_features:\n",
    "    df[feature] = df[feature].astype('category')\n",
    "\n",
    "print(\"\\nDataFrame info after conversion to category type:\")\n",
    "df.info()"
   ]
  },
  {
   "cell_type": "code",
   "execution_count": 166,
   "metadata": {},
   "outputs": [
    {
     "name": "stdout",
     "output_type": "stream",
     "text": [
      "\n",
      "Null values in each column:\n",
      "season        0\n",
      "yr            0\n",
      "mnth          0\n",
      "hr            0\n",
      "holiday       0\n",
      "weekday       0\n",
      "workingday    0\n",
      "weathersit    0\n",
      "temp          0\n",
      "atemp         0\n",
      "hum           0\n",
      "windspeed     0\n",
      "casual        0\n",
      "registered    0\n",
      "cnt           0\n",
      "dtype: int64\n",
      "\n",
      "Shape after dropping null values: (17379, 15)\n"
     ]
    }
   ],
   "source": [
    "# g) Calculate and handle null values\n",
    "null_values = df.isnull().sum()\n",
    "print(\"\\nNull values in each column:\")\n",
    "print(null_values)\n",
    "\n",
    "# Remove rows with null values if any\n",
    "df = df.dropna()\n",
    "print(f\"\\nShape after dropping null values: {df.shape}\")\n"
   ]
  },
  {
   "cell_type": "code",
   "execution_count": 167,
   "metadata": {},
   "outputs": [
    {
     "name": "stdout",
     "output_type": "stream",
     "text": [
      "mnth\n",
      "1        [1]\n",
      "Categories (4, int64): [1, 2, 3, 4]\n",
      "2        [1]\n",
      "Categories (4, int64): [1, 2, 3, 4]\n",
      "3     [1, 2]\n",
      "Categories (4, int64): [1, 2, 3, 4]\n",
      "4        [2]\n",
      "Categories (4, int64): [1, 2, 3, 4]\n",
      "5        [2]\n",
      "Categories (4, int64): [1, 2, 3, 4]\n",
      "6     [2, 3]\n",
      "Categories (4, int64): [1, 2, 3, 4]\n",
      "7        [3]\n",
      "Categories (4, int64): [1, 2, 3, 4]\n",
      "8        [3]\n",
      "Categories (4, int64): [1, 2, 3, 4]\n",
      "9     [3, 4]\n",
      "Categories (4, int64): [1, 2, 3, 4]\n",
      "10       [4]\n",
      "Categories (4, int64): [1, 2, 3, 4]\n",
      "11       [4]\n",
      "Categories (4, int64): [1, 2, 3, 4]\n",
      "12    [4, 1]\n",
      "Categories (4, int64): [1, 2, 3, 4]\n",
      "Name: season, dtype: object\n"
     ]
    },
    {
     "name": "stderr",
     "output_type": "stream",
     "text": [
      "C:\\Users\\USER\\AppData\\Local\\Temp\\ipykernel_19700\\3729581684.py:3: FutureWarning: The default of observed=False is deprecated and will be changed to True in a future version of pandas. Pass observed=False to retain current behavior or observed=True to adopt the future default and silence this warning.\n",
      "  month_to_season = df.groupby('mnth')['season'].unique()\n"
     ]
    }
   ],
   "source": [
    "# h) Map and display the values in month to the values in season\n",
    "\n",
    "month_to_season = df.groupby('mnth')['season'].unique()\n",
    "print(month_to_season)"
   ]
  },
  {
   "cell_type": "markdown",
   "metadata": {},
   "source": [
    "The mapping overlaps showing that one month could have two seasons say part of month three is in winter and part of it is in spring."
   ]
  },
  {
   "cell_type": "code",
   "execution_count": 168,
   "metadata": {},
   "outputs": [
    {
     "data": {
      "text/html": [
       "<div>\n",
       "<style scoped>\n",
       "    .dataframe tbody tr th:only-of-type {\n",
       "        vertical-align: middle;\n",
       "    }\n",
       "\n",
       "    .dataframe tbody tr th {\n",
       "        vertical-align: top;\n",
       "    }\n",
       "\n",
       "    .dataframe thead th {\n",
       "        text-align: right;\n",
       "    }\n",
       "</style>\n",
       "<table border=\"1\" class=\"dataframe\">\n",
       "  <thead>\n",
       "    <tr style=\"text-align: right;\">\n",
       "      <th></th>\n",
       "      <th>count</th>\n",
       "      <th>mean</th>\n",
       "      <th>std</th>\n",
       "      <th>min</th>\n",
       "      <th>25%</th>\n",
       "      <th>50%</th>\n",
       "      <th>75%</th>\n",
       "      <th>max</th>\n",
       "    </tr>\n",
       "  </thead>\n",
       "  <tbody>\n",
       "    <tr>\n",
       "      <th>temp</th>\n",
       "      <td>17379.0</td>\n",
       "      <td>0.496987</td>\n",
       "      <td>0.192556</td>\n",
       "      <td>0.02</td>\n",
       "      <td>0.3400</td>\n",
       "      <td>0.5000</td>\n",
       "      <td>0.6600</td>\n",
       "      <td>1.0000</td>\n",
       "    </tr>\n",
       "    <tr>\n",
       "      <th>atemp</th>\n",
       "      <td>17379.0</td>\n",
       "      <td>0.475775</td>\n",
       "      <td>0.171850</td>\n",
       "      <td>0.00</td>\n",
       "      <td>0.3333</td>\n",
       "      <td>0.4848</td>\n",
       "      <td>0.6212</td>\n",
       "      <td>1.0000</td>\n",
       "    </tr>\n",
       "    <tr>\n",
       "      <th>hum</th>\n",
       "      <td>17379.0</td>\n",
       "      <td>0.627229</td>\n",
       "      <td>0.192930</td>\n",
       "      <td>0.00</td>\n",
       "      <td>0.4800</td>\n",
       "      <td>0.6300</td>\n",
       "      <td>0.7800</td>\n",
       "      <td>1.0000</td>\n",
       "    </tr>\n",
       "    <tr>\n",
       "      <th>windspeed</th>\n",
       "      <td>17379.0</td>\n",
       "      <td>0.190098</td>\n",
       "      <td>0.122340</td>\n",
       "      <td>0.00</td>\n",
       "      <td>0.1045</td>\n",
       "      <td>0.1940</td>\n",
       "      <td>0.2537</td>\n",
       "      <td>0.8507</td>\n",
       "    </tr>\n",
       "    <tr>\n",
       "      <th>casual</th>\n",
       "      <td>17379.0</td>\n",
       "      <td>35.676218</td>\n",
       "      <td>49.305030</td>\n",
       "      <td>0.00</td>\n",
       "      <td>4.0000</td>\n",
       "      <td>17.0000</td>\n",
       "      <td>48.0000</td>\n",
       "      <td>367.0000</td>\n",
       "    </tr>\n",
       "    <tr>\n",
       "      <th>registered</th>\n",
       "      <td>17379.0</td>\n",
       "      <td>153.786869</td>\n",
       "      <td>151.357286</td>\n",
       "      <td>0.00</td>\n",
       "      <td>34.0000</td>\n",
       "      <td>115.0000</td>\n",
       "      <td>220.0000</td>\n",
       "      <td>886.0000</td>\n",
       "    </tr>\n",
       "    <tr>\n",
       "      <th>cnt</th>\n",
       "      <td>17379.0</td>\n",
       "      <td>189.463088</td>\n",
       "      <td>181.387599</td>\n",
       "      <td>1.00</td>\n",
       "      <td>40.0000</td>\n",
       "      <td>142.0000</td>\n",
       "      <td>281.0000</td>\n",
       "      <td>977.0000</td>\n",
       "    </tr>\n",
       "  </tbody>\n",
       "</table>\n",
       "</div>"
      ],
      "text/plain": [
       "              count        mean         std   min      25%       50%  \\\n",
       "temp        17379.0    0.496987    0.192556  0.02   0.3400    0.5000   \n",
       "atemp       17379.0    0.475775    0.171850  0.00   0.3333    0.4848   \n",
       "hum         17379.0    0.627229    0.192930  0.00   0.4800    0.6300   \n",
       "windspeed   17379.0    0.190098    0.122340  0.00   0.1045    0.1940   \n",
       "casual      17379.0   35.676218   49.305030  0.00   4.0000   17.0000   \n",
       "registered  17379.0  153.786869  151.357286  0.00  34.0000  115.0000   \n",
       "cnt         17379.0  189.463088  181.387599  1.00  40.0000  142.0000   \n",
       "\n",
       "                 75%       max  \n",
       "temp          0.6600    1.0000  \n",
       "atemp         0.6212    1.0000  \n",
       "hum           0.7800    1.0000  \n",
       "windspeed     0.2537    0.8507  \n",
       "casual       48.0000  367.0000  \n",
       "registered  220.0000  886.0000  \n",
       "cnt         281.0000  977.0000  "
      ]
     },
     "execution_count": 168,
     "metadata": {},
     "output_type": "execute_result"
    }
   ],
   "source": [
    "\n",
    "# i) Descriptive statistics of numeric columns\n",
    "df.describe().T\n"
   ]
  },
  {
   "cell_type": "markdown",
   "metadata": {},
   "source": [
    "Temperature (temp) and normalized temperature (atemp) range from 0.02 to 1.00, being normalized values.\n",
    "Humidity (hum) ranges from 0.0 to 1.0, representing relative humidity.\n",
    "Windspeed (windspeed) also ranges from 0.0 to 0.85, being normalized.\n",
    "The target variable (cnt) has a minimum value of 1, confirming the dataset only includes hours with at least one bike rental."
   ]
  },
  {
   "cell_type": "code",
   "execution_count": 169,
   "metadata": {},
   "outputs": [
    {
     "data": {
      "image/png": "[encoded data removed]",
      "text/plain": [
       "<Figure size 1000x600 with 1 Axes>"
      ]
     },
     "metadata": {},
     "output_type": "display_data"
    }
   ],
   "source": [
    "# j) Construct a bar plot of cnt versus season\n",
    "plt.figure(figsize=(10, 6))\n",
    "sns.barplot(x='season', y='cnt', data=df)\n",
    "plt.title('Bike Rentals by Season')\n",
    "plt.xlabel('Season (1: Winter, 2: Spring, 3: Summer, 4: Fall)')\n",
    "plt.ylabel('Count of Bike Rentals')\n",
    "plt.xticks([0, 1, 2, 3], ['Winter', 'Spring', 'Summer', 'Fall'])\n",
    "plt.show()"
   ]
  },
  {
   "cell_type": "markdown",
   "metadata": {},
   "source": [
    "Bike usage is highest in summer and lowest in winter, which aligns with intuition, as people are more likely to rent bikes in warmer weather.\n",
    "\n"
   ]
  },
  {
   "cell_type": "code",
   "execution_count": 170,
   "metadata": {},
   "outputs": [
    {
     "data": {
      "image/png": "[encoded data removed]",
      "text/plain": [
       "<Figure size 1000x600 with 1 Axes>"
      ]
     },
     "metadata": {},
     "output_type": "display_data"
    }
   ],
   "source": [
    "# k) Construct a bar chart of cnt versus workingday\n",
    "plt.figure(figsize=(10, 6))\n",
    "sns.barplot(x='workingday', y='cnt', data=df)\n",
    "plt.title('Bike Rentals by Working Day Status')\n",
    "plt.xlabel('Working Day (0: No, 1: Yes)')\n",
    "plt.ylabel('Count of Bike Rentals')\n",
    "plt.xticks([0, 1], ['Non-Working Day', 'Working Day'])\n",
    "plt.show()"
   ]
  },
  {
   "cell_type": "markdown",
   "metadata": {},
   "source": [
    "The analysis shows that the number of bike rentals is fairly similar between working days and non-working days, with a slightly higher average on working days. The mean is a better representation here since it normalizes for the different number of days."
   ]
  },
  {
   "cell_type": "code",
   "execution_count": 171,
   "metadata": {},
   "outputs": [
    {
     "data": {
      "image/png": "[encoded data removed]",
      "text/plain": [
       "<Figure size 1200x600 with 1 Axes>"
      ]
     },
     "metadata": {},
     "output_type": "display_data"
    }
   ],
   "source": [
    "# l) Construct a bar chart for cnt versus mnth\n",
    "plt.figure(figsize=(12, 6))\n",
    "sns.barplot(x='mnth', y='cnt', data=df)\n",
    "plt.title('Bike Rentals by Month')\n",
    "plt.xlabel('Month')\n",
    "plt.ylabel('Count of Bike Rentals')\n",
    "plt.xticks(range(12), ['Jan', 'Feb', 'Mar', 'Apr', 'May', 'Jun', 'Jul', 'Aug', 'Sep', 'Oct', 'Nov', 'Dec'])\n",
    "plt.show()"
   ]
  },
  {
   "cell_type": "markdown",
   "metadata": {},
   "source": [
    "The monthly pattern shows higher bike usage during the warmer months (May through October). This aligns with intuition and the seasonal patterns observed earlier, confirming that weather plays a significant role in bike rental behavior."
   ]
  },
  {
   "cell_type": "code",
   "execution_count": 172,
   "metadata": {},
   "outputs": [
    {
     "data": {
      "image/png": "[encoded data removed]",
      "text/plain": [
       "<Figure size 1000x600 with 1 Axes>"
      ]
     },
     "metadata": {},
     "output_type": "display_data"
    }
   ],
   "source": [
    "# m) Construct a bar plot of cnt versus weathersit\n",
    "plt.figure(figsize=(10, 6))\n",
    "sns.barplot(x='weathersit', y='cnt', data=df)\n",
    "plt.title('Bike Rentals by Weather Situation')\n",
    "plt.xlabel('Weather Situation (1: Clear, 2: Mist, 3: Light Snow/Rain, 4: Heavy Rain)')\n",
    "plt.ylabel('Count of Bike Rentals')\n",
    "plt.xticks([0, 1, 2, 3], ['Clear', 'Mist', 'Light Rain/Snow', 'Heavy Rain'])\n",
    "plt.show()"
   ]
  },
  {
   "cell_type": "markdown",
   "metadata": {},
   "source": [
    "The bar plot shows that bike rentals decrease significantly as weather conditions worsen."
   ]
  },
  {
   "cell_type": "code",
   "execution_count": 173,
   "metadata": {},
   "outputs": [
    {
     "data": {
      "image/png": "[encoded data removed]",
      "text/plain": [
       "<Figure size 1200x800 with 1 Axes>"
      ]
     },
     "metadata": {},
     "output_type": "display_data"
    }
   ],
   "source": [
    "# n) Construct a point plot of weathersit vs cnt with season as hue\n",
    "plt.figure(figsize=(12, 8))\n",
    "sns.pointplot(x='weathersit', y='cnt', hue='season', data=df, errorbar=None)\n",
    "plt.title('Bike Rentals by Weather Situation and Season')\n",
    "plt.xlabel('Weather Situation')\n",
    "plt.ylabel('Count of Bike Rentals')\n",
    "plt.legend(title='Season', labels=['Winter', 'Spring', 'Summer', 'Fall'])\n",
    "plt.show()"
   ]
  },
  {
   "cell_type": "markdown",
   "metadata": {},
   "source": [
    "In all seasons, clear weather (1) has higher rental counts than misty (2) or rainy (3) weather\n",
    "The impact of poor weather is less severe in summer and fall compared to winter and spring"
   ]
  },
  {
   "cell_type": "markdown",
   "metadata": {},
   "source": []
  },
  {
   "cell_type": "code",
   "execution_count": 174,
   "metadata": {},
   "outputs": [
    {
     "data": {
      "image/png": "[encoded data removed]",
      "text/plain": [
       "<Figure size 1400x800 with 1 Axes>"
      ]
     },
     "metadata": {},
     "output_type": "display_data"
    }
   ],
   "source": [
    "# o) Construct a bar plot of cnt versus hr for workingday = 1\n",
    "plt.figure(figsize=(14, 8))\n",
    "working_day_data = df[df['workingday'] == 1]\n",
    "sns.barplot(x='hr', y='cnt', data=working_day_data)\n",
    "plt.title('Bike Rentals by Hour (Working Days)')\n",
    "plt.xlabel('Hour of the Day')\n",
    "plt.ylabel('Count of Bike Rentals')\n",
    "plt.xticks(range(24))\n",
    "plt.show()"
   ]
  },
  {
   "cell_type": "markdown",
   "metadata": {},
   "source": [
    "A morning peak around 8 AM, corresponding to the morning commute\n",
    "An evening peak around 5-6 PM, corresponding to the evening commute\n",
    "This pattern strongly indicates that bike rentals on working days are heavily influenced by commuting patterns."
   ]
  },
  {
   "cell_type": "code",
   "execution_count": 175,
   "metadata": {},
   "outputs": [
    {
     "data": {
      "image/png": "[encoded data removed]",
      "text/plain": [
       "<Figure size 1400x800 with 1 Axes>"
      ]
     },
     "metadata": {},
     "output_type": "display_data"
    }
   ],
   "source": [
    "# p) Construct a bar plot of cnt versus hr for workingday = 0\n",
    "plt.figure(figsize=(14, 8))\n",
    "non_working_day_data = df[df['workingday'] == 0]\n",
    "sns.barplot(x='hr', y='cnt', data=non_working_day_data)\n",
    "plt.title('Bike Rentals by Hour (Non-Working Days)')\n",
    "plt.xlabel('Hour of the Day')\n",
    "plt.ylabel('Count of Bike Rentals')\n",
    "plt.xticks(range(24))\n",
    "plt.show()"
   ]
  },
  {
   "cell_type": "markdown",
   "metadata": {},
   "source": [
    "No pronounced commuting peaks\n",
    "A gradual increase throughout the morning\n",
    "Peak usage in the mid-afternoon (around 1-3 PM)\n",
    "Gradual decline in the evening\n",
    "This pattern suggests recreational use rather than commuting, which aligns with intuition about weekend/holiday activities."
   ]
  },
  {
   "cell_type": "code",
   "execution_count": 176,
   "metadata": {},
   "outputs": [
    {
     "data": {
      "image/png": "[encoded data removed]",
      "text/plain": [
       "<Figure size 1200x800 with 1 Axes>"
      ]
     },
     "metadata": {},
     "output_type": "display_data"
    }
   ],
   "source": [
    "# q) Construct a histogram of the cnt column\n",
    "plt.figure(figsize=(12, 8))\n",
    "sns.histplot(df['cnt'], kde=True, bins=50)\n",
    "plt.title('Distribution of Hourly Bike Rentals')\n",
    "plt.xlabel('Count of Bike Rentals')\n",
    "plt.ylabel('Frequency')\n",
    "plt.show()"
   ]
  },
  {
   "cell_type": "markdown",
   "metadata": {},
   "source": [
    "The histogram of the 'cnt' column shows a right-skewed distribution, with most hours having relatively low rental counts (below 200) and fewer hours with very high rental counts. The distribution has a long tail extending to over 800 rentals per hour in extreme cases. This skewed distribution suggests that certain combinations of conditions (likely good weather during peak hours) create especially high demand for bike rentals."
   ]
  },
  {
   "cell_type": "markdown",
   "metadata": {},
   "source": [
    "Part 2: Data Preparation "
   ]
  },
  {
   "cell_type": "code",
   "execution_count": 177,
   "metadata": {},
   "outputs": [
    {
     "name": "stdout",
     "output_type": "stream",
     "text": [
      "              season        yr      mnth        hr   holiday   weekday  \\\n",
      "season      1.000000 -0.010742  0.830386 -0.006117 -0.009585 -0.002335   \n",
      "yr         -0.010742  1.000000 -0.010473 -0.003867  0.006692 -0.004485   \n",
      "mnth        0.830386 -0.010473  1.000000 -0.005772  0.018430  0.010400   \n",
      "hr         -0.006117 -0.003867 -0.005772  1.000000  0.000479 -0.003498   \n",
      "holiday    -0.009585  0.006692  0.018430  0.000479  1.000000 -0.102088   \n",
      "weekday    -0.002335 -0.004485  0.010400 -0.003498 -0.102088  1.000000   \n",
      "workingday  0.013743 -0.002196 -0.003477  0.002285 -0.252471  0.035955   \n",
      "weathersit -0.014524 -0.019157  0.005400 -0.020203 -0.017036  0.003311   \n",
      "temp        0.312025  0.040913  0.201691  0.137603 -0.027340 -0.001795   \n",
      "atemp       0.319380  0.039222  0.208096  0.133750 -0.030973 -0.008821   \n",
      "hum         0.150625 -0.083546  0.164411 -0.276498 -0.010588 -0.037158   \n",
      "windspeed  -0.149773 -0.008740 -0.135386  0.137252  0.003988  0.011502   \n",
      "casual      0.120206  0.142779  0.068457  0.301202  0.031564  0.032721   \n",
      "registered  0.174226  0.253684  0.122273  0.374141 -0.047345  0.021578   \n",
      "cnt         0.178056  0.250495  0.120638  0.394071 -0.030927  0.026900   \n",
      "\n",
      "            workingday  weathersit      temp     atemp       hum  windspeed  \\\n",
      "season        0.013743   -0.014524  0.312025  0.319380  0.150625  -0.149773   \n",
      "yr           -0.002196   -0.019157  0.040913  0.039222 -0.083546  -0.008740   \n",
      "mnth         -0.003477    0.005400  0.201691  0.208096  0.164411  -0.135386   \n",
      "hr            0.002285   -0.020203  0.137603  0.133750 -0.276498   0.137252   \n",
      "holiday      -0.252471   -0.017036 -0.027340 -0.030973 -0.010588   0.003988   \n",
      "weekday       0.035955    0.003311 -0.001795 -0.008821 -0.037158   0.011502   \n",
      "workingday    1.000000    0.044672  0.055390  0.054667  0.015688  -0.011830   \n",
      "weathersit    0.044672    1.000000 -0.102640 -0.105563  0.418130   0.026226   \n",
      "temp          0.055390   -0.102640  1.000000  0.987672 -0.069881  -0.023125   \n",
      "atemp         0.054667   -0.105563  0.987672  1.000000 -0.051918  -0.062336   \n",
      "hum           0.015688    0.418130 -0.069881 -0.051918  1.000000  -0.290105   \n",
      "windspeed    -0.011830    0.026226 -0.023125 -0.062336 -0.290105   1.000000   \n",
      "casual       -0.300942   -0.152628  0.459616  0.454080 -0.347028   0.090287   \n",
      "registered    0.134326   -0.120966  0.335361  0.332559 -0.273933   0.082321   \n",
      "cnt           0.030284   -0.142426  0.404772  0.400929 -0.322911   0.093234   \n",
      "\n",
      "              casual  registered       cnt  \n",
      "season      0.120206    0.174226  0.178056  \n",
      "yr          0.142779    0.253684  0.250495  \n",
      "mnth        0.068457    0.122273  0.120638  \n",
      "hr          0.301202    0.374141  0.394071  \n",
      "holiday     0.031564   -0.047345 -0.030927  \n",
      "weekday     0.032721    0.021578  0.026900  \n",
      "workingday -0.300942    0.134326  0.030284  \n",
      "weathersit -0.152628   -0.120966 -0.142426  \n",
      "temp        0.459616    0.335361  0.404772  \n",
      "atemp       0.454080    0.332559  0.400929  \n",
      "hum        -0.347028   -0.273933 -0.322911  \n",
      "windspeed   0.090287    0.082321  0.093234  \n",
      "casual      1.000000    0.506618  0.694564  \n",
      "registered  0.506618    1.000000  0.972151  \n",
      "cnt         0.694564    0.972151  1.000000  \n"
     ]
    }
   ],
   "source": [
    "# a) Calculate correlation values for all columns\n",
    "correlation_matrix = df.corr()\n",
    "print(correlation_matrix)"
   ]
  },
  {
   "cell_type": "markdown",
   "metadata": {},
   "source": [
    "Strong positive correlation between 'season' and 'month',\n",
    "Strong positive correlation between 'temp' and 'atemp', \n",
    "Strong positive correlations between 'casual', 'registered', and 'cnt' which is expected since 'cnt' is the sum of 'casual' and 'registered'\n",
    "Moderate positive correlation between 'temp' and 'cnt',indicating higher temperatures are associated with more bike rentals\n",
    "Moderate positive correlation between 'yr' and 'cnt' suggesting an increase in bike usage from 2011 to 2012"
   ]
  },
  {
   "cell_type": "code",
   "execution_count": 178,
   "metadata": {},
   "outputs": [
    {
     "data": {
      "text/plain": [
       "(17379, 12)"
      ]
     },
     "execution_count": 178,
     "metadata": {},
     "output_type": "execute_result"
    }
   ],
   "source": [
    "# b) Drop highly correlated features\n",
    "df.drop(columns=['casual', 'registered', 'atemp'], inplace=True)\n",
    "df.shape\n"
   ]
  },
  {
   "cell_type": "code",
   "execution_count": 179,
   "metadata": {},
   "outputs": [],
   "source": [
    "# c) partition the dataset into training and testing data with a test size of 33%. \n",
    "X = df.drop(columns=['cnt'])\n",
    "y = df['cnt']\n",
    "X_train, X_test, y_train, y_test = train_test_split(X, y, test_size=0.33, random_state=204)\n"
   ]
  },
  {
   "cell_type": "code",
   "execution_count": 180,
   "metadata": {},
   "outputs": [
    {
     "name": "stdout",
     "output_type": "stream",
     "text": [
      "(11643, 11)\n",
      "(11643,)\n",
      "(5736, 11)\n"
     ]
    }
   ],
   "source": [
    "print(X_train.shape)\n",
    "print(y_train.shape)\n",
    "print(X_test.shape)"
   ]
  },
  {
   "cell_type": "markdown",
   "metadata": {},
   "source": [
    "Part 3: Baseline Model Construction "
   ]
  },
  {
   "cell_type": "code",
   "execution_count": null,
   "metadata": {},
   "outputs": [],
   "source": [
    "# a)  Baseline Linear Regression\n",
    "model = LinearRegression()\n",
    "# Define evaluation metrics\n",
    "scores = cross_validate(model, X_train, y_train, cv=5, scoring=('r2', 'neg_root_mean_squared_error'))"
   ]
  },
  {
   "cell_type": "code",
   "execution_count": 182,
   "metadata": {},
   "outputs": [
    {
     "name": "stdout",
     "output_type": "stream",
     "text": [
      "Average R-Squared: 0.38495171477432266\n",
      "Average RMSE: 141.9688982622444\n"
     ]
    }
   ],
   "source": [
    "# b) Print the average R-Squared and average RMSE values over the 5 folds. \n",
    "print(f\"Average R-Squared: {scores['test_r2'].mean()}\")\n",
    "print(f\"Average RMSE: {-scores['test_neg_root_mean_squared_error'].mean()}\")"
   ]
  },
  {
   "cell_type": "markdown",
   "metadata": {},
   "source": [
    "Part 4: Initial Model Training "
   ]
  },
  {
   "cell_type": "code",
   "execution_count": 183,
   "metadata": {},
   "outputs": [
    {
     "name": "stdout",
     "output_type": "stream",
     "text": [
      "\n",
      "Encoded features shape: (17379, 52)\n",
      "Number of features after encoding: 52\n"
     ]
    }
   ],
   "source": [
    "# a) Create one-hot-encoded values for categorical columns\n",
    "X_encoded = pd.get_dummies(df.drop('cnt', axis=1), columns=categorical_features, drop_first=True, dtype=int)\n",
    "y = df['cnt']\n",
    "\n",
    "print(f\"\\nEncoded features shape: {X_encoded.shape}\")\n",
    "print(f\"Number of features after encoding: {X_encoded.shape[1]}\")\n"
   ]
  },
  {
   "cell_type": "code",
   "execution_count": 184,
   "metadata": {},
   "outputs": [],
   "source": [
    "# b) Partition the encoded dataset into training and testing data\n",
    "X_train_encoded, X_test_encoded, y_train, y_test = train_test_split(X_encoded, y, test_size=0.33, random_state=204)\n"
   ]
  },
  {
   "cell_type": "code",
   "execution_count": 185,
   "metadata": {},
   "outputs": [
    {
     "name": "stdout",
     "output_type": "stream",
     "text": [
      "(11643, 52)\n"
     ]
    }
   ],
   "source": [
    "print(X_train_encoded.shape)"
   ]
  },
  {
   "cell_type": "code",
   "execution_count": 186,
   "metadata": {},
   "outputs": [],
   "source": [
    "# c) Construct a linear regression model with encoded data\n",
    "model_2 = LinearRegression()\n",
    "scores_2 = cross_validate(model_2, X_train_encoded, y_train, cv=5, scoring=('r2', 'neg_root_mean_squared_error'))"
   ]
  },
  {
   "cell_type": "code",
   "execution_count": 187,
   "metadata": {},
   "outputs": [
    {
     "name": "stdout",
     "output_type": "stream",
     "text": [
      "Average R-Squared: 0.6842933638124724\n",
      "Average RMSE: 101.71641419999462\n"
     ]
    }
   ],
   "source": [
    "# d) Print the average R-Squared and average RMSE values over the 5 folds. \n",
    "print(f\"Average R-Squared: {scores_2['test_r2'].mean()}\")\n",
    "print(f\"Average RMSE: {-scores_2['test_neg_root_mean_squared_error'].mean()}\")"
   ]
  },
  {
   "cell_type": "markdown",
   "metadata": {},
   "source": [
    "Creating dummy variables for categorical features greatly improved model performance as shown the Average R-Squared increased and the Average RMSE decreased."
   ]
  },
  {
   "cell_type": "code",
   "execution_count": 188,
   "metadata": {},
   "outputs": [],
   "source": [
    "# # e) Calculate metrics for a default Decision Tree Regressor\n",
    "dt_model = DecisionTreeRegressor(random_state=0)\n",
    "dt_scores = cross_validate(dt_model, X_train_encoded, y_train, cv=5, scoring=('r2', 'neg_root_mean_squared_error'))"
   ]
  },
  {
   "cell_type": "code",
   "execution_count": 189,
   "metadata": {},
   "outputs": [],
   "source": [
    "# f) Calculate metrics for a default Random Forest Regressor\n",
    "rf_model = RandomForestRegressor(random_state=0)\n",
    "rf_scores = cross_validate(rf_model, X_train_encoded, y_train, cv=5, scoring=('r2', 'neg_root_mean_squared_error'))"
   ]
  },
  {
   "cell_type": "code",
   "execution_count": 190,
   "metadata": {},
   "outputs": [
    {
     "name": "stdout",
     "output_type": "stream",
     "text": [
      "               Algorithm  Average R-Squared  Average RMSE\n",
      "0       LinearRegression           0.684293    101.716414\n",
      "1  DecisionTreeRegressor           0.809224     79.060792\n",
      "2  RandomForestRegressor           0.900175     57.159024\n"
     ]
    }
   ],
   "source": [
    "# g) Present a table with all results\n",
    "results = {\n",
    "    'Algorithm': ['LinearRegression', 'DecisionTreeRegressor', 'RandomForestRegressor'],\n",
    "    'Average R-Squared': [scores_2['test_r2'].mean(), dt_scores['test_r2'].mean(), rf_scores['test_r2'].mean()],\n",
    "    'Average RMSE': [-scores_2['test_neg_root_mean_squared_error'].mean(), -dt_scores['test_neg_root_mean_squared_error'].mean(), -rf_scores['test_neg_root_mean_squared_error'].mean()]\n",
    "}\n",
    "results_df = pd.DataFrame(results)\n",
    "print(results_df)"
   ]
  },
  {
   "cell_type": "markdown",
   "metadata": {},
   "source": [
    "The Random Forest Regressor clearly outperforms both Linear Regression and Decision Tree models, with the highest R-Squared and lowest RMSE."
   ]
  },
  {
   "cell_type": "markdown",
   "metadata": {},
   "source": [
    "Part 5: Model Tuning"
   ]
  },
  {
   "cell_type": "code",
   "execution_count": 191,
   "metadata": {},
   "outputs": [
    {
     "data": {
      "text/html": [
       "<style>#sk-container-id-2 {\n",
       "  /* Definition of color scheme common for light and dark mode */\n",
       "  --sklearn-color-text: #000;\n",
       "  --sklearn-color-text-muted: #666;\n",
       "  --sklearn-color-line: gray;\n",
       "  /* Definition of color scheme for unfitted estimators */\n",
       "  --sklearn-color-unfitted-level-0: #fff5e6;\n",
       "  --sklearn-color-unfitted-level-1: #f6e4d2;\n",
       "  --sklearn-color-unfitted-level-2: #ffe0b3;\n",
       "  --sklearn-color-unfitted-level-3: chocolate;\n",
       "  /* Definition of color scheme for fitted estimators */\n",
       "  --sklearn-color-fitted-level-0: #f0f8ff;\n",
       "  --sklearn-color-fitted-level-1: #d4ebff;\n",
       "  --sklearn-color-fitted-level-2: #b3dbfd;\n",
       "  --sklearn-color-fitted-level-3: cornflowerblue;\n",
       "\n",
       "  /* Specific color for light theme */\n",
       "  --sklearn-color-text-on-default-background: var(--sg-text-color, var(--theme-code-foreground, var(--jp-content-font-color1, black)));\n",
       "  --sklearn-color-background: var(--sg-background-color, var(--theme-background, var(--jp-layout-color0, white)));\n",
       "  --sklearn-color-border-box: var(--sg-text-color, var(--theme-code-foreground, var(--jp-content-font-color1, black)));\n",
       "  --sklearn-color-icon: #696969;\n",
       "\n",
       "  @media (prefers-color-scheme: dark) {\n",
       "    /* Redefinition of color scheme for dark theme */\n",
       "    --sklearn-color-text-on-default-background: var(--sg-text-color, var(--theme-code-foreground, var(--jp-content-font-color1, white)));\n",
       "    --sklearn-color-background: var(--sg-background-color, var(--theme-background, var(--jp-layout-color0, #111)));\n",
       "    --sklearn-color-border-box: var(--sg-text-color, var(--theme-code-foreground, var(--jp-content-font-color1, white)));\n",
       "    --sklearn-color-icon: #878787;\n",
       "  }\n",
       "}\n",
       "\n",
       "#sk-container-id-2 {\n",
       "  color: var(--sklearn-color-text);\n",
       "}\n",
       "\n",
       "#sk-container-id-2 pre {\n",
       "  padding: 0;\n",
       "}\n",
       "\n",
       "#sk-container-id-2 input.sk-hidden--visually {\n",
       "  border: 0;\n",
       "  clip: rect(1px 1px 1px 1px);\n",
       "  clip: rect(1px, 1px, 1px, 1px);\n",
       "  height: 1px;\n",
       "  margin: -1px;\n",
       "  overflow: hidden;\n",
       "  padding: 0;\n",
       "  position: absolute;\n",
       "  width: 1px;\n",
       "}\n",
       "\n",
       "#sk-container-id-2 div.sk-dashed-wrapped {\n",
       "  border: 1px dashed var(--sklearn-color-line);\n",
       "  margin: 0 0.4em 0.5em 0.4em;\n",
       "  box-sizing: border-box;\n",
       "  padding-bottom: 0.4em;\n",
       "  background-color: var(--sklearn-color-background);\n",
       "}\n",
       "\n",
       "#sk-container-id-2 div.sk-container {\n",
       "  /* jupyter's `normalize.less` sets `[hidden] { display: none; }`\n",
       "     but bootstrap.min.css set `[hidden] { display: none !important; }`\n",
       "     so we also need the `!important` here to be able to override the\n",
       "     default hidden behavior on the sphinx rendered scikit-learn.org.\n",
       "     See: https://github.com/scikit-learn/scikit-learn/issues/21755 */\n",
       "  display: inline-block !important;\n",
       "  position: relative;\n",
       "}\n",
       "\n",
       "#sk-container-id-2 div.sk-text-repr-fallback {\n",
       "  display: none;\n",
       "}\n",
       "\n",
       "div.sk-parallel-item,\n",
       "div.sk-serial,\n",
       "div.sk-item {\n",
       "  /* draw centered vertical line to link estimators */\n",
       "  background-image: linear-gradient(var(--sklearn-color-text-on-default-background), var(--sklearn-color-text-on-default-background));\n",
       "  background-size: 2px 100%;\n",
       "  background-repeat: no-repeat;\n",
       "  background-position: center center;\n",
       "}\n",
       "\n",
       "/* Parallel-specific style estimator block */\n",
       "\n",
       "#sk-container-id-2 div.sk-parallel-item::after {\n",
       "  content: \"\";\n",
       "  width: 100%;\n",
       "  border-bottom: 2px solid var(--sklearn-color-text-on-default-background);\n",
       "  flex-grow: 1;\n",
       "}\n",
       "\n",
       "#sk-container-id-2 div.sk-parallel {\n",
       "  display: flex;\n",
       "  align-items: stretch;\n",
       "  justify-content: center;\n",
       "  background-color: var(--sklearn-color-background);\n",
       "  position: relative;\n",
       "}\n",
       "\n",
       "#sk-container-id-2 div.sk-parallel-item {\n",
       "  display: flex;\n",
       "  flex-direction: column;\n",
       "}\n",
       "\n",
       "#sk-container-id-2 div.sk-parallel-item:first-child::after {\n",
       "  align-self: flex-end;\n",
       "  width: 50%;\n",
       "}\n",
       "\n",
       "#sk-container-id-2 div.sk-parallel-item:last-child::after {\n",
       "  align-self: flex-start;\n",
       "  width: 50%;\n",
       "}\n",
       "\n",
       "#sk-container-id-2 div.sk-parallel-item:only-child::after {\n",
       "  width: 0;\n",
       "}\n",
       "\n",
       "/* Serial-specific style estimator block */\n",
       "\n",
       "#sk-container-id-2 div.sk-serial {\n",
       "  display: flex;\n",
       "  flex-direction: column;\n",
       "  align-items: center;\n",
       "  background-color: var(--sklearn-color-background);\n",
       "  padding-right: 1em;\n",
       "  padding-left: 1em;\n",
       "}\n",
       "\n",
       "\n",
       "/* Toggleable style: style used for estimator/Pipeline/ColumnTransformer box that is\n",
       "clickable and can be expanded/collapsed.\n",
       "- Pipeline and ColumnTransformer use this feature and define the default style\n",
       "- Estimators will overwrite some part of the style using the `sk-estimator` class\n",
       "*/\n",
       "\n",
       "/* Pipeline and ColumnTransformer style (default) */\n",
       "\n",
       "#sk-container-id-2 div.sk-toggleable {\n",
       "  /* Default theme specific background. It is overwritten whether we have a\n",
       "  specific estimator or a Pipeline/ColumnTransformer */\n",
       "  background-color: var(--sklearn-color-background);\n",
       "}\n",
       "\n",
       "/* Toggleable label */\n",
       "#sk-container-id-2 label.sk-toggleable__label {\n",
       "  cursor: pointer;\n",
       "  display: flex;\n",
       "  width: 100%;\n",
       "  margin-bottom: 0;\n",
       "  padding: 0.5em;\n",
       "  box-sizing: border-box;\n",
       "  text-align: center;\n",
       "  align-items: start;\n",
       "  justify-content: space-between;\n",
       "  gap: 0.5em;\n",
       "}\n",
       "\n",
       "#sk-container-id-2 label.sk-toggleable__label .caption {\n",
       "  font-size: 0.6rem;\n",
       "  font-weight: lighter;\n",
       "  color: var(--sklearn-color-text-muted);\n",
       "}\n",
       "\n",
       "#sk-container-id-2 label.sk-toggleable__label-arrow:before {\n",
       "  /* Arrow on the left of the label */\n",
       "  content: \"▸\";\n",
       "  float: left;\n",
       "  margin-right: 0.25em;\n",
       "  color: var(--sklearn-color-icon);\n",
       "}\n",
       "\n",
       "#sk-container-id-2 label.sk-toggleable__label-arrow:hover:before {\n",
       "  color: var(--sklearn-color-text);\n",
       "}\n",
       "\n",
       "/* Toggleable content - dropdown */\n",
       "\n",
       "#sk-container-id-2 div.sk-toggleable__content {\n",
       "  max-height: 0;\n",
       "  max-width: 0;\n",
       "  overflow: hidden;\n",
       "  text-align: left;\n",
       "  /* unfitted */\n",
       "  background-color: var(--sklearn-color-unfitted-level-0);\n",
       "}\n",
       "\n",
       "#sk-container-id-2 div.sk-toggleable__content.fitted {\n",
       "  /* fitted */\n",
       "  background-color: var(--sklearn-color-fitted-level-0);\n",
       "}\n",
       "\n",
       "#sk-container-id-2 div.sk-toggleable__content pre {\n",
       "  margin: 0.2em;\n",
       "  border-radius: 0.25em;\n",
       "  color: var(--sklearn-color-text);\n",
       "  /* unfitted */\n",
       "  background-color: var(--sklearn-color-unfitted-level-0);\n",
       "}\n",
       "\n",
       "#sk-container-id-2 div.sk-toggleable__content.fitted pre {\n",
       "  /* unfitted */\n",
       "  background-color: var(--sklearn-color-fitted-level-0);\n",
       "}\n",
       "\n",
       "#sk-container-id-2 input.sk-toggleable__control:checked~div.sk-toggleable__content {\n",
       "  /* Expand drop-down */\n",
       "  max-height: 200px;\n",
       "  max-width: 100%;\n",
       "  overflow: auto;\n",
       "}\n",
       "\n",
       "#sk-container-id-2 input.sk-toggleable__control:checked~label.sk-toggleable__label-arrow:before {\n",
       "  content: \"▾\";\n",
       "}\n",
       "\n",
       "/* Pipeline/ColumnTransformer-specific style */\n",
       "\n",
       "#sk-container-id-2 div.sk-label input.sk-toggleable__control:checked~label.sk-toggleable__label {\n",
       "  color: var(--sklearn-color-text);\n",
       "  background-color: var(--sklearn-color-unfitted-level-2);\n",
       "}\n",
       "\n",
       "#sk-container-id-2 div.sk-label.fitted input.sk-toggleable__control:checked~label.sk-toggleable__label {\n",
       "  background-color: var(--sklearn-color-fitted-level-2);\n",
       "}\n",
       "\n",
       "/* Estimator-specific style */\n",
       "\n",
       "/* Colorize estimator box */\n",
       "#sk-container-id-2 div.sk-estimator input.sk-toggleable__control:checked~label.sk-toggleable__label {\n",
       "  /* unfitted */\n",
       "  background-color: var(--sklearn-color-unfitted-level-2);\n",
       "}\n",
       "\n",
       "#sk-container-id-2 div.sk-estimator.fitted input.sk-toggleable__control:checked~label.sk-toggleable__label {\n",
       "  /* fitted */\n",
       "  background-color: var(--sklearn-color-fitted-level-2);\n",
       "}\n",
       "\n",
       "#sk-container-id-2 div.sk-label label.sk-toggleable__label,\n",
       "#sk-container-id-2 div.sk-label label {\n",
       "  /* The background is the default theme color */\n",
       "  color: var(--sklearn-color-text-on-default-background);\n",
       "}\n",
       "\n",
       "/* On hover, darken the color of the background */\n",
       "#sk-container-id-2 div.sk-label:hover label.sk-toggleable__label {\n",
       "  color: var(--sklearn-color-text);\n",
       "  background-color: var(--sklearn-color-unfitted-level-2);\n",
       "}\n",
       "\n",
       "/* Label box, darken color on hover, fitted */\n",
       "#sk-container-id-2 div.sk-label.fitted:hover label.sk-toggleable__label.fitted {\n",
       "  color: var(--sklearn-color-text);\n",
       "  background-color: var(--sklearn-color-fitted-level-2);\n",
       "}\n",
       "\n",
       "/* Estimator label */\n",
       "\n",
       "#sk-container-id-2 div.sk-label label {\n",
       "  font-family: monospace;\n",
       "  font-weight: bold;\n",
       "  display: inline-block;\n",
       "  line-height: 1.2em;\n",
       "}\n",
       "\n",
       "#sk-container-id-2 div.sk-label-container {\n",
       "  text-align: center;\n",
       "}\n",
       "\n",
       "/* Estimator-specific */\n",
       "#sk-container-id-2 div.sk-estimator {\n",
       "  font-family: monospace;\n",
       "  border: 1px dotted var(--sklearn-color-border-box);\n",
       "  border-radius: 0.25em;\n",
       "  box-sizing: border-box;\n",
       "  margin-bottom: 0.5em;\n",
       "  /* unfitted */\n",
       "  background-color: var(--sklearn-color-unfitted-level-0);\n",
       "}\n",
       "\n",
       "#sk-container-id-2 div.sk-estimator.fitted {\n",
       "  /* fitted */\n",
       "  background-color: var(--sklearn-color-fitted-level-0);\n",
       "}\n",
       "\n",
       "/* on hover */\n",
       "#sk-container-id-2 div.sk-estimator:hover {\n",
       "  /* unfitted */\n",
       "  background-color: var(--sklearn-color-unfitted-level-2);\n",
       "}\n",
       "\n",
       "#sk-container-id-2 div.sk-estimator.fitted:hover {\n",
       "  /* fitted */\n",
       "  background-color: var(--sklearn-color-fitted-level-2);\n",
       "}\n",
       "\n",
       "/* Specification for estimator info (e.g. \"i\" and \"?\") */\n",
       "\n",
       "/* Common style for \"i\" and \"?\" */\n",
       "\n",
       ".sk-estimator-doc-link,\n",
       "a:link.sk-estimator-doc-link,\n",
       "a:visited.sk-estimator-doc-link {\n",
       "  float: right;\n",
       "  font-size: smaller;\n",
       "  line-height: 1em;\n",
       "  font-family: monospace;\n",
       "  background-color: var(--sklearn-color-background);\n",
       "  border-radius: 1em;\n",
       "  height: 1em;\n",
       "  width: 1em;\n",
       "  text-decoration: none !important;\n",
       "  margin-left: 0.5em;\n",
       "  text-align: center;\n",
       "  /* unfitted */\n",
       "  border: var(--sklearn-color-unfitted-level-1) 1pt solid;\n",
       "  color: var(--sklearn-color-unfitted-level-1);\n",
       "}\n",
       "\n",
       ".sk-estimator-doc-link.fitted,\n",
       "a:link.sk-estimator-doc-link.fitted,\n",
       "a:visited.sk-estimator-doc-link.fitted {\n",
       "  /* fitted */\n",
       "  border: var(--sklearn-color-fitted-level-1) 1pt solid;\n",
       "  color: var(--sklearn-color-fitted-level-1);\n",
       "}\n",
       "\n",
       "/* On hover */\n",
       "div.sk-estimator:hover .sk-estimator-doc-link:hover,\n",
       ".sk-estimator-doc-link:hover,\n",
       "div.sk-label-container:hover .sk-estimator-doc-link:hover,\n",
       ".sk-estimator-doc-link:hover {\n",
       "  /* unfitted */\n",
       "  background-color: var(--sklearn-color-unfitted-level-3);\n",
       "  color: var(--sklearn-color-background);\n",
       "  text-decoration: none;\n",
       "}\n",
       "\n",
       "div.sk-estimator.fitted:hover .sk-estimator-doc-link.fitted:hover,\n",
       ".sk-estimator-doc-link.fitted:hover,\n",
       "div.sk-label-container:hover .sk-estimator-doc-link.fitted:hover,\n",
       ".sk-estimator-doc-link.fitted:hover {\n",
       "  /* fitted */\n",
       "  background-color: var(--sklearn-color-fitted-level-3);\n",
       "  color: var(--sklearn-color-background);\n",
       "  text-decoration: none;\n",
       "}\n",
       "\n",
       "/* Span, style for the box shown on hovering the info icon */\n",
       ".sk-estimator-doc-link span {\n",
       "  display: none;\n",
       "  z-index: 9999;\n",
       "  position: relative;\n",
       "  font-weight: normal;\n",
       "  right: .2ex;\n",
       "  padding: .5ex;\n",
       "  margin: .5ex;\n",
       "  width: min-content;\n",
       "  min-width: 20ex;\n",
       "  max-width: 50ex;\n",
       "  color: var(--sklearn-color-text);\n",
       "  box-shadow: 2pt 2pt 4pt #999;\n",
       "  /* unfitted */\n",
       "  background: var(--sklearn-color-unfitted-level-0);\n",
       "  border: .5pt solid var(--sklearn-color-unfitted-level-3);\n",
       "}\n",
       "\n",
       ".sk-estimator-doc-link.fitted span {\n",
       "  /* fitted */\n",
       "  background: var(--sklearn-color-fitted-level-0);\n",
       "  border: var(--sklearn-color-fitted-level-3);\n",
       "}\n",
       "\n",
       ".sk-estimator-doc-link:hover span {\n",
       "  display: block;\n",
       "}\n",
       "\n",
       "/* \"?\"-specific style due to the `<a>` HTML tag */\n",
       "\n",
       "#sk-container-id-2 a.estimator_doc_link {\n",
       "  float: right;\n",
       "  font-size: 1rem;\n",
       "  line-height: 1em;\n",
       "  font-family: monospace;\n",
       "  background-color: var(--sklearn-color-background);\n",
       "  border-radius: 1rem;\n",
       "  height: 1rem;\n",
       "  width: 1rem;\n",
       "  text-decoration: none;\n",
       "  /* unfitted */\n",
       "  color: var(--sklearn-color-unfitted-level-1);\n",
       "  border: var(--sklearn-color-unfitted-level-1) 1pt solid;\n",
       "}\n",
       "\n",
       "#sk-container-id-2 a.estimator_doc_link.fitted {\n",
       "  /* fitted */\n",
       "  border: var(--sklearn-color-fitted-level-1) 1pt solid;\n",
       "  color: var(--sklearn-color-fitted-level-1);\n",
       "}\n",
       "\n",
       "/* On hover */\n",
       "#sk-container-id-2 a.estimator_doc_link:hover {\n",
       "  /* unfitted */\n",
       "  background-color: var(--sklearn-color-unfitted-level-3);\n",
       "  color: var(--sklearn-color-background);\n",
       "  text-decoration: none;\n",
       "}\n",
       "\n",
       "#sk-container-id-2 a.estimator_doc_link.fitted:hover {\n",
       "  /* fitted */\n",
       "  background-color: var(--sklearn-color-fitted-level-3);\n",
       "}\n",
       "</style><div id=\"sk-container-id-2\" class=\"sk-top-container\"><div class=\"sk-text-repr-fallback\"><pre>RandomizedSearchCV(cv=5, estimator=RandomForestRegressor(random_state=0),\n",
       "                   n_iter=20,\n",
       "                   param_distributions={&#x27;max_depth&#x27;: [5, 10, 15, 20, 25, 30, 35,\n",
       "                                                      40],\n",
       "                                        &#x27;max_features&#x27;: [0.1, 0.2, 0.3, 0.4,\n",
       "                                                         0.5, 0.6, 0.7, 0.8,\n",
       "                                                         0.9, 1.0],\n",
       "                                        &#x27;n_estimators&#x27;: [50, 100, 150, 200,\n",
       "                                                         250]},\n",
       "                   random_state=204, scoring=&#x27;neg_root_mean_squared_error&#x27;)</pre><b>In a Jupyter environment, please rerun this cell to show the HTML representation or trust the notebook. <br />On GitHub, the HTML representation is unable to render, please try loading this page with nbviewer.org.</b></div><div class=\"sk-container\" hidden><div class=\"sk-item sk-dashed-wrapped\"><div class=\"sk-label-container\"><div class=\"sk-label fitted sk-toggleable\"><input class=\"sk-toggleable__control sk-hidden--visually\" id=\"sk-estimator-id-4\" type=\"checkbox\" ><label for=\"sk-estimator-id-4\" class=\"sk-toggleable__label fitted sk-toggleable__label-arrow\"><div><div>RandomizedSearchCV</div></div><div><a class=\"sk-estimator-doc-link fitted\" rel=\"noreferrer\" target=\"_blank\" href=\"https://scikit-learn.org/1.6/modules/generated/sklearn.model_selection.RandomizedSearchCV.html\">?<span>Documentation for RandomizedSearchCV</span></a><span class=\"sk-estimator-doc-link fitted\">i<span>Fitted</span></span></div></label><div class=\"sk-toggleable__content fitted\"><pre>RandomizedSearchCV(cv=5, estimator=RandomForestRegressor(random_state=0),\n",
       "                   n_iter=20,\n",
       "                   param_distributions={&#x27;max_depth&#x27;: [5, 10, 15, 20, 25, 30, 35,\n",
       "                                                      40],\n",
       "                                        &#x27;max_features&#x27;: [0.1, 0.2, 0.3, 0.4,\n",
       "                                                         0.5, 0.6, 0.7, 0.8,\n",
       "                                                         0.9, 1.0],\n",
       "                                        &#x27;n_estimators&#x27;: [50, 100, 150, 200,\n",
       "                                                         250]},\n",
       "                   random_state=204, scoring=&#x27;neg_root_mean_squared_error&#x27;)</pre></div> </div></div><div class=\"sk-parallel\"><div class=\"sk-parallel-item\"><div class=\"sk-item\"><div class=\"sk-label-container\"><div class=\"sk-label fitted sk-toggleable\"><input class=\"sk-toggleable__control sk-hidden--visually\" id=\"sk-estimator-id-5\" type=\"checkbox\" ><label for=\"sk-estimator-id-5\" class=\"sk-toggleable__label fitted sk-toggleable__label-arrow\"><div><div>best_estimator_: RandomForestRegressor</div></div></label><div class=\"sk-toggleable__content fitted\"><pre>RandomForestRegressor(max_depth=35, max_features=0.8, n_estimators=200,\n",
       "                      random_state=0)</pre></div> </div></div><div class=\"sk-serial\"><div class=\"sk-item\"><div class=\"sk-estimator fitted sk-toggleable\"><input class=\"sk-toggleable__control sk-hidden--visually\" id=\"sk-estimator-id-6\" type=\"checkbox\" ><label for=\"sk-estimator-id-6\" class=\"sk-toggleable__label fitted sk-toggleable__label-arrow\"><div><div>RandomForestRegressor</div></div><div><a class=\"sk-estimator-doc-link fitted\" rel=\"noreferrer\" target=\"_blank\" href=\"https://scikit-learn.org/1.6/modules/generated/sklearn.ensemble.RandomForestRegressor.html\">?<span>Documentation for RandomForestRegressor</span></a></div></label><div class=\"sk-toggleable__content fitted\"><pre>RandomForestRegressor(max_depth=35, max_features=0.8, n_estimators=200,\n",
       "                      random_state=0)</pre></div> </div></div></div></div></div></div></div></div></div>"
      ],
      "text/plain": [
       "RandomizedSearchCV(cv=5, estimator=RandomForestRegressor(random_state=0),\n",
       "                   n_iter=20,\n",
       "                   param_distributions={'max_depth': [5, 10, 15, 20, 25, 30, 35,\n",
       "                                                      40],\n",
       "                                        'max_features': [0.1, 0.2, 0.3, 0.4,\n",
       "                                                         0.5, 0.6, 0.7, 0.8,\n",
       "                                                         0.9, 1.0],\n",
       "                                        'n_estimators': [50, 100, 150, 200,\n",
       "                                                         250]},\n",
       "                   random_state=204, scoring='neg_root_mean_squared_error')"
      ]
     },
     "execution_count": 191,
     "metadata": {},
     "output_type": "execute_result"
    }
   ],
   "source": [
    "\n",
    "# # a) Identify optimal hyperparameters for Random Forest Regressor using RandomizedSearchCV\n",
    "param_dist = {\n",
    "    'max_depth': [5, 10, 15, 20, 25, 30, 35, 40],\n",
    "    'max_features': [0.1, 0.2, 0.3, 0.4, 0.5, 0.6, 0.7, 0.8, 0.9, 1.0],\n",
    "    'n_estimators': [50, 100, 150, 200, 250]\n",
    "}\n",
    "\n",
    "rf_model = RandomForestRegressor(random_state=0)\n",
    "random_search = RandomizedSearchCV(rf_model, param_distributions=param_dist, n_iter=20, cv=5, scoring='neg_root_mean_squared_error', random_state=204)\n",
    "random_search.fit(X_train_encoded, y_train)\n"
   ]
  },
  {
   "cell_type": "code",
   "execution_count": 194,
   "metadata": {},
   "outputs": [
    {
     "name": "stdout",
     "output_type": "stream",
     "text": [
      "Optimal Hyperparameters: {'n_estimators': 200, 'max_features': 0.8, 'max_depth': 35}\n",
      "Best RMSE: 57.00211618974318\n"
     ]
    }
   ],
   "source": [
    "# b)  Print the optimal hyperparameters and RMSE score\n",
    "\n",
    "print(f\"Optimal Hyperparameters: {random_search.best_params_}\")\n",
    "print(f\"Best RMSE: {-random_search.best_score_}\")"
   ]
  },
  {
   "cell_type": "markdown",
   "metadata": {},
   "source": [
    "c) The optimal hyperparameters found by RandomizedSearchCV were:\n",
    "\n",
    "max_depth: 35\n",
    "max_features: 0.8\n",
    "n_estimators: 200\n",
    "Best RMSE: 57.00211618974318\n",
    " The tuned Random Forest model achieved an RMSE of 57.00, which is a slight improvement over the default Random Forest model's RMSE of 57.15.  This suggests that the default Random Forest parameters were already reasonably effective for this dataset."
   ]
  },
  {
   "cell_type": "code",
   "execution_count": 195,
   "metadata": {},
   "outputs": [
    {
     "name": "stdout",
     "output_type": "stream",
     "text": [
      "R-Squared: 0.9111656869721082\n",
      "RMSE: 54.25852154750552\n"
     ]
    }
   ],
   "source": [
    "# d) Calculate R-Squared Score and RMSE on the optimized Random Forest model on the test set.\n",
    "optimized_rf = random_search.best_estimator_\n",
    "y_pred = optimized_rf.predict(X_test_encoded)\n",
    "r2 = r2_score(y_test, y_pred)\n",
    "print(f\"R-Squared: {r2}\")\n",
    "# Calculate MSE\n",
    "mse = mean_squared_error(y_test, y_pred)\n",
    "# Calculate RMSE by taking the square root of MSE\n",
    "rmse = mse ** 0.5\n",
    "print(f\"RMSE: {rmse}\")"
   ]
  },
  {
   "cell_type": "markdown",
   "metadata": {},
   "source": [
    "The tuned Random Forest performs better on the test set with a higher R-Squared and lower RMSE compared to the default model. This improvement confirms that the hyperparameter tuning was effective and that the model generalizes well to unseen data."
   ]
  }
 ],
 "metadata": {
  "kernelspec": {
   "display_name": "Python 3",
   "language": "python",
   "name": "python3"
  },
  "language_info": {
   "codemirror_mode": {
    "name": "ipython",
    "version": 3
   },
   "file_extension": ".py",
   "mimetype": "text/x-python",
   "name": "python",
   "nbconvert_exporter": "python",
   "pygments_lexer": "ipython3",
   "version": "3.13.2"
  }
 },
 "nbformat": 4,
 "nbformat_minor": 2
}
