{
 "cells": [
  {
   "cell_type": "code",
   "execution_count": 38,
   "metadata": {},
   "outputs": [],
   "source": [
    "# Extract the minimum priority vertex (smallest edge weight) from the list of given vertices\n",
    "# Each vertex is represented as a list with the form [vertex, weight]\n",
    "def extractMin(verts):\n",
    "    minIndex = 0\n",
    "    for v in range(1, len(verts)):\n",
    "        if verts[v][1] < verts[minIndex][1]:\n",
    "            minIndex = v\n",
    "    return verts.pop(minIndex)\n",
    "\n"
   ]
  },
  {
   "cell_type": "code",
   "execution_count": 39,
   "metadata": {},
   "outputs": [],
   "source": [
    "\n",
    "# Prim's Minimum Spanning Tree algorithm\n",
    "def mst(graph, start_vertex=0):\n",
    "    # Number of vertices in the graph\n",
    "    nVerts = len(graph)\n",
    "    # List to store the edges that form the MST\n",
    "    mstEdges = []\n",
    "    # Array to store minimum weights for each vertex\n",
    "    # Set the initial vertex (0) with weight 0 and all others with infinity\n",
    "    vertsToProcess = [[i, float(\"inf\")] for i in range(nVerts)]\n",
    "    # Set the starting vertex's weight to 0\n",
    "    vertsToProcess[start_vertex][1] = 0\n",
    "    # Array to track the parent of each vertex in the MST\n",
    "    parent = [-1] * nVerts\n",
    "\n",
    "\n",
    "    # Process each vertex\n",
    "    while vertsToProcess:\n",
    "        # Extract the vertex with the smallest edge weight\n",
    "        u = extractMin(vertsToProcess)\n",
    "        uVertex, uWeight = u\n",
    "        # If u has a parent (skip the root vertex)\n",
    "        if parent[uVertex] != -1:\n",
    "            mstEdges.append([uVertex, parent[uVertex]])\n",
    "\n",
    "        # Update weights of adjacent vertices\n",
    "        for v in vertsToProcess:\n",
    "            vVertex, vWeight = v\n",
    "            if graph[uVertex][vVertex] > 0 and graph[uVertex][vVertex] < vWeight:\n",
    "                # Update the weight and parent\n",
    "                v[1] = graph[uVertex][vVertex]\n",
    "                parent[vVertex] = uVertex\n",
    "\n",
    "    return mstEdges"
   ]
  },
  {
   "cell_type": "code",
   "execution_count": 40,
   "metadata": {},
   "outputs": [
    {
     "name": "stdout",
     "output_type": "stream",
     "text": [
      "[[1, 0], [3, 1], [2, 3], [5, 3], [4, 5], [7, 1], [6, 0]]\n"
     ]
    }
   ],
   "source": [
    "# Adjacency matrix representation of the graph\n",
    "graph = [\n",
    "    [0, 7, 0, 0, 0, 10, 15, 0],\n",
    "    [7, 0, 12, 5, 0, 0, 0, 9],\n",
    "    [0, 12, 0, 6, 0, 0, 0, 0],\n",
    "    [0, 5, 6, 0, 14, 8, 0, 0],\n",
    "    [0, 0, 0, 14, 0, 3, 0, 0],\n",
    "    [10, 0, 0, 8, 3, 0, 0, 0],\n",
    "    [15, 0, 0, 0, 0, 0, 0, 0],\n",
    "    [0, 9, 0, 0, 0, 0, 0, 0]\n",
    "]\n",
    "\n",
    "# Output MST edges\n",
    "print(mst(graph, start_vertex=0)) "
   ]
  }
 ],
 "metadata": {
  "kernelspec": {
   "display_name": "Python 3",
   "language": "python",
   "name": "python3"
  },
  "language_info": {
   "codemirror_mode": {
    "name": "ipython",
    "version": 3
   },
   "file_extension": ".py",
   "mimetype": "text/x-python",
   "name": "python",
   "nbconvert_exporter": "python",
   "pygments_lexer": "ipython3",
   "version": "3.12.7"
  }
 },
 "nbformat": 4,
 "nbformat_minor": 2
}
