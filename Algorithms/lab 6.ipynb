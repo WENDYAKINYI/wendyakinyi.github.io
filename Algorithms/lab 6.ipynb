{
 "cells": [
  {
   "cell_type": "code",
   "execution_count": 15,
   "metadata": {},
   "outputs": [],
   "source": [
    "class MyHashtable:\n",
    "    def __init__(self, size):  # Creates an empty hashtable\n",
    "        self.size = size\n",
    "        self.table = [None] * self.size  # Table initialized with None\n",
    "        # Status table: \"empty\", \"filled\", \"deleted\"\n",
    "        self.status = [\"empty\"] * self.size\n",
    "\n",
    "    def __str__(self):  # For print\n",
    "        return str(self.table) + \"\\n\" + str(self.status)\n",
    "\n",
    "    def hash_function(self, elem):  # Hash function based on ASCII value of first char\n",
    "        return ord(elem[0]) % self.size\n",
    "\n",
    "    def find_spot(self, elem):\n",
    "        \"\"\" Linear probing to find an available spot \"\"\"\n",
    "        hash = self.hash_function(elem)\n",
    "        original_hash = hash\n",
    "        while self.status[hash] == \"filled\" and self.table[hash] != elem:\n",
    "            hash = (hash + 1) % self.size\n",
    "            if hash == original_hash:\n",
    "                raise Exception(\"Hashtable is full.\")\n",
    "        return hash\n",
    "\n",
    "    def insert(self, elem):  # Adds an element into the hashtable\n",
    "        hash = self.find_spot(elem)\n",
    "        self.table[hash] = elem\n",
    "        self.status[hash] = \"filled\"\n",
    "\n",
    "    def member(self, elem):  # Returns True if element exists in hashtable\n",
    "        hash = self.hash_function(elem)\n",
    "        original_hash = hash\n",
    "        while self.status[hash] != \"empty\":  # Stop if we hit an empty spot\n",
    "            if self.status[hash] == \"filled\" and self.table[hash] == elem:\n",
    "                return True\n",
    "            hash = (hash + 1) % self.size\n",
    "            if hash == original_hash:  # wrap around, the item is not present\n",
    "                break\n",
    "        return False\n",
    "\n",
    "    def delete(self, elem):  # Removes an element from the hashtable\n",
    "        hash = self.hash_function(elem)\n",
    "        original_hash = hash\n",
    "        while self.status[hash] != \"empty\":  # Stop if we hit an empty spot\n",
    "            if self.status[hash] == \"filled\" and self.table[hash] == elem:\n",
    "                self.table[hash] = None\n",
    "                self.status[hash] = \"deleted\"\n",
    "                return\n",
    "            hash = (hash + 1) % self.size\n",
    "            if hash == original_hash:  #wrap around, the item is not present\n",
    "                break\n",
    "\n"
   ]
  },
  {
   "cell_type": "code",
   "execution_count": 16,
   "metadata": {},
   "outputs": [
    {
     "name": "stdout",
     "output_type": "stream",
     "text": [
      "[None, None, None, None, None, None, None, 'amy', None, None]\n",
      "['empty', 'empty', 'empty', 'empty', 'empty', 'empty', 'empty', 'filled', 'empty', 'empty']\n",
      "[None, None, None, None, None, None, None, 'amy', None, 'chase']\n",
      "['empty', 'empty', 'empty', 'empty', 'empty', 'empty', 'empty', 'filled', 'empty', 'filled']\n",
      "['chris', None, None, None, None, None, None, 'amy', None, 'chase']\n",
      "['filled', 'empty', 'empty', 'empty', 'empty', 'empty', 'empty', 'filled', 'empty', 'filled']\n",
      "True\n",
      "True\n",
      "False\n",
      "True\n",
      "['chris', None, None, None, None, None, None, 'amy', None, None]\n",
      "['filled', 'empty', 'empty', 'empty', 'empty', 'empty', 'empty', 'filled', 'empty', 'deleted']\n"
     ]
    }
   ],
   "source": [
    "\n",
    "# Testing code\n",
    "s = MyHashtable(10)\n",
    "s.insert(\"amy\")  # 97\n",
    "print(s)\n",
    "s.insert(\"chase\")  # 99\n",
    "print(s)\n",
    "s.insert(\"chris\")  # 99\n",
    "print(s)\n",
    "print(s.member(\"amy\"))    \n",
    "print(s.member(\"chris\"))  \n",
    "print(s.member(\"alyssa\")) \n",
    "s.delete(\"chase\")\n",
    "print(s.member(\"chris\"))  \n",
    "print(s) "
   ]
  }
 ],
 "metadata": {
  "kernelspec": {
   "display_name": "Python 3",
   "language": "python",
   "name": "python3"
  },
  "language_info": {
   "codemirror_mode": {
    "name": "ipython",
    "version": 3
   },
   "file_extension": ".py",
   "mimetype": "text/x-python",
   "name": "python",
   "nbconvert_exporter": "python",
   "pygments_lexer": "ipython3",
   "version": "3.12.7"
  }
 },
 "nbformat": 4,
 "nbformat_minor": 2
}
