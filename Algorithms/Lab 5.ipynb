{
 "cells": [
  {
   "cell_type": "code",
   "execution_count": 27,
   "metadata": {},
   "outputs": [],
   "source": [
    "class MyStack:\n",
    "    def __init__(self, datatype):\n",
    "        self.stack = []\n",
    "\n",
    "    def push(self, item):\n",
    "        self.stack.append(item)\n",
    "\n",
    "    def pop(self):\n",
    "        if not self.empty():\n",
    "            return self.stack.pop()\n",
    "        else:\n",
    "            raise IndexError(\"pop from empty stack\")\n",
    "\n",
    "    def top(self):\n",
    "        if not self.empty():\n",
    "            return self.stack[-1]\n",
    "        else:\n",
    "            raise IndexError(\"peek at empty stack\")\n",
    "\n",
    "    def empty(self):\n",
    "        return len(self.stack) == 0"
   ]
  },
  {
   "cell_type": "code",
   "execution_count": 28,
   "metadata": {},
   "outputs": [
    {
     "name": "stdout",
     "output_type": "stream",
     "text": [
      "True\n",
      "8\n",
      "False\n",
      "3\n",
      "3\n",
      "5\n"
     ]
    },
    {
     "ename": "IndexError",
     "evalue": "pop from empty stack",
     "output_type": "error",
     "traceback": [
      "\u001b[1;31m---------------------------------------------------------------------------\u001b[0m",
      "\u001b[1;31mIndexError\u001b[0m                                Traceback (most recent call last)",
      "Cell \u001b[1;32mIn[28], line 12\u001b[0m\n\u001b[0;32m     10\u001b[0m \u001b[38;5;28mprint\u001b[39m(s\u001b[38;5;241m.\u001b[39mpop())\n\u001b[0;32m     11\u001b[0m \u001b[38;5;28mprint\u001b[39m(s\u001b[38;5;241m.\u001b[39mpop())\n\u001b[1;32m---> 12\u001b[0m \u001b[38;5;28mprint\u001b[39m(\u001b[43ms\u001b[49m\u001b[38;5;241;43m.\u001b[39;49m\u001b[43mpop\u001b[49m\u001b[43m(\u001b[49m\u001b[43m)\u001b[49m)\n",
      "Cell \u001b[1;32mIn[27], line 12\u001b[0m, in \u001b[0;36mMyStack.pop\u001b[1;34m(self)\u001b[0m\n\u001b[0;32m     10\u001b[0m     \u001b[38;5;28;01mreturn\u001b[39;00m \u001b[38;5;28mself\u001b[39m\u001b[38;5;241m.\u001b[39mstack\u001b[38;5;241m.\u001b[39mpop()\n\u001b[0;32m     11\u001b[0m \u001b[38;5;28;01melse\u001b[39;00m:\n\u001b[1;32m---> 12\u001b[0m     \u001b[38;5;28;01mraise\u001b[39;00m \u001b[38;5;167;01mIndexError\u001b[39;00m(\u001b[38;5;124m\"\u001b[39m\u001b[38;5;124mpop from empty stack\u001b[39m\u001b[38;5;124m\"\u001b[39m)\n",
      "\u001b[1;31mIndexError\u001b[0m: pop from empty stack"
     ]
    }
   ],
   "source": [
    "# Testing MyStack\n",
    "s = MyStack(int)\n",
    "print(s.empty())\n",
    "s.push(5)\n",
    "s.push(8)\n",
    "print(s.pop()) \n",
    "s.push(3)\n",
    "print(s.empty()) \n",
    "print(s.top()) \n",
    "print(s.pop())\n",
    "print(s.pop())\n",
    "print(s.pop())"
   ]
  },
  {
   "cell_type": "code",
   "execution_count": 4,
   "metadata": {},
   "outputs": [],
   "source": [
    "from collections import deque\n",
    "\n",
    "\n",
    "class MyQueue:\n",
    "    def __init__(self, datatype):\n",
    "        self.queue = deque()\n",
    "\n",
    "    def enqueue(self, item):\n",
    "        self.queue.append(item)\n",
    "\n",
    "    def dequeue(self):\n",
    "        if not self.empty():\n",
    "            return self.queue.popleft()\n",
    "        else:\n",
    "            raise IndexError(\"dequeue from empty queue\")\n",
    "\n",
    "    def front(self):\n",
    "        if not self.empty():\n",
    "            return self.queue[0]\n",
    "        else:\n",
    "            raise IndexError(\"peek at empty queue\")\n",
    "\n",
    "    def empty(self):\n",
    "        return len(self.queue) == 0"
   ]
  },
  {
   "cell_type": "code",
   "execution_count": 5,
   "metadata": {},
   "outputs": [
    {
     "name": "stdout",
     "output_type": "stream",
     "text": [
      "True\n",
      "5\n",
      "False\n",
      "8\n",
      "8\n",
      "3\n"
     ]
    },
    {
     "ename": "IndexError",
     "evalue": "dequeue from empty queue",
     "output_type": "error",
     "traceback": [
      "\u001b[1;31m---------------------------------------------------------------------------\u001b[0m",
      "\u001b[1;31mIndexError\u001b[0m                                Traceback (most recent call last)",
      "Cell \u001b[1;32mIn[5], line 12\u001b[0m\n\u001b[0;32m     10\u001b[0m \u001b[38;5;28mprint\u001b[39m(q\u001b[38;5;241m.\u001b[39mdequeue())\n\u001b[0;32m     11\u001b[0m \u001b[38;5;28mprint\u001b[39m(q\u001b[38;5;241m.\u001b[39mdequeue())\n\u001b[1;32m---> 12\u001b[0m \u001b[38;5;28mprint\u001b[39m(\u001b[43mq\u001b[49m\u001b[38;5;241;43m.\u001b[39;49m\u001b[43mdequeue\u001b[49m\u001b[43m(\u001b[49m\u001b[43m)\u001b[49m)\n",
      "Cell \u001b[1;32mIn[4], line 15\u001b[0m, in \u001b[0;36mMyQueue.dequeue\u001b[1;34m(self)\u001b[0m\n\u001b[0;32m     13\u001b[0m     \u001b[38;5;28;01mreturn\u001b[39;00m \u001b[38;5;28mself\u001b[39m\u001b[38;5;241m.\u001b[39mqueue\u001b[38;5;241m.\u001b[39mpopleft()\n\u001b[0;32m     14\u001b[0m \u001b[38;5;28;01melse\u001b[39;00m:\n\u001b[1;32m---> 15\u001b[0m     \u001b[38;5;28;01mraise\u001b[39;00m \u001b[38;5;167;01mIndexError\u001b[39;00m(\u001b[38;5;124m\"\u001b[39m\u001b[38;5;124mdequeue from empty queue\u001b[39m\u001b[38;5;124m\"\u001b[39m)\n",
      "\u001b[1;31mIndexError\u001b[0m: dequeue from empty queue"
     ]
    }
   ],
   "source": [
    "# Testing MyQueue\n",
    "q = MyQueue(int)\n",
    "print(q.empty())\n",
    "q.enqueue(5)\n",
    "q.enqueue(8)\n",
    "print(q.dequeue())\n",
    "q.enqueue(3)\n",
    "print(q.empty())\n",
    "print(q.front())\n",
    "print(q.dequeue())\n",
    "print(q.dequeue())\n",
    "print(q.dequeue())"
   ]
  },
  {
   "cell_type": "code",
   "execution_count": 6,
   "metadata": {},
   "outputs": [],
   "source": [
    "from time import time\n",
    "\n",
    "# Algorithm 1: Divide-and-Conquer\n",
    "\n",
    "\n",
    "def DACcoins(coins, amount):\n",
    "    if amount == 0:  # The base case\n",
    "        return 0\n",
    "    else:  # The recursive case\n",
    "        minCoins = float(\"inf\")\n",
    "        for currentCoin in coins:\n",
    "            if (amount - currentCoin) >= 0:\n",
    "                currentMin = DACcoins(coins, amount - currentCoin) + 1\n",
    "                minCoins = min(minCoins, currentMin)\n",
    "        return minCoins"
   ]
  },
  {
   "cell_type": "code",
   "execution_count": 26,
   "metadata": {},
   "outputs": [],
   "source": [
    "# Algorithm 2: Dynamic Programming\n",
    "def DPcoins(coins, amount):\n",
    "    dp = [float('inf')] * (amount + 1)\n",
    "    dp[0] = 0\n",
    "\n",
    "    for a in range(1, amount + 1):\n",
    "        for coin in coins:\n",
    "            if a - coin >= 0:\n",
    "                dp[a] = min(dp[a], dp[a - coin] + 1)\n",
    "\n",
    "    return dp[amount] if dp[amount] != float('inf') else -1"
   ]
  },
  {
   "cell_type": "code",
   "execution_count": 25,
   "metadata": {},
   "outputs": [
    {
     "name": "stdout",
     "output_type": "stream",
     "text": [
      "DAC:\n",
      "Optimal: 3 in time: 78.7 ms\n",
      "\n",
      "DP:\n",
      "Optimal: 3 in time: 0.2 ms\n"
     ]
    }
   ],
   "source": [
    "# Test\n",
    "C = [1, 5, 10, 12, 25]  # coin denominations\n",
    "A = 29\n",
    "\n",
    "print(\"DAC:\")\n",
    "t1 = time()\n",
    "numCoins = DACcoins(C, A)\n",
    "t2 = time()\n",
    "print(\"Optimal:\", numCoins, \"in time:\", round((t2 - t1) * 1000, 1), \"ms\")\n",
    "\n",
    "print(\"\\nDP:\")\n",
    "t1 = time()\n",
    "numCoins = DPcoins(C, A)\n",
    "t2 = time()\n",
    "print(\"Optimal:\", numCoins, \"in time:\", round((t2 - t1) * 1000, 1), \"ms\")"
   ]
  },
  {
   "cell_type": "markdown",
   "metadata": {},
   "source": [
    "OPTIONAL"
   ]
  },
  {
   "cell_type": "code",
   "execution_count": 17,
   "metadata": {},
   "outputs": [],
   "source": [
    "class CircularQueue:\n",
    "    def __init__(self, capacity):\n",
    "        self.queue = [None] * capacity\n",
    "        self.capacity = capacity\n",
    "        self.front = self.rear = -1\n",
    "\n",
    "    def enqueue(self, item):\n",
    "        # Check if the queue is full\n",
    "        if (self.rear + 1) % self.capacity == self.front:\n",
    "            raise OverflowError(\"Queue is full\")\n",
    "        # First insertion case\n",
    "        if self.front == -1:\n",
    "            self.front = self.rear = 0\n",
    "        else:\n",
    "            self.rear = (self.rear + 1) % self.capacity\n",
    "        self.queue[self.rear] = item\n",
    "\n",
    "    def dequeue(self):\n",
    "        # Check if the queue is empty\n",
    "        if self.front == -1:\n",
    "            raise IndexError(\"Queue is empty\")\n",
    "        item = self.queue[self.front]\n",
    "        # Reset the queue if the last element is dequeued\n",
    "        if self.front == self.rear:\n",
    "            self.front = self.rear = -1\n",
    "        else:\n",
    "            self.front = (self.front + 1) % self.capacity\n",
    "        return item\n",
    "\n",
    "    def front_item(self):\n",
    "        if self.front == -1:\n",
    "            raise IndexError(\"Queue is empty\")\n",
    "        return self.queue[self.front]\n",
    "\n",
    "    def empty(self):\n",
    "        return self.front == -1\n",
    "\n",
    "    def full(self):\n",
    "        return (self.rear + 1) % self.capacity == self.front"
   ]
  },
  {
   "cell_type": "code",
   "execution_count": 18,
   "metadata": {},
   "outputs": [
    {
     "name": "stdout",
     "output_type": "stream",
     "text": [
      "True\n",
      "10\n",
      "20\n",
      "False\n",
      "20\n"
     ]
    }
   ],
   "source": [
    "# Testing Circular Queue\n",
    "cq = CircularQueue(5)\n",
    "print(cq.empty())\n",
    "cq.enqueue(10)\n",
    "cq.enqueue(20)\n",
    "cq.enqueue(30)\n",
    "print(cq.dequeue())\n",
    "print(cq.front_item())\n",
    "cq.enqueue(40)\n",
    "cq.enqueue(50)\n",
    "print(cq.full())\n",
    "print(cq.dequeue())\n",
    "cq.enqueue(60)"
   ]
  },
  {
   "cell_type": "code",
   "execution_count": 22,
   "metadata": {},
   "outputs": [],
   "source": [
    "class MaxHeap:\n",
    "    def __init__(self):\n",
    "        self.heap = []\n",
    "\n",
    "    def add(self, item):\n",
    "        # Add the item at the end of the list\n",
    "        self.heap.append(item)\n",
    "        # Move the new item up to its correct position\n",
    "        self._heapify_up(len(self.heap) - 1)\n",
    "\n",
    "    def remove(self):\n",
    "        if len(self.heap) == 0:\n",
    "            raise IndexError(\"Heap is empty\")\n",
    "        # Swap the root with the last element\n",
    "        root = self.heap[0]\n",
    "        self.heap[0] = self.heap[-1]\n",
    "        self.heap.pop()\n",
    "        # Move the new root down to its correct position\n",
    "        self._heapify_down(0)\n",
    "        return root\n",
    "\n",
    "    def _heapify_up(self, index):\n",
    "        parent = (index - 1) // 2\n",
    "        if index > 0 and self.heap[index] > self.heap[parent]:\n",
    "            # Swap if the current node is greater than its parent\n",
    "            self.heap[index], self.heap[parent] = self.heap[parent], self.heap[index]\n",
    "            # Recursively move up the tree\n",
    "            self._heapify_up(parent)\n",
    "\n",
    "    def _heapify_down(self, index):\n",
    "        largest = index\n",
    "        left = 2 * index + 1\n",
    "        right = 2 * index + 2\n",
    "        # Compare the current node with its left and right children\n",
    "        if left < len(self.heap) and self.heap[left] > self.heap[largest]:\n",
    "            largest = left\n",
    "        if right < len(self.heap) and self.heap[right] > self.heap[largest]:\n",
    "            largest = right\n",
    "        # If the largest is not the current node, swap and continue heapifying down\n",
    "        if largest != index:\n",
    "            self.heap[index], self.heap[largest] = self.heap[largest], self.heap[index]\n",
    "            self._heapify_down(largest)\n",
    "\n",
    "    def get_max(self):\n",
    "        if len(self.heap) == 0:\n",
    "            raise IndexError(\"Heap is empty\")\n",
    "        return self.heap[0]"
   ]
  },
  {
   "cell_type": "code",
   "execution_count": 21,
   "metadata": {},
   "outputs": [
    {
     "name": "stdout",
     "output_type": "stream",
     "text": [
      "30\n",
      "30\n",
      "20\n",
      "20\n",
      "15\n"
     ]
    }
   ],
   "source": [
    "# Testing MaxHeap\n",
    "mh = MaxHeap()\n",
    "mh.add(10)\n",
    "mh.add(20)\n",
    "mh.add(15)\n",
    "mh.add(30)\n",
    "print(mh.get_max())\n",
    "print(mh.remove())  \n",
    "print(mh.get_max())\n",
    "print(mh.remove())\n",
    "print(mh.remove())"
   ]
  }
 ],
 "metadata": {
  "kernelspec": {
   "display_name": "Python 3",
   "language": "python",
   "name": "python3"
  },
  "language_info": {
   "codemirror_mode": {
    "name": "ipython",
    "version": 3
   },
   "file_extension": ".py",
   "mimetype": "text/x-python",
   "name": "python",
   "nbconvert_exporter": "python",
   "pygments_lexer": "ipython3",
   "version": "3.12.7"
  }
 },
 "nbformat": 4,
 "nbformat_minor": 2
}
