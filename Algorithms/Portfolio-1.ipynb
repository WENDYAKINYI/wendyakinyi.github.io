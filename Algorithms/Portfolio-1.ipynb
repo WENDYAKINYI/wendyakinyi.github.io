{
 "cells": [
  {
   "cell_type": "code",
   "execution_count": 1,
   "metadata": {},
   "outputs": [],
   "source": [
    "import csv\n",
    "from decimal import Decimal\n",
    "\n"
   ]
  },
  {
   "cell_type": "code",
   "execution_count": 2,
   "metadata": {},
   "outputs": [
    {
     "name": "stdout",
     "output_type": "stream",
     "text": [
      "Investment Name: California, InvestmentCost: $547700.00, Estimated ROI: $26325.19830920000\n",
      "Investment Name: Texas, InvestmentCost: $196100.00, Estimated ROI: $8026.26083080000\n",
      "Investment Name: New York, InvestmentCost: $300400.00, Estimated ROI: $3974.55545080000\n",
      "Investment Name: Florida, InvestmentCost: $233200.00, Estimated ROI: $9707.10671040000\n",
      "Investment Name: Illinois, InvestmentCost: $181100.00, Estimated ROI: $914.91647560000\n"
     ]
    }
   ],
   "source": [
    "\n",
    "def loadInvestments(investmentFilename):\n",
    "    investments = []\n",
    "\n",
    "    with open(investmentFilename, 'r') as file:\n",
    "        reader = csv.DictReader(file)\n",
    "\n",
    "        # To skip the first row\n",
    "        next(reader)\n",
    "        \n",
    "\n",
    "        for row in reader:\n",
    "            name = row['RegionName']\n",
    "            cost = Decimal(row['Zhvi']).quantize(Decimal(\"0.00\"))\n",
    "            roi = cost * Decimal(row['10Year'])\n",
    "                   \n",
    "            investments.append((name, cost, roi))\n",
    "\n",
    "    return investments\n",
    "\n",
    "\n",
    "# Test\n",
    "\n",
    "investmentFilename = 'state_zhvi_summary_allhomes.csv'\n",
    "investments = loadInvestments(investmentFilename)\n",
    "\n",
    "\n",
    "for investment in investments[:5]:\n",
    "    print(f\"Investment Name: {investment[0]}, InvestmentCost: ${\n",
    "          investment[1]}, Estimated ROI: ${investment[2]}\")"
   ]
  },
  {
   "cell_type": "code",
   "execution_count": 3,
   "metadata": {},
   "outputs": [],
   "source": [
    "def optimizeInvestments(investments, budget):\n",
    "    n = len(investments)\n",
    "\n",
    "    # Initialize DP table and traceback table\n",
    "    dp = [[Decimal(\"0.00\") for _ in range(budget + 1)] for _ in range(n + 1)]\n",
    "    traceback = [[False for _ in range(budget + 1)] for _ in range(n + 1)]\n",
    "\n",
    "    # Fill in the DP table\n",
    "    for i in range(1, n + 1):\n",
    "        name, cost, roi = investments[i - 1]\n",
    "        cost = int(cost)  # Convert to integer for indexing\n",
    "\n",
    "        for j in range(budget + 1):\n",
    "            if cost <= j:\n",
    "                # Option to include the investment\n",
    "                include_investment = roi + dp[i - 1][j - cost]\n",
    "                exclude_investment = dp[i - 1][j]\n",
    "\n",
    "                if include_investment > exclude_investment:\n",
    "                    dp[i][j] = include_investment\n",
    "                    # Mark that we included this investment\n",
    "                    traceback[i][j] = True\n",
    "                else:\n",
    "                    dp[i][j] = exclude_investment\n",
    "            else:\n",
    "                dp[i][j] = dp[i - 1][j]  # Can't include, so carry forward\n",
    "\n",
    "    # Optimal ROI\n",
    "    optimal_roi = dp[n][budget]\n",
    "\n",
    "    # Traceback to find selected investments\n",
    "    selected_investments = []\n",
    "    remaining_budget = budget\n",
    "\n",
    "    for i in range(n, 0, -1):\n",
    "        if traceback[i][remaining_budget]:\n",
    "            name, cost, roi = investments[i - 1]\n",
    "            selected_investments.append(name)\n",
    "            remaining_budget -= int(cost)\n",
    "\n",
    "    # Reverse the selected investments to maintain the original order\n",
    "    selected_investments.reverse()\n",
    "\n",
    "    return optimal_roi, selected_investments"
   ]
  },
  {
   "cell_type": "code",
   "execution_count": 4,
   "metadata": {},
   "outputs": [
    {
     "name": "stdout",
     "output_type": "stream",
     "text": [
      "Optimal Return on Investment: $49455.55658990000\n",
      "Selected Investments: ['Michigan', 'Tennessee', 'Colorado', 'Nevada']\n"
     ]
    }
   ],
   "source": [
    "\n",
    "# Define the budget\n",
    "budget = 1000000\n",
    "\n",
    "# Run the optimizeInvestments function with the loaded data\n",
    "optimal_roi, selected_investments = optimizeInvestments(investments, budget)\n",
    "\n",
    "# Print  results\n",
    "print(f\"Optimal Return on Investment: ${optimal_roi}\")\n",
    "print(\"Selected Investments:\", selected_investments)"
   ]
  }
 ],
 "metadata": {
  "kernelspec": {
   "display_name": "Python 3",
   "language": "python",
   "name": "python3"
  },
  "language_info": {
   "codemirror_mode": {
    "name": "ipython",
    "version": 3
   },
   "file_extension": ".py",
   "mimetype": "text/x-python",
   "name": "python",
   "nbconvert_exporter": "python",
   "pygments_lexer": "ipython3",
   "version": "3.12.7"
  }
 },
 "nbformat": 4,
 "nbformat_minor": 2
}
