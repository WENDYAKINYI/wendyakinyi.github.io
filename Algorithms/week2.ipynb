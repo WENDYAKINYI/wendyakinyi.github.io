{
 "cells": [
  {
   "cell_type": "code",
   "execution_count": 103,
   "metadata": {},
   "outputs": [],
   "source": [
    "import kagglehub\n",
    "import csv\n",
    "from datetime import datetime\n",
    "from decimal import Decimal, getcontext"
   ]
  },
  {
   "cell_type": "code",
   "execution_count": 104,
   "metadata": {},
   "outputs": [
    {
     "name": "stdout",
     "output_type": "stream",
     "text": [
      "Path to dataset files: C:\\Users\\USER\\.cache\\kagglehub\\datasets\\dgawlik\\nyse\\versions\\3\n"
     ]
    }
   ],
   "source": [
    "\n",
    "# Download latest version\n",
    "path = kagglehub.dataset_download(\"dgawlik/nyse\")\n",
    "\n",
    "print(\"Path to dataset files:\", path)"
   ]
  },
  {
   "cell_type": "code",
   "execution_count": 105,
   "metadata": {},
   "outputs": [],
   "source": [
    "\n",
    "# Set the precision for decimal operations\n",
    "getcontext().prec = 28  # A high precision level for financial calculations\n",
    "\n",
    "# Reads stock data from the CSV file for a specific symbol\n",
    "def read_stock_data(filepath, symbol):\n",
    "    stock_data = []\n",
    "    with open(filepath, mode='r') as file:\n",
    "        reader = csv.reader(file)\n",
    "        next(reader)  # Skip the header\n",
    "        for row in reader:\n",
    "            # Filter by symbol\n",
    "            if row[1] == symbol:\n",
    "                date = datetime.strptime(row[0], '%Y-%m-%d')\n",
    "                close_price = Decimal(row[3])\n",
    "                stock_data.append((date, close_price))\n",
    "    return stock_data"
   ]
  },
  {
   "cell_type": "code",
   "execution_count": 106,
   "metadata": {},
   "outputs": [],
   "source": [
    "# Calculates the daily price changes\n",
    "def calculate_price_changes(stock_data):\n",
    "    changes = []\n",
    "    for i in range(1, len(stock_data)):\n",
    "        date = stock_data[i][0]\n",
    "        price_change = stock_data[i][1] - stock_data[i-1][1]\n",
    "        changes.append((price_change))\n",
    "    return changes\n"
   ]
  },
  {
   "cell_type": "code",
   "execution_count": 107,
   "metadata": {},
   "outputs": [],
   "source": [
    "# Max profit using Divide and Conquer (DAC)\n",
    "def max_crossing_profit(prices, low, mid, high):\n",
    "    left_profit = Decimal('-inf')\n",
    "    right_profit = Decimal('-inf')\n",
    "    left_min_idx = right_max_idx = mid\n",
    "    total_left = total_right =Decimal(0)\n",
    "\n",
    "    for i in range(mid, low-1, -1):\n",
    "        total_left += prices[i]\n",
    "        if total_left > left_profit:\n",
    "            left_profit = total_left\n",
    "            left_min_idx = i\n",
    "\n",
    "    for i in range(mid+1, high+1):\n",
    "        total_right += prices[i]\n",
    "        if total_right > right_profit:\n",
    "            right_profit = total_right\n",
    "            right_max_idx = i\n",
    "\n",
    "    return left_min_idx, right_max_idx, left_profit + right_profit"
   ]
  },
  {
   "cell_type": "code",
   "execution_count": 108,
   "metadata": {},
   "outputs": [],
   "source": [
    "def max_profit_dac(prices, low, high):\n",
    "    if low == high:\n",
    "        return low, high, Decimal(0)\n",
    "\n",
    "    mid = (low + high) // 2\n",
    "    left_min, left_max, left_profit = max_profit_dac(prices, low, mid)\n",
    "    right_min, right_max, right_profit = max_profit_dac(prices, mid+1, high)\n",
    "    cross_min, cross_max, cross_profit = max_crossing_profit(\n",
    "        prices, low, mid, high)\n",
    "\n",
    "    if left_profit >= right_profit and left_profit >= cross_profit:\n",
    "        return left_min, left_max, left_profit\n",
    "    elif right_profit >= left_profit and right_profit >= cross_profit:\n",
    "        return right_min, right_max, right_profit\n",
    "    else:\n",
    "        return cross_min, cross_max, cross_profit\n",
    "  "
   ]
  },
  {
   "cell_type": "code",
   "execution_count": 109,
   "metadata": {},
   "outputs": [
    {
     "name": "stdout",
     "output_type": "stream",
     "text": [
      "AAPL Profit: 105.5642852857 buy on day: 22 (2010-02-04) and sell on day: 1291 (2015-02-20)\n"
     ]
    }
   ],
   "source": [
    "# Finds the best buy and sell days for a specific stock using DAC\n",
    "def find_best_buy_and_sell(filepath, symbol):\n",
    "    stock_data = read_stock_data(filepath, symbol)  # Get stock data\n",
    "\n",
    "    if len(stock_data) < 2:\n",
    "        print(f\"Not enough data for symbol: {symbol}\")\n",
    "        return\n",
    "\n",
    "    price_changes = calculate_price_changes(\n",
    "        stock_data)  # Calculate price changes\n",
    "\n",
    "    buy_idx, sell_idx, max_profit = max_profit_dac(\n",
    "        price_changes, 0, len(price_changes) - 1)  # Apply DAC\n",
    "\n",
    "    # Results\n",
    "    print(f\"{symbol} Profit: {max_profit} buy on day: {buy_idx} ({stock_data[buy_idx][0].strftime('%Y-%m-%d')}) \"\n",
    "          f\"and sell on day: {sell_idx} ({stock_data[sell_idx][0].strftime('%Y-%m-%d')})\")\n",
    "\n",
    "\n",
    "# Test for AAPL\n",
    "filepath = \"C:/Users/USER/.cache/kagglehub/datasets/dgawlik/nyse/versions/3/prices-split-adjusted.csv\"\n",
    "symbol = \"AAPL\"  # Specify the stock symbol to be checked\n",
    "find_best_buy_and_sell(filepath, symbol)"
   ]
  },
  {
   "cell_type": "code",
   "execution_count": 110,
   "metadata": {},
   "outputs": [],
   "source": [
    "# Reads the securities file to get all the stock symbols and company names\n",
    "def read_securities(filepath):\n",
    "    securities = {}\n",
    "    with open(filepath, mode='r') as file:\n",
    "        reader = csv.reader(file)\n",
    "        next(reader)  # Skip the header\n",
    "        for row in reader:\n",
    "            symbol = row[0]\n",
    "            company_name = row[1]\n",
    "            securities[symbol] = company_name\n",
    "    return securities"
   ]
  },
  {
   "cell_type": "code",
   "execution_count": 111,
   "metadata": {},
   "outputs": [],
   "source": [
    "# Finding the best stock by applying DAC to all stock symbols\n",
    "def find_best_stock(prices_filepath, securities_filepath):\n",
    "    securities = read_securities(securities_filepath)\n",
    "    best_profit = Decimal('-inf')\n",
    "    best_company = None\n",
    "    best_buy_date = best_sell_date = None\n",
    "\n",
    "    for symbol, company in securities.items():\n",
    "        stock_data = read_stock_data(prices_filepath, symbol)\n",
    "\n",
    "        if len(stock_data) < 2:\n",
    "            # Skip stocks with no data\n",
    "            continue\n",
    "\n",
    "        # Calculate price changes\n",
    "        changes = calculate_price_changes(stock_data)\n",
    "\n",
    "        if len(changes) < 2:\n",
    "            continue\n",
    "\n",
    "        # Divide and Conquer algorithm on price changes\n",
    "        buy_idx, sell_idx, max_profit = max_profit_dac(\n",
    "            changes, 0, len(changes) - 1)\n",
    "\n",
    "        if max_profit > best_profit:\n",
    "            best_profit = max_profit\n",
    "            best_company = company\n",
    "            best_buy_date = stock_data[buy_idx][0]\n",
    "            best_sell_date = stock_data[sell_idx][0]\n",
    "\n",
    "    print(f\"Best stock to buy: \\\"{best_company}\\\" on {best_buy_date} and sell on {\n",
    "          best_sell_date} with profit of {best_profit}\")\n"
   ]
  },
  {
   "cell_type": "code",
   "execution_count": 112,
   "metadata": {},
   "outputs": [
    {
     "name": "stdout",
     "output_type": "stream",
     "text": [
      "Best stock to buy: \"Priceline.com Inc\" on 2010-06-09 00:00:00 and sell on 2016-11-07 00:00:00 with profit of 1402.940003\n"
     ]
    }
   ],
   "source": [
    "\n",
    "# Test to find best stock\n",
    "prices_filepath = \"C:/Users/USER/.cache/kagglehub/datasets/dgawlik/nyse/versions/3/prices-split-adjusted.csv\"\n",
    "securities_filepath = \"C:/Users/USER/.cache/kagglehub/datasets/dgawlik/nyse/versions/3/securities.csv\"\n",
    "find_best_stock(prices_filepath, securities_filepath)"
   ]
  }
 ],
 "metadata": {
  "kernelspec": {
   "display_name": "Python 3",
   "language": "python",
   "name": "python3"
  },
  "language_info": {
   "codemirror_mode": {
    "name": "ipython",
    "version": 3
   },
   "file_extension": ".py",
   "mimetype": "text/x-python",
   "name": "python",
   "nbconvert_exporter": "python",
   "pygments_lexer": "ipython3",
   "version": "3.12.7"
  }
 },
 "nbformat": 4,
 "nbformat_minor": 2
}
