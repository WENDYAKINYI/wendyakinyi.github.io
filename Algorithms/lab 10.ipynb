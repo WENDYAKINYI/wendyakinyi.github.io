{
 "cells": [
  {
   "cell_type": "code",
   "execution_count": 8,
   "metadata": {},
   "outputs": [],
   "source": [
    "# Stack ADT with list implementation\n",
    "class MyStack(object):\n",
    "    def __init__(self, elemType):  # Creates an empty list\n",
    "        self.elemType = elemType\n",
    "        self.state = []  # Empty list\n",
    "\n",
    "    def __str__(self):  # For print\n",
    "        return str(self.state)\n",
    "\n",
    "    def empty(self):\n",
    "        return len(self.state) == 0\n",
    "\n",
    "    def push(self, elem):  # Adds an element to the top of a stack\n",
    "        assert type(elem) == self.elemType\n",
    "        self.state.append(elem)\n",
    "\n",
    "    def pop(self):  # Removes an element from the top of the stack\n",
    "        if self.empty():\n",
    "            raise ValueError(\"Requested top of an empty stack\")\n",
    "        else:\n",
    "            return self.state.pop()\n",
    "\n",
    "    def top(self):  # Returns the top of a nonempty stack\n",
    "        if self.empty():\n",
    "            raise ValueError(\"Requested top of an empty stack\")\n",
    "        else:\n",
    "            return self.state[-1]\n",
    "\n"
   ]
  },
  {
   "cell_type": "code",
   "execution_count": 9,
   "metadata": {},
   "outputs": [],
   "source": [
    "# Graph coloring function\n",
    "\n",
    "\n",
    "def graphColoring(graph, colors):\n",
    "    n = len(graph)  # Number of nodes in the graph\n",
    "    initialState = []  # Start with no nodes colored\n",
    "    s = MyStack(list)  # Stack for depth-first search\n",
    "    s.push(initialState)  # Push the initial state onto the stack\n",
    "\n",
    "    while not s.empty():\n",
    "        currentState = s.pop()  # Get the current state\n",
    "        currentNode = len(currentState)  # The current node to color\n",
    "\n",
    "        # If we have colored all nodes, we found a solution\n",
    "        if currentNode == n:\n",
    "            print(currentState)  # Print the solution\n",
    "            return\n",
    "\n",
    "        # Try all possible colors for the current node\n",
    "        for color in colors:\n",
    "            feasible = True\n",
    "\n",
    "            # Check if this color conflicts with adjacent nodes\n",
    "            for neighbor in range(currentNode):\n",
    "                if graph[currentNode][neighbor] and currentState[neighbor] == color:\n",
    "                    feasible = False\n",
    "                    break\n",
    "\n",
    "            if feasible:\n",
    "                # Create a child state by copying and appending the color\n",
    "                childState = currentState.copy()\n",
    "                childState.append(color)\n",
    "                s.push(childState)  # Push the child state onto the stack\n"
   ]
  },
  {
   "cell_type": "code",
   "execution_count": 10,
   "metadata": {},
   "outputs": [
    {
     "name": "stdout",
     "output_type": "stream",
     "text": [
      "['b', 'g', 'b', 'r', 'g', 'r']\n"
     ]
    }
   ],
   "source": [
    "\n",
    "\n",
    "# Testing code\n",
    "if __name__ == \"__main__\":\n",
    "    # Adjacency matrix representation of a graph\n",
    "    graph = [\n",
    "        [False, True, False, False, False, True],\n",
    "        [True, False, True, False, False, True],\n",
    "        [False, True, False, True, True, False],\n",
    "        [False, False, True, False, True, False],\n",
    "        [False, False, True, True, False, True],\n",
    "        [True, True, False, False, True, False]\n",
    "    ]\n",
    "    colors = ['r', 'g', 'b']  # List of available colors\n",
    "    graphColoring(graph, colors)"
   ]
  }
 ],
 "metadata": {
  "kernelspec": {
   "display_name": "Python 3",
   "language": "python",
   "name": "python3"
  },
  "language_info": {
   "codemirror_mode": {
    "name": "ipython",
    "version": 3
   },
   "file_extension": ".py",
   "mimetype": "text/x-python",
   "name": "python",
   "nbconvert_exporter": "python",
   "pygments_lexer": "ipython3",
   "version": "3.12.7"
  }
 },
 "nbformat": 4,
 "nbformat_minor": 2
}
