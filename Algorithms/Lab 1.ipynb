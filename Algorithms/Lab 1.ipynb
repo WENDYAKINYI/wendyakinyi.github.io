{
 "cells": [
  {
   "cell_type": "markdown",
   "metadata": {},
   "source": [
    "The given code contains a helper function\n",
    "called printMatrix (which simply prints a given matrix in a nicer format) as well as the function\n",
    "you will create called matrixMult. It also contains the testing code you are to use. That is, you\n",
    "are not to change the given code. The matrices must be defined, matrixMult called, and return\n",
    "values used in the way given."
   ]
  },
  {
   "cell_type": "code",
   "execution_count": 1,
   "metadata": {},
   "outputs": [],
   "source": [
    "def printMatrix(m): \n",
    "    for row in m:\n",
    "        print(row)\n"
   ]
  },
  {
   "cell_type": "code",
   "execution_count": 2,
   "metadata": {},
   "outputs": [],
   "source": [
    "def matrixMult(A, B):\n",
    "    # Get the dimensions of A and B\n",
    "    rows_A = len(A)\n",
    "    cols_A = len(A[0])\n",
    "    rows_B = len(B)\n",
    "    cols_B = len(B[0])\n",
    "\n",
    "    # Check if multiplication is possible\n",
    "    if cols_A != rows_B:\n",
    "        print(\"Cannot multiply the matrices A and B because the inner dimensions do not match.\")\n",
    "        return None\n",
    "\n",
    "    # Initialize the result matrix C with zeros\n",
    "    C = [[0 for _ in range(cols_B)] for _ in range(rows_A)]\n",
    "\n",
    "    # Perform matrix multiplication\n",
    "    for i in range(rows_A):\n",
    "        for j in range(cols_B):\n",
    "            for k in range(cols_A):\n",
    "                C[i][j] += A[i][k] * B[k][j]\n",
    "\n",
    "    return C"
   ]
  },
  {
   "cell_type": "code",
   "execution_count": 3,
   "metadata": {},
   "outputs": [
    {
     "name": "stdout",
     "output_type": "stream",
     "text": [
      "[7, 12, 8]\n",
      "[17, 38, 63]\n",
      "[20, 110, 95]\n",
      "\n"
     ]
    }
   ],
   "source": [
    "# Testing code\n",
    "# Test1\n",
    "A = [[2, -3, 3],\n",
    "     [-2, 6, 5],\n",
    "     [4, 7, 8]]\n",
    "B = [[-1, 9, 1],\n",
    "     [0, 6, 5],\n",
    "     [3, 4, 7]]\n",
    "C = matrixMult(A, B)\n",
    "if C is not None:\n",
    "    printMatrix(C)\n",
    "print()"
   ]
  },
  {
   "cell_type": "code",
   "execution_count": 4,
   "metadata": {},
   "outputs": [
    {
     "name": "stdout",
     "output_type": "stream",
     "text": [
      "Cannot multiply the matrices A and B because the inner dimensions do not match.\n",
      "\n"
     ]
    }
   ],
   "source": [
    "# Test2\n",
    "A = [[2, -3, 3, 0],\n",
    "     [-2, 6, 5, 1],\n",
    "     [4, 7, 8, 2]]\n",
    "B = [[-1, 9, 1],\n",
    "     [0, 6, 5],\n",
    "     [3, 4, 7]]\n",
    "C = matrixMult(A, B)\n",
    "if C is not None:\n",
    "    printMatrix(C)\n",
    "print()"
   ]
  },
  {
   "cell_type": "code",
   "execution_count": 5,
   "metadata": {},
   "outputs": [
    {
     "name": "stdout",
     "output_type": "stream",
     "text": [
      "[12, 22, 23]\n",
      "[15, 34, 57]\n"
     ]
    }
   ],
   "source": [
    "# Test3\n",
    "A = [[2, -3, 3, 5],\n",
    "     [-2, 6, 5, -2]]\n",
    "B = [[-1, 9, 1],\n",
    "     [0, 6, 5],\n",
    "     [3, 4, 7],\n",
    "     [1, 2, 3]]\n",
    "C = matrixMult(A, B)\n",
    "if C is not None:\n",
    "    printMatrix(C)"
   ]
  },
  {
   "cell_type": "markdown",
   "metadata": {},
   "source": [
    "Optional: Perform the same task in Numpy and then compare the time needed to perform the multiplication on your computer. Analyze the time needed to perform the multiplication of n x n matrices as a function of n. If there is an advantage to using Numpy, explain why you believe this is the case."
   ]
  },
  {
   "cell_type": "code",
   "execution_count": 6,
   "metadata": {},
   "outputs": [
    {
     "name": "stdout",
     "output_type": "stream",
     "text": [
      "10x10 Matrix:\n",
      "Custom Time: 0.000000s, Numpy Time: 0.000000s\n",
      "\n",
      "100x100 Matrix:\n",
      "Custom Time: 0.449518s, Numpy Time: 0.002396s\n",
      "\n",
      "200x200 Matrix:\n",
      "Custom Time: 4.971609s, Numpy Time: 0.030381s\n",
      "\n",
      "500x500 Matrix:\n",
      "Custom Time: 86.735582s, Numpy Time: 0.662231s\n",
      "\n",
      "1000x1000 Matrix:\n",
      "Custom Time: 711.240036s, Numpy Time: 5.069888s\n",
      "\n"
     ]
    }
   ],
   "source": [
    "import numpy as np\n",
    "import time\n",
    "\n",
    "\n",
    "# Function to time the execution of both custom and Numpy implementations\n",
    "\n",
    "\n",
    "def time_multiplication(n):\n",
    "    A = np.random.randint(1, 10, size=(n, n))\n",
    "    B = np.random.randint(1, 10, size=(n, n))\n",
    "\n",
    "    # Time custom matrix multiplication\n",
    "    A_list = A.tolist()\n",
    "    B_list = B.tolist()\n",
    "\n",
    "    start_custom = time.time()\n",
    "    matrixMult(A_list, B_list)\n",
    "    end_custom = time.time()\n",
    "    custom_time = end_custom - start_custom\n",
    "\n",
    "    # Time Numpy matrix multiplication\n",
    "    start_np = time.time()\n",
    "    np.dot(A, B)\n",
    "    end_np = time.time()\n",
    "    numpy_time = end_np - start_np\n",
    "\n",
    "    return custom_time, numpy_time\n",
    "\n",
    "\n",
    "# Test for increasing n x n matrix sizes\n",
    "matrix_sizes = [10, 100, 200, 500, 1000]\n",
    "for n in matrix_sizes:\n",
    "    custom_time, numpy_time = time_multiplication(n)\n",
    "    print(f\"{n}x{n} Matrix:\")\n",
    "    print(f\"Custom Time: {custom_time:.6f}s, Numpy Time: {numpy_time:.6f}s\\n\")"
   ]
  },
  {
   "cell_type": "markdown",
   "metadata": {},
   "source": [
    "For small matrices, the difference between Numpy and custom code are not significant but as the matrix size grows, Numpy is significantly faster because it uses optimized and compiled routines. Additionally, it uses cache-efficient algorithms that significantly reduce runtime."
   ]
  }
 ],
 "metadata": {
  "kernelspec": {
   "display_name": "Python 3",
   "language": "python",
   "name": "python3"
  },
  "language_info": {
   "codemirror_mode": {
    "name": "ipython",
    "version": 3
   },
   "file_extension": ".py",
   "mimetype": "text/x-python",
   "name": "python",
   "nbconvert_exporter": "python",
   "pygments_lexer": "ipython3",
   "version": "3.12.6"
  }
 },
 "nbformat": 4,
 "nbformat_minor": 2
}
