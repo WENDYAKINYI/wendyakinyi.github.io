{
 "cells": [
  {
   "cell_type": "code",
   "execution_count": 39,
   "metadata": {},
   "outputs": [],
   "source": [
    "def cPairDist(points):\n",
    "    # Sort: Sort the list of points\n",
    "    points = sorted(points)\n",
    "    return recCPairDist(points)\n",
    "\n",
    "\n",
    "def recCPairDist(points):\n",
    "    # Base case : Incase we have only two or three points,we compute the distance directly\n",
    "    if len(points) == 2:\n",
    "        return abs(points[1] - points[0])\n",
    "    elif len(points) == 3:\n",
    "        return min(abs(points[1] - points[0]), abs(points[2] - points[1]), abs(points[2] - points[0]))\n",
    "    \n",
    "    # Divide: Split the list into two equal pieces\n",
    "    mid = len(points) // 2\n",
    "    left_half = points[:mid]\n",
    "    right_half = points[mid:]\n",
    "    \n",
    "    # Conquer: Recursively find the minimum distance in both halves\n",
    "    min_left = recCPairDist(left_half)\n",
    "    min_right = recCPairDist(right_half)\n",
    "    \n",
    "    # Combine: find the minimum distance across the boundary of two halves\n",
    "    min_across = abs(points[mid] - points[mid - 1])\n",
    "    \n",
    "    # Return the minimum of the three distances\n",
    "    return min(min_left, min_right, min_across)"
   ]
  },
  {
   "cell_type": "code",
   "execution_count": 40,
   "metadata": {},
   "outputs": [
    {
     "name": "stdout",
     "output_type": "stream",
     "text": [
      "1\n",
      "1\n",
      "1\n"
     ]
    }
   ],
   "source": [
    "\n",
    "# Test cases\n",
    "points_list_1 = [7, 4, 12, 14, 2, 10, 16, 6]  # left_half = 1, right_half = 2, min_across = 3\n",
    "points_list_2 = [7, 4, 12, 14, 2, 10, 16, 5]  # left_half = 1, right_half = 2, min_across = 3\n",
    "points_list_3 = [14, 8, 2, 6, 3, 10, 12] # left_half = 1, right_half = 2, min_across = 2\n",
    "\n",
    "print(cPairDist(points_list_1))\n",
    "print(cPairDist(points_list_2))\n",
    "print(cPairDist(points_list_3))"
   ]
  },
  {
   "cell_type": "markdown",
   "metadata": {},
   "source": [
    "OPTIONAL\n",
    "\n",
    "Solve the problem with points on a circle, with the distance measured as the shortest path on the arc of the circle."
   ]
  },
  {
   "cell_type": "code",
   "execution_count": 41,
   "metadata": {},
   "outputs": [
    {
     "name": "stdout",
     "output_type": "stream",
     "text": [
      "1\n",
      "1\n",
      "1\n"
     ]
    }
   ],
   "source": [
    "def cPairDistCircle(points):\n",
    "    # 1: Sort the list of points\n",
    "    points = sorted(points)\n",
    "\n",
    "    # 2: Calculate the direct distances between adjacent points\n",
    "    min_dist = float('inf')\n",
    "    for i in range(len(points) - 1):\n",
    "        direct_dist = points[i+1] - points[i]\n",
    "        min_dist = min(min_dist, direct_dist)\n",
    "\n",
    "    # 3: Handle the wrap-around case (distance from last point to first point on the circle)\n",
    "    wrap_around_dist = (points[0] + (max(points) - points[-1]))\n",
    "    min_dist = min(min_dist, wrap_around_dist)\n",
    "\n",
    "    return min_dist\n",
    "\n",
    "\n",
    "# Test cases\n",
    "points_list_1 = [7, 4, 12, 14, 2, 10, 16, 6]\n",
    "points_list_2 = [7, 4, 12, 14, 2, 10, 16, 5]\n",
    "points_list_3 = [14, 8, 2, 6, 3, 10, 12]\n",
    "\n",
    "print(cPairDistCircle(points_list_1))\n",
    "print(cPairDistCircle(points_list_2))\n",
    "print(cPairDistCircle(points_list_3))"
   ]
  },
  {
   "cell_type": "markdown",
   "metadata": {},
   "source": [
    "To implement a Divide-and-Conquer (DAC) method for finding the closest pair of points in a plane, we first sort Points by X and Y Coordinates, divide the points into two halves, recursively find the closest pair in each half, and then considering the points across the dividing line to find the minimum distance in the entire set. The algorithm can be made more efficient by using spatial relationships, reducing the need to compare every point in one half with every point in the other half."
   ]
  },
  {
   "cell_type": "code",
   "execution_count": 42,
   "metadata": {},
   "outputs": [
    {
     "name": "stdout",
     "output_type": "stream",
     "text": [
      "The smallest distance is: 1.4142135623730951\n"
     ]
    }
   ],
   "source": [
    "import math\n",
    "\n",
    "# Function to calculate the Euclidean distance between two points\n",
    "\n",
    "\n",
    "def euclidean_distance(p1, p2):\n",
    "    return math.sqrt((p1[0] - p2[0])**2 + (p1[1] - p2[1])**2)\n",
    "\n",
    "# Brute-force method to calculate the closest pair distance for small sets (2 or 3 points)\n",
    "\n",
    "def brute_force_closest_pair(points):\n",
    "    min_dist = float('inf')\n",
    "    for i in range(len(points)):\n",
    "        for j in range(i + 1, len(points)):\n",
    "            dist = euclidean_distance(points[i], points[j])\n",
    "            min_dist = min(min_dist, dist)\n",
    "    return min_dist\n",
    "\n",
    "# Find the closest pair within the strip\n",
    "\n",
    "def find_closest_in_strip(strip, delta):\n",
    "    min_dist = delta\n",
    "    for i in range(len(strip)):\n",
    "        # Only need to check the next 7 points in the strip\n",
    "        for j in range(i + 1, min(i + 7, len(strip))):\n",
    "            dist = euclidean_distance(strip[i], strip[j])\n",
    "            min_dist = min(min_dist, dist)\n",
    "    return min_dist\n",
    "\n",
    "# Recursive function for Divide and Conquer\n",
    "\n",
    "def closest_pair(points_x, points_y):\n",
    "    # Base case: If there are 2 or 3 points, use brute-force\n",
    "    if len(points_x) <= 3:\n",
    "        return brute_force_closest_pair(points_x)\n",
    "\n",
    "    # Step 1: Divide the points into left and right halves\n",
    "    mid = len(points_x) // 2\n",
    "    left_x = points_x[:mid]\n",
    "    right_x = points_x[mid:]\n",
    "\n",
    "    # Find the midpoint x-coordinate\n",
    "    mid_x = points_x[mid][0]\n",
    "\n",
    "    # Divide points_y into left and right halves\n",
    "    left_y = [p for p in points_y if p[0] <= mid_x]\n",
    "    right_y = [p for p in points_y if p[0] > mid_x]\n",
    "\n",
    "    # Step 2: Recursive closest pair calls\n",
    "    min_left = closest_pair(left_x, left_y)\n",
    "    min_right = closest_pair(right_x, right_y)\n",
    "\n",
    "    # Get the minimum distance from both halves\n",
    "    delta = min(min_left, min_right)\n",
    "\n",
    "    # Step 3: Create a strip of points close to the dividing line\n",
    "    strip = [p for p in points_y if abs(p[0] - mid_x) < delta]\n",
    "\n",
    "    # Step 4: Find the closest pair within the strip\n",
    "    min_strip = find_closest_in_strip(strip, delta)\n",
    "\n",
    "    # Return the minimum distance found\n",
    "    return min(delta, min_strip)\n",
    "\n",
    "# Wrapper function to initiate the algorithm\n",
    "\n",
    "def closest_pair_of_points(points):\n",
    "    # Step 1: Sort the points by x-coordinate and y-coordinate\n",
    "    points_x = sorted(points, key=lambda p: p[0])\n",
    "    points_y = sorted(points, key=lambda p: p[1])\n",
    "\n",
    "    # Step 2: Call the recursive function\n",
    "    return closest_pair(points_x, points_y)\n",
    "\n",
    "\n",
    "# Test case\n",
    "points = [(2, 3), (12, 30), (40, 50), (5, 1), (12, 10), (3, 4)]\n",
    "\n",
    "# Call the function and print the result\n",
    "min_distance = closest_pair_of_points(points)\n",
    "print(f\"The smallest distance is: {min_distance}\")"
   ]
  },
  {
   "cell_type": "markdown",
   "metadata": {},
   "source": [
    "The Divide-and-Conquer algorithm scales efficiently with a time complexity of O(n log n), efficient memory use, and potential for parallelization, making it suitable for large sets of points. It leverages the recursive structure to break down the problem, combined with the optimization of limiting the number of comparisons across the dividing line using geometry."
   ]
  }
 ],
 "metadata": {
  "kernelspec": {
   "display_name": "Python 3",
   "language": "python",
   "name": "python3"
  },
  "language_info": {
   "codemirror_mode": {
    "name": "ipython",
    "version": 3
   },
   "file_extension": ".py",
   "mimetype": "text/x-python",
   "name": "python",
   "nbconvert_exporter": "python",
   "pygments_lexer": "ipython3",
   "version": "3.12.6"
  }
 },
 "nbformat": 4,
 "nbformat_minor": 2
}
